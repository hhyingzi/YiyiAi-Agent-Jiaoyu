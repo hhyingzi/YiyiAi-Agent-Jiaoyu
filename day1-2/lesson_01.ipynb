{
 "cells": [
  {
   "cell_type": "code",
   "execution_count": 8,
   "metadata": {},
   "outputs": [
    {
     "name": "stdout",
     "output_type": "stream",
     "text": [
      "The dotenv extension is already loaded. To reload it, use:\n",
      "  %reload_ext dotenv\n",
      "黄色的。\n"
     ]
    }
   ],
   "source": [
    "# 加载环境变量，如果你用的是OpenAI key就用这个方案！去掉注释即可！后面定义本地model的时候，把它注释\n",
    "import dotenv\n",
    "%load_ext dotenv\n",
    "%dotenv\n",
    "\n",
    "# test chat\n",
    "from llama_index.llms.openai import OpenAI\n",
    "response = OpenAI(model=\"gpt-3.5-turbo\").complete(\"香蕉的颜色是\")\n",
    "print(response)"
   ]
  },
  {
   "cell_type": "code",
   "execution_count": 9,
   "metadata": {},
   "outputs": [],
   "source": [
    "import nest_asyncio\n",
    "nest_asyncio.apply()"
   ]
  },
  {
   "cell_type": "code",
   "execution_count": 63,
   "metadata": {
    "scrolled": true
   },
   "outputs": [
    {
     "name": "stdout",
     "output_type": "stream",
     "text": [
      "Looking in indexes: https://pypi.tuna.tsinghua.edu.cn/simple\n",
      "Requirement already satisfied: python-dotenv in e:\\myenv\\anaconda\\envs\\llm\\lib\\site-packages (1.0.1)\n",
      "Requirement already satisfied: ipykernel in e:\\myenv\\anaconda\\envs\\llm\\lib\\site-packages (6.28.0)\n",
      "Requirement already satisfied: llama-index in e:\\myenv\\anaconda\\envs\\llm\\lib\\site-packages (0.10.46)\n",
      "Requirement already satisfied: nest_asyncio in e:\\myenv\\anaconda\\envs\\llm\\lib\\site-packages (1.6.0)\n",
      "Requirement already satisfied: comm>=0.1.1 in e:\\myenv\\anaconda\\envs\\llm\\lib\\site-packages (from ipykernel) (0.2.1)\n",
      "Requirement already satisfied: debugpy>=1.6.5 in e:\\myenv\\anaconda\\envs\\llm\\lib\\site-packages (from ipykernel) (1.6.7)\n",
      "Requirement already satisfied: ipython>=7.23.1 in e:\\myenv\\anaconda\\envs\\llm\\lib\\site-packages (from ipykernel) (8.12.3)\n",
      "Requirement already satisfied: jupyter-client>=6.1.12 in e:\\myenv\\anaconda\\envs\\llm\\lib\\site-packages (from ipykernel) (8.6.0)\n",
      "Requirement already satisfied: jupyter-core!=5.0.*,>=4.12 in e:\\myenv\\anaconda\\envs\\llm\\lib\\site-packages (from ipykernel) (5.5.0)\n",
      "Requirement already satisfied: matplotlib-inline>=0.1 in e:\\myenv\\anaconda\\envs\\llm\\lib\\site-packages (from ipykernel) (0.1.6)\n",
      "Requirement already satisfied: packaging in e:\\myenv\\anaconda\\envs\\llm\\lib\\site-packages (from ipykernel) (23.2)\n",
      "Requirement already satisfied: psutil in e:\\myenv\\anaconda\\envs\\llm\\lib\\site-packages (from ipykernel) (5.9.0)\n",
      "Requirement already satisfied: pyzmq>=24 in e:\\myenv\\anaconda\\envs\\llm\\lib\\site-packages (from ipykernel) (25.1.2)\n",
      "Requirement already satisfied: tornado>=6.1 in e:\\myenv\\anaconda\\envs\\llm\\lib\\site-packages (from ipykernel) (6.3.3)\n",
      "Requirement already satisfied: traitlets>=5.4.0 in e:\\myenv\\anaconda\\envs\\llm\\lib\\site-packages (from ipykernel) (5.14.3)\n",
      "Requirement already satisfied: llama-index-agent-openai<0.3.0,>=0.1.4 in e:\\myenv\\anaconda\\envs\\llm\\lib\\site-packages (from llama-index) (0.2.7)\n",
      "Requirement already satisfied: llama-index-cli<0.2.0,>=0.1.2 in e:\\myenv\\anaconda\\envs\\llm\\lib\\site-packages (from llama-index) (0.1.12)\n",
      "Requirement already satisfied: llama-index-core==0.10.46 in e:\\myenv\\anaconda\\envs\\llm\\lib\\site-packages (from llama-index) (0.10.46)\n",
      "Requirement already satisfied: llama-index-embeddings-openai<0.2.0,>=0.1.5 in e:\\myenv\\anaconda\\envs\\llm\\lib\\site-packages (from llama-index) (0.1.10)\n",
      "Requirement already satisfied: llama-index-indices-managed-llama-cloud<0.2.0,>=0.1.2 in e:\\myenv\\anaconda\\envs\\llm\\lib\\site-packages (from llama-index) (0.1.6)\n",
      "Requirement already satisfied: llama-index-legacy<0.10.0,>=0.9.48 in e:\\myenv\\anaconda\\envs\\llm\\lib\\site-packages (from llama-index) (0.9.48)\n",
      "Requirement already satisfied: llama-index-llms-openai<0.2.0,>=0.1.13 in e:\\myenv\\anaconda\\envs\\llm\\lib\\site-packages (from llama-index) (0.1.22)\n",
      "Requirement already satisfied: llama-index-multi-modal-llms-openai<0.2.0,>=0.1.3 in e:\\myenv\\anaconda\\envs\\llm\\lib\\site-packages (from llama-index) (0.1.6)\n",
      "Requirement already satisfied: llama-index-program-openai<0.2.0,>=0.1.3 in e:\\myenv\\anaconda\\envs\\llm\\lib\\site-packages (from llama-index) (0.1.6)\n",
      "Requirement already satisfied: llama-index-question-gen-openai<0.2.0,>=0.1.2 in e:\\myenv\\anaconda\\envs\\llm\\lib\\site-packages (from llama-index) (0.1.3)\n",
      "Requirement already satisfied: llama-index-readers-file<0.2.0,>=0.1.4 in e:\\myenv\\anaconda\\envs\\llm\\lib\\site-packages (from llama-index) (0.1.25)\n",
      "Requirement already satisfied: llama-index-readers-llama-parse<0.2.0,>=0.1.2 in e:\\myenv\\anaconda\\envs\\llm\\lib\\site-packages (from llama-index) (0.1.4)\n",
      "Requirement already satisfied: PyYAML>=6.0.1 in e:\\myenv\\anaconda\\envs\\llm\\lib\\site-packages (from llama-index-core==0.10.46->llama-index) (6.0.1)\n",
      "Requirement already satisfied: SQLAlchemy>=1.4.49 in e:\\myenv\\anaconda\\envs\\llm\\lib\\site-packages (from SQLAlchemy[asyncio]>=1.4.49->llama-index-core==0.10.46->llama-index) (2.0.30)\n",
      "Requirement already satisfied: aiohttp<4.0.0,>=3.8.6 in e:\\myenv\\anaconda\\envs\\llm\\lib\\site-packages (from llama-index-core==0.10.46->llama-index) (3.9.5)\n",
      "Requirement already satisfied: dataclasses-json in e:\\myenv\\anaconda\\envs\\llm\\lib\\site-packages (from llama-index-core==0.10.46->llama-index) (0.6.7)\n",
      "Requirement already satisfied: deprecated>=1.2.9.3 in e:\\myenv\\anaconda\\envs\\llm\\lib\\site-packages (from llama-index-core==0.10.46->llama-index) (1.2.14)\n",
      "Requirement already satisfied: dirtyjson<2.0.0,>=1.0.8 in e:\\myenv\\anaconda\\envs\\llm\\lib\\site-packages (from llama-index-core==0.10.46->llama-index) (1.0.8)\n",
      "Requirement already satisfied: fsspec>=2023.5.0 in e:\\myenv\\anaconda\\envs\\llm\\lib\\site-packages (from llama-index-core==0.10.46->llama-index) (2024.6.0)\n",
      "Requirement already satisfied: httpx in e:\\myenv\\anaconda\\envs\\llm\\lib\\site-packages (from llama-index-core==0.10.46->llama-index) (0.26.0)\n",
      "Requirement already satisfied: llamaindex-py-client<0.2.0,>=0.1.18 in e:\\myenv\\anaconda\\envs\\llm\\lib\\site-packages (from llama-index-core==0.10.46->llama-index) (0.1.19)\n",
      "Requirement already satisfied: networkx>=3.0 in e:\\myenv\\anaconda\\envs\\llm\\lib\\site-packages (from llama-index-core==0.10.46->llama-index) (3.3)\n",
      "Requirement already satisfied: nltk<4.0.0,>=3.8.1 in e:\\myenv\\anaconda\\envs\\llm\\lib\\site-packages (from llama-index-core==0.10.46->llama-index) (3.8.1)\n",
      "Requirement already satisfied: numpy<2.0.0 in e:\\myenv\\anaconda\\envs\\llm\\lib\\site-packages (from llama-index-core==0.10.46->llama-index) (1.26.4)\n",
      "Requirement already satisfied: openai>=1.1.0 in e:\\myenv\\anaconda\\envs\\llm\\lib\\site-packages (from llama-index-core==0.10.46->llama-index) (1.25.0)\n",
      "Requirement already satisfied: pandas in e:\\myenv\\anaconda\\envs\\llm\\lib\\site-packages (from llama-index-core==0.10.46->llama-index) (2.2.2)\n",
      "Requirement already satisfied: pillow>=9.0.0 in e:\\myenv\\anaconda\\envs\\llm\\lib\\site-packages (from llama-index-core==0.10.46->llama-index) (10.3.0)\n",
      "Requirement already satisfied: requests>=2.31.0 in e:\\myenv\\anaconda\\envs\\llm\\lib\\site-packages (from llama-index-core==0.10.46->llama-index) (2.32.2)\n",
      "Requirement already satisfied: tenacity<8.4.0,>=8.2.0 in e:\\myenv\\anaconda\\envs\\llm\\lib\\site-packages (from llama-index-core==0.10.46->llama-index) (8.3.0)\n",
      "Requirement already satisfied: tiktoken>=0.3.3 in e:\\myenv\\anaconda\\envs\\llm\\lib\\site-packages (from llama-index-core==0.10.46->llama-index) (0.7.0)\n",
      "Requirement already satisfied: tqdm<5.0.0,>=4.66.1 in e:\\myenv\\anaconda\\envs\\llm\\lib\\site-packages (from llama-index-core==0.10.46->llama-index) (4.66.4)\n",
      "Requirement already satisfied: typing-extensions>=4.5.0 in e:\\myenv\\anaconda\\envs\\llm\\lib\\site-packages (from llama-index-core==0.10.46->llama-index) (4.11.0)\n",
      "Requirement already satisfied: typing-inspect>=0.8.0 in e:\\myenv\\anaconda\\envs\\llm\\lib\\site-packages (from llama-index-core==0.10.46->llama-index) (0.9.0)\n",
      "Requirement already satisfied: wrapt in e:\\myenv\\anaconda\\envs\\llm\\lib\\site-packages (from llama-index-core==0.10.46->llama-index) (1.16.0)\n",
      "Requirement already satisfied: backcall in e:\\myenv\\anaconda\\envs\\llm\\lib\\site-packages (from ipython>=7.23.1->ipykernel) (0.2.0)\n",
      "Requirement already satisfied: decorator in e:\\myenv\\anaconda\\envs\\llm\\lib\\site-packages (from ipython>=7.23.1->ipykernel) (5.1.1)\n",
      "Requirement already satisfied: jedi>=0.16 in e:\\myenv\\anaconda\\envs\\llm\\lib\\site-packages (from ipython>=7.23.1->ipykernel) (0.18.1)\n",
      "Requirement already satisfied: pickleshare in e:\\myenv\\anaconda\\envs\\llm\\lib\\site-packages (from ipython>=7.23.1->ipykernel) (0.7.5)\n",
      "Requirement already satisfied: prompt-toolkit!=3.0.37,<3.1.0,>=3.0.30 in e:\\myenv\\anaconda\\envs\\llm\\lib\\site-packages (from ipython>=7.23.1->ipykernel) (3.0.43)\n",
      "Requirement already satisfied: pygments>=2.4.0 in e:\\myenv\\anaconda\\envs\\llm\\lib\\site-packages (from ipython>=7.23.1->ipykernel) (2.15.1)\n",
      "Requirement already satisfied: stack-data in e:\\myenv\\anaconda\\envs\\llm\\lib\\site-packages (from ipython>=7.23.1->ipykernel) (0.2.0)\n",
      "Requirement already satisfied: colorama in e:\\myenv\\anaconda\\envs\\llm\\lib\\site-packages (from ipython>=7.23.1->ipykernel) (0.4.6)\n",
      "Requirement already satisfied: python-dateutil>=2.8.2 in e:\\myenv\\anaconda\\envs\\llm\\lib\\site-packages (from jupyter-client>=6.1.12->ipykernel) (2.9.0.post0)\n",
      "Requirement already satisfied: platformdirs>=2.5 in e:\\myenv\\anaconda\\envs\\llm\\lib\\site-packages (from jupyter-core!=5.0.*,>=4.12->ipykernel) (3.10.0)\n",
      "Requirement already satisfied: pywin32>=300 in e:\\myenv\\anaconda\\envs\\llm\\lib\\site-packages (from jupyter-core!=5.0.*,>=4.12->ipykernel) (305.1)\n",
      "Requirement already satisfied: beautifulsoup4<5.0.0,>=4.12.3 in e:\\myenv\\anaconda\\envs\\llm\\lib\\site-packages (from llama-index-readers-file<0.2.0,>=0.1.4->llama-index) (4.12.3)\n",
      "Requirement already satisfied: pypdf<5.0.0,>=4.0.1 in e:\\myenv\\anaconda\\envs\\llm\\lib\\site-packages (from llama-index-readers-file<0.2.0,>=0.1.4->llama-index) (4.2.0)\n",
      "Requirement already satisfied: striprtf<0.0.27,>=0.0.26 in e:\\myenv\\anaconda\\envs\\llm\\lib\\site-packages (from llama-index-readers-file<0.2.0,>=0.1.4->llama-index) (0.0.26)\n",
      "Requirement already satisfied: llama-parse<0.5.0,>=0.4.0 in e:\\myenv\\anaconda\\envs\\llm\\lib\\site-packages (from llama-index-readers-llama-parse<0.2.0,>=0.1.2->llama-index) (0.4.4)\n",
      "Requirement already satisfied: aiosignal>=1.1.2 in e:\\myenv\\anaconda\\envs\\llm\\lib\\site-packages (from aiohttp<4.0.0,>=3.8.6->llama-index-core==0.10.46->llama-index) (1.3.1)\n",
      "Requirement already satisfied: attrs>=17.3.0 in e:\\myenv\\anaconda\\envs\\llm\\lib\\site-packages (from aiohttp<4.0.0,>=3.8.6->llama-index-core==0.10.46->llama-index) (23.1.0)\n",
      "Requirement already satisfied: frozenlist>=1.1.1 in e:\\myenv\\anaconda\\envs\\llm\\lib\\site-packages (from aiohttp<4.0.0,>=3.8.6->llama-index-core==0.10.46->llama-index) (1.4.1)\n",
      "Requirement already satisfied: multidict<7.0,>=4.5 in e:\\myenv\\anaconda\\envs\\llm\\lib\\site-packages (from aiohttp<4.0.0,>=3.8.6->llama-index-core==0.10.46->llama-index) (6.0.5)\n",
      "Requirement already satisfied: yarl<2.0,>=1.0 in e:\\myenv\\anaconda\\envs\\llm\\lib\\site-packages (from aiohttp<4.0.0,>=3.8.6->llama-index-core==0.10.46->llama-index) (1.9.4)\n",
      "Requirement already satisfied: soupsieve>1.2 in e:\\myenv\\anaconda\\envs\\llm\\lib\\site-packages (from beautifulsoup4<5.0.0,>=4.12.3->llama-index-readers-file<0.2.0,>=0.1.4->llama-index) (2.5)\n",
      "Requirement already satisfied: parso<0.9.0,>=0.8.0 in e:\\myenv\\anaconda\\envs\\llm\\lib\\site-packages (from jedi>=0.16->ipython>=7.23.1->ipykernel) (0.8.3)\n",
      "Requirement already satisfied: pydantic>=1.10 in e:\\myenv\\anaconda\\envs\\llm\\lib\\site-packages (from llamaindex-py-client<0.2.0,>=0.1.18->llama-index-core==0.10.46->llama-index) (2.5.3)\n",
      "Requirement already satisfied: anyio in e:\\myenv\\anaconda\\envs\\llm\\lib\\site-packages (from httpx->llama-index-core==0.10.46->llama-index) (4.2.0)\n",
      "Requirement already satisfied: certifi in e:\\myenv\\anaconda\\envs\\llm\\lib\\site-packages (from httpx->llama-index-core==0.10.46->llama-index) (2024.6.2)\n",
      "Requirement already satisfied: httpcore==1.* in e:\\myenv\\anaconda\\envs\\llm\\lib\\site-packages (from httpx->llama-index-core==0.10.46->llama-index) (1.0.2)\n",
      "Requirement already satisfied: idna in e:\\myenv\\anaconda\\envs\\llm\\lib\\site-packages (from httpx->llama-index-core==0.10.46->llama-index) (3.7)\n",
      "Requirement already satisfied: sniffio in e:\\myenv\\anaconda\\envs\\llm\\lib\\site-packages (from httpx->llama-index-core==0.10.46->llama-index) (1.3.0)\n",
      "Requirement already satisfied: h11<0.15,>=0.13 in e:\\myenv\\anaconda\\envs\\llm\\lib\\site-packages (from httpcore==1.*->httpx->llama-index-core==0.10.46->llama-index) (0.14.0)\n",
      "Requirement already satisfied: click in e:\\myenv\\anaconda\\envs\\llm\\lib\\site-packages (from nltk<4.0.0,>=3.8.1->llama-index-core==0.10.46->llama-index) (8.1.7)\n",
      "Requirement already satisfied: joblib in e:\\myenv\\anaconda\\envs\\llm\\lib\\site-packages (from nltk<4.0.0,>=3.8.1->llama-index-core==0.10.46->llama-index) (1.4.2)\n",
      "Requirement already satisfied: regex>=2021.8.3 in e:\\myenv\\anaconda\\envs\\llm\\lib\\site-packages (from nltk<4.0.0,>=3.8.1->llama-index-core==0.10.46->llama-index) (2024.5.15)\n",
      "Requirement already satisfied: distro<2,>=1.7.0 in e:\\myenv\\anaconda\\envs\\llm\\lib\\site-packages (from openai>=1.1.0->llama-index-core==0.10.46->llama-index) (1.9.0)\n",
      "Requirement already satisfied: wcwidth in e:\\myenv\\anaconda\\envs\\llm\\lib\\site-packages (from prompt-toolkit!=3.0.37,<3.1.0,>=3.0.30->ipython>=7.23.1->ipykernel) (0.2.5)\n",
      "Requirement already satisfied: six>=1.5 in e:\\myenv\\anaconda\\envs\\llm\\lib\\site-packages (from python-dateutil>=2.8.2->jupyter-client>=6.1.12->ipykernel) (1.16.0)\n",
      "Requirement already satisfied: charset-normalizer<4,>=2 in e:\\myenv\\anaconda\\envs\\llm\\lib\\site-packages (from requests>=2.31.0->llama-index-core==0.10.46->llama-index) (2.0.4)\n",
      "Requirement already satisfied: urllib3<3,>=1.21.1 in e:\\myenv\\anaconda\\envs\\llm\\lib\\site-packages (from requests>=2.31.0->llama-index-core==0.10.46->llama-index) (2.2.1)\n",
      "Requirement already satisfied: greenlet!=0.4.17 in e:\\myenv\\anaconda\\envs\\llm\\lib\\site-packages (from SQLAlchemy>=1.4.49->SQLAlchemy[asyncio]>=1.4.49->llama-index-core==0.10.46->llama-index) (3.0.3)\n",
      "Requirement already satisfied: mypy-extensions>=0.3.0 in e:\\myenv\\anaconda\\envs\\llm\\lib\\site-packages (from typing-inspect>=0.8.0->llama-index-core==0.10.46->llama-index) (1.0.0)\n",
      "Requirement already satisfied: marshmallow<4.0.0,>=3.18.0 in e:\\myenv\\anaconda\\envs\\llm\\lib\\site-packages (from dataclasses-json->llama-index-core==0.10.46->llama-index) (3.21.3)\n",
      "Requirement already satisfied: pytz>=2020.1 in e:\\myenv\\anaconda\\envs\\llm\\lib\\site-packages (from pandas->llama-index-core==0.10.46->llama-index) (2024.1)\n",
      "Requirement already satisfied: tzdata>=2022.7 in e:\\myenv\\anaconda\\envs\\llm\\lib\\site-packages (from pandas->llama-index-core==0.10.46->llama-index) (2024.1)\n",
      "Requirement already satisfied: executing in e:\\myenv\\anaconda\\envs\\llm\\lib\\site-packages (from stack-data->ipython>=7.23.1->ipykernel) (0.8.3)\n",
      "Requirement already satisfied: asttokens in e:\\myenv\\anaconda\\envs\\llm\\lib\\site-packages (from stack-data->ipython>=7.23.1->ipykernel) (2.0.5)\n",
      "Requirement already satisfied: pure-eval in e:\\myenv\\anaconda\\envs\\llm\\lib\\site-packages (from stack-data->ipython>=7.23.1->ipykernel) (0.2.2)\n",
      "Requirement already satisfied: annotated-types>=0.4.0 in e:\\myenv\\anaconda\\envs\\llm\\lib\\site-packages (from pydantic>=1.10->llamaindex-py-client<0.2.0,>=0.1.18->llama-index-core==0.10.46->llama-index) (0.6.0)\n",
      "Requirement already satisfied: pydantic-core==2.14.6 in e:\\myenv\\anaconda\\envs\\llm\\lib\\site-packages (from pydantic>=1.10->llamaindex-py-client<0.2.0,>=0.1.18->llama-index-core==0.10.46->llama-index) (2.14.6)\n",
      "Looking in indexes: https://pypi.tuna.tsinghua.edu.cn/simple\n",
      "Requirement already satisfied: timm in e:\\myenv\\anaconda\\envs\\llm\\lib\\site-packages (1.0.3)\n",
      "Requirement already satisfied: torch in e:\\myenv\\anaconda\\envs\\llm\\lib\\site-packages (from timm) (2.3.1)\n",
      "Requirement already satisfied: torchvision in e:\\myenv\\anaconda\\envs\\llm\\lib\\site-packages (from timm) (0.18.1)\n",
      "Requirement already satisfied: pyyaml in e:\\myenv\\anaconda\\envs\\llm\\lib\\site-packages (from timm) (6.0.1)\n",
      "Requirement already satisfied: huggingface_hub in e:\\myenv\\anaconda\\envs\\llm\\lib\\site-packages (from timm) (0.23.4)\n",
      "Requirement already satisfied: safetensors in e:\\myenv\\anaconda\\envs\\llm\\lib\\site-packages (from timm) (0.4.3)\n",
      "Requirement already satisfied: filelock in e:\\myenv\\anaconda\\envs\\llm\\lib\\site-packages (from huggingface_hub->timm) (3.15.1)\n",
      "Requirement already satisfied: fsspec>=2023.5.0 in e:\\myenv\\anaconda\\envs\\llm\\lib\\site-packages (from huggingface_hub->timm) (2024.6.0)\n",
      "Requirement already satisfied: packaging>=20.9 in e:\\myenv\\anaconda\\envs\\llm\\lib\\site-packages (from huggingface_hub->timm) (23.2)\n",
      "Requirement already satisfied: requests in e:\\myenv\\anaconda\\envs\\llm\\lib\\site-packages (from huggingface_hub->timm) (2.32.2)\n",
      "Requirement already satisfied: tqdm>=4.42.1 in e:\\myenv\\anaconda\\envs\\llm\\lib\\site-packages (from huggingface_hub->timm) (4.66.4)\n",
      "Requirement already satisfied: typing-extensions>=3.7.4.3 in e:\\myenv\\anaconda\\envs\\llm\\lib\\site-packages (from huggingface_hub->timm) (4.11.0)\n",
      "Requirement already satisfied: sympy in e:\\myenv\\anaconda\\envs\\llm\\lib\\site-packages (from torch->timm) (1.12.1)\n",
      "Requirement already satisfied: networkx in e:\\myenv\\anaconda\\envs\\llm\\lib\\site-packages (from torch->timm) (3.3)\n",
      "Requirement already satisfied: jinja2 in e:\\myenv\\anaconda\\envs\\llm\\lib\\site-packages (from torch->timm) (3.1.4)\n",
      "Requirement already satisfied: mkl<=2021.4.0,>=2021.1.1 in e:\\myenv\\anaconda\\envs\\llm\\lib\\site-packages (from torch->timm) (2021.4.0)\n",
      "Requirement already satisfied: numpy in e:\\myenv\\anaconda\\envs\\llm\\lib\\site-packages (from torchvision->timm) (1.26.4)\n",
      "Requirement already satisfied: pillow!=8.3.*,>=5.3.0 in e:\\myenv\\anaconda\\envs\\llm\\lib\\site-packages (from torchvision->timm) (10.3.0)\n",
      "Requirement already satisfied: intel-openmp==2021.* in e:\\myenv\\anaconda\\envs\\llm\\lib\\site-packages (from mkl<=2021.4.0,>=2021.1.1->torch->timm) (2021.4.0)\n",
      "Requirement already satisfied: tbb==2021.* in e:\\myenv\\anaconda\\envs\\llm\\lib\\site-packages (from mkl<=2021.4.0,>=2021.1.1->torch->timm) (2021.12.0)\n",
      "Requirement already satisfied: colorama in e:\\myenv\\anaconda\\envs\\llm\\lib\\site-packages (from tqdm>=4.42.1->huggingface_hub->timm) (0.4.6)\n",
      "Requirement already satisfied: MarkupSafe>=2.0 in e:\\myenv\\anaconda\\envs\\llm\\lib\\site-packages (from jinja2->torch->timm) (2.1.3)\n",
      "Requirement already satisfied: charset-normalizer<4,>=2 in e:\\myenv\\anaconda\\envs\\llm\\lib\\site-packages (from requests->huggingface_hub->timm) (2.0.4)\n",
      "Requirement already satisfied: idna<4,>=2.5 in e:\\myenv\\anaconda\\envs\\llm\\lib\\site-packages (from requests->huggingface_hub->timm) (3.7)\n",
      "Requirement already satisfied: urllib3<3,>=1.21.1 in e:\\myenv\\anaconda\\envs\\llm\\lib\\site-packages (from requests->huggingface_hub->timm) (2.2.1)\n",
      "Requirement already satisfied: certifi>=2017.4.17 in e:\\myenv\\anaconda\\envs\\llm\\lib\\site-packages (from requests->huggingface_hub->timm) (2024.6.2)\n",
      "Requirement already satisfied: mpmath<1.4.0,>=1.1.0 in e:\\myenv\\anaconda\\envs\\llm\\lib\\site-packages (from sympy->torch->timm) (1.3.0)\n",
      "Looking in indexes: https://pypi.tuna.tsinghua.edu.cn/simple\n",
      "Requirement already satisfied: llama-index-llms-huggingface in e:\\myenv\\anaconda\\envs\\llm\\lib\\site-packages (0.2.3)\n",
      "Requirement already satisfied: huggingface-hub<0.24.0,>=0.23.0 in e:\\myenv\\anaconda\\envs\\llm\\lib\\site-packages (from llama-index-llms-huggingface) (0.23.4)\n",
      "Requirement already satisfied: llama-index-core<0.11.0,>=0.10.41 in e:\\myenv\\anaconda\\envs\\llm\\lib\\site-packages (from llama-index-llms-huggingface) (0.10.46)\n",
      "Requirement already satisfied: text-generation<0.8.0,>=0.7.0 in e:\\myenv\\anaconda\\envs\\llm\\lib\\site-packages (from llama-index-llms-huggingface) (0.7.0)\n",
      "Requirement already satisfied: torch<3.0.0,>=2.1.2 in e:\\myenv\\anaconda\\envs\\llm\\lib\\site-packages (from llama-index-llms-huggingface) (2.3.1)\n",
      "Requirement already satisfied: transformers<5.0.0,>=4.37.0 in e:\\myenv\\anaconda\\envs\\llm\\lib\\site-packages (from transformers[torch]<5.0.0,>=4.37.0->llama-index-llms-huggingface) (4.41.2)\n",
      "Requirement already satisfied: filelock in e:\\myenv\\anaconda\\envs\\llm\\lib\\site-packages (from huggingface-hub<0.24.0,>=0.23.0->llama-index-llms-huggingface) (3.15.1)\n",
      "Requirement already satisfied: fsspec>=2023.5.0 in e:\\myenv\\anaconda\\envs\\llm\\lib\\site-packages (from huggingface-hub<0.24.0,>=0.23.0->llama-index-llms-huggingface) (2024.6.0)\n",
      "Requirement already satisfied: packaging>=20.9 in e:\\myenv\\anaconda\\envs\\llm\\lib\\site-packages (from huggingface-hub<0.24.0,>=0.23.0->llama-index-llms-huggingface) (23.2)\n",
      "Requirement already satisfied: pyyaml>=5.1 in e:\\myenv\\anaconda\\envs\\llm\\lib\\site-packages (from huggingface-hub<0.24.0,>=0.23.0->llama-index-llms-huggingface) (6.0.1)\n",
      "Requirement already satisfied: requests in e:\\myenv\\anaconda\\envs\\llm\\lib\\site-packages (from huggingface-hub<0.24.0,>=0.23.0->llama-index-llms-huggingface) (2.32.2)\n",
      "Requirement already satisfied: tqdm>=4.42.1 in e:\\myenv\\anaconda\\envs\\llm\\lib\\site-packages (from huggingface-hub<0.24.0,>=0.23.0->llama-index-llms-huggingface) (4.66.4)\n",
      "Requirement already satisfied: typing-extensions>=3.7.4.3 in e:\\myenv\\anaconda\\envs\\llm\\lib\\site-packages (from huggingface-hub<0.24.0,>=0.23.0->llama-index-llms-huggingface) (4.11.0)\n",
      "Requirement already satisfied: SQLAlchemy>=1.4.49 in e:\\myenv\\anaconda\\envs\\llm\\lib\\site-packages (from SQLAlchemy[asyncio]>=1.4.49->llama-index-core<0.11.0,>=0.10.41->llama-index-llms-huggingface) (2.0.30)\n",
      "Requirement already satisfied: aiohttp<4.0.0,>=3.8.6 in e:\\myenv\\anaconda\\envs\\llm\\lib\\site-packages (from llama-index-core<0.11.0,>=0.10.41->llama-index-llms-huggingface) (3.9.5)\n",
      "Requirement already satisfied: dataclasses-json in e:\\myenv\\anaconda\\envs\\llm\\lib\\site-packages (from llama-index-core<0.11.0,>=0.10.41->llama-index-llms-huggingface) (0.6.7)\n",
      "Requirement already satisfied: deprecated>=1.2.9.3 in e:\\myenv\\anaconda\\envs\\llm\\lib\\site-packages (from llama-index-core<0.11.0,>=0.10.41->llama-index-llms-huggingface) (1.2.14)\n",
      "Requirement already satisfied: dirtyjson<2.0.0,>=1.0.8 in e:\\myenv\\anaconda\\envs\\llm\\lib\\site-packages (from llama-index-core<0.11.0,>=0.10.41->llama-index-llms-huggingface) (1.0.8)\n",
      "Requirement already satisfied: httpx in e:\\myenv\\anaconda\\envs\\llm\\lib\\site-packages (from llama-index-core<0.11.0,>=0.10.41->llama-index-llms-huggingface) (0.26.0)\n",
      "Requirement already satisfied: llamaindex-py-client<0.2.0,>=0.1.18 in e:\\myenv\\anaconda\\envs\\llm\\lib\\site-packages (from llama-index-core<0.11.0,>=0.10.41->llama-index-llms-huggingface) (0.1.19)\n",
      "Requirement already satisfied: nest-asyncio<2.0.0,>=1.5.8 in e:\\myenv\\anaconda\\envs\\llm\\lib\\site-packages (from llama-index-core<0.11.0,>=0.10.41->llama-index-llms-huggingface) (1.6.0)\n",
      "Requirement already satisfied: networkx>=3.0 in e:\\myenv\\anaconda\\envs\\llm\\lib\\site-packages (from llama-index-core<0.11.0,>=0.10.41->llama-index-llms-huggingface) (3.3)\n",
      "Requirement already satisfied: nltk<4.0.0,>=3.8.1 in e:\\myenv\\anaconda\\envs\\llm\\lib\\site-packages (from llama-index-core<0.11.0,>=0.10.41->llama-index-llms-huggingface) (3.8.1)\n",
      "Requirement already satisfied: numpy<2.0.0 in e:\\myenv\\anaconda\\envs\\llm\\lib\\site-packages (from llama-index-core<0.11.0,>=0.10.41->llama-index-llms-huggingface) (1.26.4)\n",
      "Requirement already satisfied: openai>=1.1.0 in e:\\myenv\\anaconda\\envs\\llm\\lib\\site-packages (from llama-index-core<0.11.0,>=0.10.41->llama-index-llms-huggingface) (1.25.0)\n",
      "Requirement already satisfied: pandas in e:\\myenv\\anaconda\\envs\\llm\\lib\\site-packages (from llama-index-core<0.11.0,>=0.10.41->llama-index-llms-huggingface) (2.2.2)\n",
      "Requirement already satisfied: pillow>=9.0.0 in e:\\myenv\\anaconda\\envs\\llm\\lib\\site-packages (from llama-index-core<0.11.0,>=0.10.41->llama-index-llms-huggingface) (10.3.0)\n",
      "Requirement already satisfied: tenacity<8.4.0,>=8.2.0 in e:\\myenv\\anaconda\\envs\\llm\\lib\\site-packages (from llama-index-core<0.11.0,>=0.10.41->llama-index-llms-huggingface) (8.3.0)\n",
      "Requirement already satisfied: tiktoken>=0.3.3 in e:\\myenv\\anaconda\\envs\\llm\\lib\\site-packages (from llama-index-core<0.11.0,>=0.10.41->llama-index-llms-huggingface) (0.7.0)\n",
      "Requirement already satisfied: typing-inspect>=0.8.0 in e:\\myenv\\anaconda\\envs\\llm\\lib\\site-packages (from llama-index-core<0.11.0,>=0.10.41->llama-index-llms-huggingface) (0.9.0)\n",
      "Requirement already satisfied: wrapt in e:\\myenv\\anaconda\\envs\\llm\\lib\\site-packages (from llama-index-core<0.11.0,>=0.10.41->llama-index-llms-huggingface) (1.16.0)\n",
      "Requirement already satisfied: pydantic<3,>2 in e:\\myenv\\anaconda\\envs\\llm\\lib\\site-packages (from text-generation<0.8.0,>=0.7.0->llama-index-llms-huggingface) (2.5.3)\n",
      "Requirement already satisfied: sympy in e:\\myenv\\anaconda\\envs\\llm\\lib\\site-packages (from torch<3.0.0,>=2.1.2->llama-index-llms-huggingface) (1.12.1)\n",
      "Requirement already satisfied: jinja2 in e:\\myenv\\anaconda\\envs\\llm\\lib\\site-packages (from torch<3.0.0,>=2.1.2->llama-index-llms-huggingface) (3.1.4)\n",
      "Requirement already satisfied: mkl<=2021.4.0,>=2021.1.1 in e:\\myenv\\anaconda\\envs\\llm\\lib\\site-packages (from torch<3.0.0,>=2.1.2->llama-index-llms-huggingface) (2021.4.0)\n",
      "Requirement already satisfied: regex!=2019.12.17 in e:\\myenv\\anaconda\\envs\\llm\\lib\\site-packages (from transformers<5.0.0,>=4.37.0->transformers[torch]<5.0.0,>=4.37.0->llama-index-llms-huggingface) (2024.5.15)\n",
      "Requirement already satisfied: tokenizers<0.20,>=0.19 in e:\\myenv\\anaconda\\envs\\llm\\lib\\site-packages (from transformers<5.0.0,>=4.37.0->transformers[torch]<5.0.0,>=4.37.0->llama-index-llms-huggingface) (0.19.1)\n",
      "Requirement already satisfied: safetensors>=0.4.1 in e:\\myenv\\anaconda\\envs\\llm\\lib\\site-packages (from transformers<5.0.0,>=4.37.0->transformers[torch]<5.0.0,>=4.37.0->llama-index-llms-huggingface) (0.4.3)\n",
      "Requirement already satisfied: accelerate>=0.21.0 in e:\\myenv\\anaconda\\envs\\llm\\lib\\site-packages (from transformers[torch]<5.0.0,>=4.37.0->llama-index-llms-huggingface) (0.31.0)\n",
      "Requirement already satisfied: psutil in e:\\myenv\\anaconda\\envs\\llm\\lib\\site-packages (from accelerate>=0.21.0->transformers[torch]<5.0.0,>=4.37.0->llama-index-llms-huggingface) (5.9.0)\n",
      "Requirement already satisfied: aiosignal>=1.1.2 in e:\\myenv\\anaconda\\envs\\llm\\lib\\site-packages (from aiohttp<4.0.0,>=3.8.6->llama-index-core<0.11.0,>=0.10.41->llama-index-llms-huggingface) (1.3.1)\n",
      "Requirement already satisfied: attrs>=17.3.0 in e:\\myenv\\anaconda\\envs\\llm\\lib\\site-packages (from aiohttp<4.0.0,>=3.8.6->llama-index-core<0.11.0,>=0.10.41->llama-index-llms-huggingface) (23.1.0)\n",
      "Requirement already satisfied: frozenlist>=1.1.1 in e:\\myenv\\anaconda\\envs\\llm\\lib\\site-packages (from aiohttp<4.0.0,>=3.8.6->llama-index-core<0.11.0,>=0.10.41->llama-index-llms-huggingface) (1.4.1)\n",
      "Requirement already satisfied: multidict<7.0,>=4.5 in e:\\myenv\\anaconda\\envs\\llm\\lib\\site-packages (from aiohttp<4.0.0,>=3.8.6->llama-index-core<0.11.0,>=0.10.41->llama-index-llms-huggingface) (6.0.5)\n",
      "Requirement already satisfied: yarl<2.0,>=1.0 in e:\\myenv\\anaconda\\envs\\llm\\lib\\site-packages (from aiohttp<4.0.0,>=3.8.6->llama-index-core<0.11.0,>=0.10.41->llama-index-llms-huggingface) (1.9.4)\n",
      "Requirement already satisfied: anyio in e:\\myenv\\anaconda\\envs\\llm\\lib\\site-packages (from httpx->llama-index-core<0.11.0,>=0.10.41->llama-index-llms-huggingface) (4.2.0)\n",
      "Requirement already satisfied: certifi in e:\\myenv\\anaconda\\envs\\llm\\lib\\site-packages (from httpx->llama-index-core<0.11.0,>=0.10.41->llama-index-llms-huggingface) (2024.6.2)\n",
      "Requirement already satisfied: httpcore==1.* in e:\\myenv\\anaconda\\envs\\llm\\lib\\site-packages (from httpx->llama-index-core<0.11.0,>=0.10.41->llama-index-llms-huggingface) (1.0.2)\n",
      "Requirement already satisfied: idna in e:\\myenv\\anaconda\\envs\\llm\\lib\\site-packages (from httpx->llama-index-core<0.11.0,>=0.10.41->llama-index-llms-huggingface) (3.7)\n",
      "Requirement already satisfied: sniffio in e:\\myenv\\anaconda\\envs\\llm\\lib\\site-packages (from httpx->llama-index-core<0.11.0,>=0.10.41->llama-index-llms-huggingface) (1.3.0)\n",
      "Requirement already satisfied: h11<0.15,>=0.13 in e:\\myenv\\anaconda\\envs\\llm\\lib\\site-packages (from httpcore==1.*->httpx->llama-index-core<0.11.0,>=0.10.41->llama-index-llms-huggingface) (0.14.0)\n",
      "Requirement already satisfied: intel-openmp==2021.* in e:\\myenv\\anaconda\\envs\\llm\\lib\\site-packages (from mkl<=2021.4.0,>=2021.1.1->torch<3.0.0,>=2.1.2->llama-index-llms-huggingface) (2021.4.0)\n",
      "Requirement already satisfied: tbb==2021.* in e:\\myenv\\anaconda\\envs\\llm\\lib\\site-packages (from mkl<=2021.4.0,>=2021.1.1->torch<3.0.0,>=2.1.2->llama-index-llms-huggingface) (2021.12.0)\n",
      "Requirement already satisfied: click in e:\\myenv\\anaconda\\envs\\llm\\lib\\site-packages (from nltk<4.0.0,>=3.8.1->llama-index-core<0.11.0,>=0.10.41->llama-index-llms-huggingface) (8.1.7)\n",
      "Requirement already satisfied: joblib in e:\\myenv\\anaconda\\envs\\llm\\lib\\site-packages (from nltk<4.0.0,>=3.8.1->llama-index-core<0.11.0,>=0.10.41->llama-index-llms-huggingface) (1.4.2)\n",
      "Requirement already satisfied: distro<2,>=1.7.0 in e:\\myenv\\anaconda\\envs\\llm\\lib\\site-packages (from openai>=1.1.0->llama-index-core<0.11.0,>=0.10.41->llama-index-llms-huggingface) (1.9.0)\n",
      "Requirement already satisfied: annotated-types>=0.4.0 in e:\\myenv\\anaconda\\envs\\llm\\lib\\site-packages (from pydantic<3,>2->text-generation<0.8.0,>=0.7.0->llama-index-llms-huggingface) (0.6.0)\n",
      "Requirement already satisfied: pydantic-core==2.14.6 in e:\\myenv\\anaconda\\envs\\llm\\lib\\site-packages (from pydantic<3,>2->text-generation<0.8.0,>=0.7.0->llama-index-llms-huggingface) (2.14.6)\n",
      "Requirement already satisfied: charset-normalizer<4,>=2 in e:\\myenv\\anaconda\\envs\\llm\\lib\\site-packages (from requests->huggingface-hub<0.24.0,>=0.23.0->llama-index-llms-huggingface) (2.0.4)\n",
      "Requirement already satisfied: urllib3<3,>=1.21.1 in e:\\myenv\\anaconda\\envs\\llm\\lib\\site-packages (from requests->huggingface-hub<0.24.0,>=0.23.0->llama-index-llms-huggingface) (2.2.1)\n",
      "Requirement already satisfied: greenlet!=0.4.17 in e:\\myenv\\anaconda\\envs\\llm\\lib\\site-packages (from SQLAlchemy>=1.4.49->SQLAlchemy[asyncio]>=1.4.49->llama-index-core<0.11.0,>=0.10.41->llama-index-llms-huggingface) (3.0.3)\n",
      "Requirement already satisfied: colorama in e:\\myenv\\anaconda\\envs\\llm\\lib\\site-packages (from tqdm>=4.42.1->huggingface-hub<0.24.0,>=0.23.0->llama-index-llms-huggingface) (0.4.6)\n",
      "Requirement already satisfied: mypy-extensions>=0.3.0 in e:\\myenv\\anaconda\\envs\\llm\\lib\\site-packages (from typing-inspect>=0.8.0->llama-index-core<0.11.0,>=0.10.41->llama-index-llms-huggingface) (1.0.0)\n",
      "Requirement already satisfied: marshmallow<4.0.0,>=3.18.0 in e:\\myenv\\anaconda\\envs\\llm\\lib\\site-packages (from dataclasses-json->llama-index-core<0.11.0,>=0.10.41->llama-index-llms-huggingface) (3.21.3)\n",
      "Requirement already satisfied: MarkupSafe>=2.0 in e:\\myenv\\anaconda\\envs\\llm\\lib\\site-packages (from jinja2->torch<3.0.0,>=2.1.2->llama-index-llms-huggingface) (2.1.3)\n",
      "Requirement already satisfied: python-dateutil>=2.8.2 in e:\\myenv\\anaconda\\envs\\llm\\lib\\site-packages (from pandas->llama-index-core<0.11.0,>=0.10.41->llama-index-llms-huggingface) (2.9.0.post0)\n",
      "Requirement already satisfied: pytz>=2020.1 in e:\\myenv\\anaconda\\envs\\llm\\lib\\site-packages (from pandas->llama-index-core<0.11.0,>=0.10.41->llama-index-llms-huggingface) (2024.1)\n",
      "Requirement already satisfied: tzdata>=2022.7 in e:\\myenv\\anaconda\\envs\\llm\\lib\\site-packages (from pandas->llama-index-core<0.11.0,>=0.10.41->llama-index-llms-huggingface) (2024.1)\n",
      "Requirement already satisfied: mpmath<1.4.0,>=1.1.0 in e:\\myenv\\anaconda\\envs\\llm\\lib\\site-packages (from sympy->torch<3.0.0,>=2.1.2->llama-index-llms-huggingface) (1.3.0)\n",
      "Requirement already satisfied: six>=1.5 in e:\\myenv\\anaconda\\envs\\llm\\lib\\site-packages (from python-dateutil>=2.8.2->pandas->llama-index-core<0.11.0,>=0.10.41->llama-index-llms-huggingface) (1.16.0)\n",
      "Looking in indexes: https://pypi.tuna.tsinghua.edu.cn/simple\n",
      "Requirement already satisfied: llama-index-embeddings-huggingface in e:\\myenv\\anaconda\\envs\\llm\\lib\\site-packages (0.2.1)\n",
      "Requirement already satisfied: huggingface-hub>=0.19.0 in e:\\myenv\\anaconda\\envs\\llm\\lib\\site-packages (from huggingface-hub[inference]>=0.19.0->llama-index-embeddings-huggingface) (0.23.4)\n",
      "Requirement already satisfied: llama-index-core<0.11.0,>=0.10.1 in e:\\myenv\\anaconda\\envs\\llm\\lib\\site-packages (from llama-index-embeddings-huggingface) (0.10.46)\n",
      "Requirement already satisfied: sentence-transformers<3.0.0,>=2.6.1 in e:\\myenv\\anaconda\\envs\\llm\\lib\\site-packages (from llama-index-embeddings-huggingface) (2.7.0)\n",
      "Requirement already satisfied: filelock in e:\\myenv\\anaconda\\envs\\llm\\lib\\site-packages (from huggingface-hub>=0.19.0->huggingface-hub[inference]>=0.19.0->llama-index-embeddings-huggingface) (3.15.1)\n",
      "Requirement already satisfied: fsspec>=2023.5.0 in e:\\myenv\\anaconda\\envs\\llm\\lib\\site-packages (from huggingface-hub>=0.19.0->huggingface-hub[inference]>=0.19.0->llama-index-embeddings-huggingface) (2024.6.0)\n",
      "Requirement already satisfied: packaging>=20.9 in e:\\myenv\\anaconda\\envs\\llm\\lib\\site-packages (from huggingface-hub>=0.19.0->huggingface-hub[inference]>=0.19.0->llama-index-embeddings-huggingface) (23.2)\n",
      "Requirement already satisfied: pyyaml>=5.1 in e:\\myenv\\anaconda\\envs\\llm\\lib\\site-packages (from huggingface-hub>=0.19.0->huggingface-hub[inference]>=0.19.0->llama-index-embeddings-huggingface) (6.0.1)\n",
      "Requirement already satisfied: requests in e:\\myenv\\anaconda\\envs\\llm\\lib\\site-packages (from huggingface-hub>=0.19.0->huggingface-hub[inference]>=0.19.0->llama-index-embeddings-huggingface) (2.32.2)\n",
      "Requirement already satisfied: tqdm>=4.42.1 in e:\\myenv\\anaconda\\envs\\llm\\lib\\site-packages (from huggingface-hub>=0.19.0->huggingface-hub[inference]>=0.19.0->llama-index-embeddings-huggingface) (4.66.4)\n",
      "Requirement already satisfied: typing-extensions>=3.7.4.3 in e:\\myenv\\anaconda\\envs\\llm\\lib\\site-packages (from huggingface-hub>=0.19.0->huggingface-hub[inference]>=0.19.0->llama-index-embeddings-huggingface) (4.11.0)\n",
      "Requirement already satisfied: aiohttp in e:\\myenv\\anaconda\\envs\\llm\\lib\\site-packages (from huggingface-hub[inference]>=0.19.0->llama-index-embeddings-huggingface) (3.9.5)\n",
      "Requirement already satisfied: minijinja>=1.0 in e:\\myenv\\anaconda\\envs\\llm\\lib\\site-packages (from huggingface-hub[inference]>=0.19.0->llama-index-embeddings-huggingface) (2.0.1)\n",
      "Requirement already satisfied: SQLAlchemy>=1.4.49 in e:\\myenv\\anaconda\\envs\\llm\\lib\\site-packages (from SQLAlchemy[asyncio]>=1.4.49->llama-index-core<0.11.0,>=0.10.1->llama-index-embeddings-huggingface) (2.0.30)\n",
      "Requirement already satisfied: dataclasses-json in e:\\myenv\\anaconda\\envs\\llm\\lib\\site-packages (from llama-index-core<0.11.0,>=0.10.1->llama-index-embeddings-huggingface) (0.6.7)\n",
      "Requirement already satisfied: deprecated>=1.2.9.3 in e:\\myenv\\anaconda\\envs\\llm\\lib\\site-packages (from llama-index-core<0.11.0,>=0.10.1->llama-index-embeddings-huggingface) (1.2.14)\n",
      "Requirement already satisfied: dirtyjson<2.0.0,>=1.0.8 in e:\\myenv\\anaconda\\envs\\llm\\lib\\site-packages (from llama-index-core<0.11.0,>=0.10.1->llama-index-embeddings-huggingface) (1.0.8)\n",
      "Requirement already satisfied: httpx in e:\\myenv\\anaconda\\envs\\llm\\lib\\site-packages (from llama-index-core<0.11.0,>=0.10.1->llama-index-embeddings-huggingface) (0.26.0)\n",
      "Requirement already satisfied: llamaindex-py-client<0.2.0,>=0.1.18 in e:\\myenv\\anaconda\\envs\\llm\\lib\\site-packages (from llama-index-core<0.11.0,>=0.10.1->llama-index-embeddings-huggingface) (0.1.19)\n",
      "Requirement already satisfied: nest-asyncio<2.0.0,>=1.5.8 in e:\\myenv\\anaconda\\envs\\llm\\lib\\site-packages (from llama-index-core<0.11.0,>=0.10.1->llama-index-embeddings-huggingface) (1.6.0)\n",
      "Requirement already satisfied: networkx>=3.0 in e:\\myenv\\anaconda\\envs\\llm\\lib\\site-packages (from llama-index-core<0.11.0,>=0.10.1->llama-index-embeddings-huggingface) (3.3)\n",
      "Requirement already satisfied: nltk<4.0.0,>=3.8.1 in e:\\myenv\\anaconda\\envs\\llm\\lib\\site-packages (from llama-index-core<0.11.0,>=0.10.1->llama-index-embeddings-huggingface) (3.8.1)\n",
      "Requirement already satisfied: numpy<2.0.0 in e:\\myenv\\anaconda\\envs\\llm\\lib\\site-packages (from llama-index-core<0.11.0,>=0.10.1->llama-index-embeddings-huggingface) (1.26.4)\n",
      "Requirement already satisfied: openai>=1.1.0 in e:\\myenv\\anaconda\\envs\\llm\\lib\\site-packages (from llama-index-core<0.11.0,>=0.10.1->llama-index-embeddings-huggingface) (1.25.0)\n",
      "Requirement already satisfied: pandas in e:\\myenv\\anaconda\\envs\\llm\\lib\\site-packages (from llama-index-core<0.11.0,>=0.10.1->llama-index-embeddings-huggingface) (2.2.2)\n",
      "Requirement already satisfied: pillow>=9.0.0 in e:\\myenv\\anaconda\\envs\\llm\\lib\\site-packages (from llama-index-core<0.11.0,>=0.10.1->llama-index-embeddings-huggingface) (10.3.0)\n",
      "Requirement already satisfied: tenacity<8.4.0,>=8.2.0 in e:\\myenv\\anaconda\\envs\\llm\\lib\\site-packages (from llama-index-core<0.11.0,>=0.10.1->llama-index-embeddings-huggingface) (8.3.0)\n",
      "Requirement already satisfied: tiktoken>=0.3.3 in e:\\myenv\\anaconda\\envs\\llm\\lib\\site-packages (from llama-index-core<0.11.0,>=0.10.1->llama-index-embeddings-huggingface) (0.7.0)\n",
      "Requirement already satisfied: typing-inspect>=0.8.0 in e:\\myenv\\anaconda\\envs\\llm\\lib\\site-packages (from llama-index-core<0.11.0,>=0.10.1->llama-index-embeddings-huggingface) (0.9.0)\n",
      "Requirement already satisfied: wrapt in e:\\myenv\\anaconda\\envs\\llm\\lib\\site-packages (from llama-index-core<0.11.0,>=0.10.1->llama-index-embeddings-huggingface) (1.16.0)\n",
      "Requirement already satisfied: transformers<5.0.0,>=4.34.0 in e:\\myenv\\anaconda\\envs\\llm\\lib\\site-packages (from sentence-transformers<3.0.0,>=2.6.1->llama-index-embeddings-huggingface) (4.41.2)\n",
      "Requirement already satisfied: torch>=1.11.0 in e:\\myenv\\anaconda\\envs\\llm\\lib\\site-packages (from sentence-transformers<3.0.0,>=2.6.1->llama-index-embeddings-huggingface) (2.3.1)\n",
      "Requirement already satisfied: scikit-learn in e:\\myenv\\anaconda\\envs\\llm\\lib\\site-packages (from sentence-transformers<3.0.0,>=2.6.1->llama-index-embeddings-huggingface) (1.5.0)\n",
      "Requirement already satisfied: scipy in e:\\myenv\\anaconda\\envs\\llm\\lib\\site-packages (from sentence-transformers<3.0.0,>=2.6.1->llama-index-embeddings-huggingface) (1.13.1)\n",
      "Requirement already satisfied: aiosignal>=1.1.2 in e:\\myenv\\anaconda\\envs\\llm\\lib\\site-packages (from aiohttp->huggingface-hub[inference]>=0.19.0->llama-index-embeddings-huggingface) (1.3.1)\n",
      "Requirement already satisfied: attrs>=17.3.0 in e:\\myenv\\anaconda\\envs\\llm\\lib\\site-packages (from aiohttp->huggingface-hub[inference]>=0.19.0->llama-index-embeddings-huggingface) (23.1.0)\n",
      "Requirement already satisfied: frozenlist>=1.1.1 in e:\\myenv\\anaconda\\envs\\llm\\lib\\site-packages (from aiohttp->huggingface-hub[inference]>=0.19.0->llama-index-embeddings-huggingface) (1.4.1)\n",
      "Requirement already satisfied: multidict<7.0,>=4.5 in e:\\myenv\\anaconda\\envs\\llm\\lib\\site-packages (from aiohttp->huggingface-hub[inference]>=0.19.0->llama-index-embeddings-huggingface) (6.0.5)\n",
      "Requirement already satisfied: yarl<2.0,>=1.0 in e:\\myenv\\anaconda\\envs\\llm\\lib\\site-packages (from aiohttp->huggingface-hub[inference]>=0.19.0->llama-index-embeddings-huggingface) (1.9.4)\n",
      "Requirement already satisfied: pydantic>=1.10 in e:\\myenv\\anaconda\\envs\\llm\\lib\\site-packages (from llamaindex-py-client<0.2.0,>=0.1.18->llama-index-core<0.11.0,>=0.10.1->llama-index-embeddings-huggingface) (2.5.3)\n",
      "Requirement already satisfied: anyio in e:\\myenv\\anaconda\\envs\\llm\\lib\\site-packages (from httpx->llama-index-core<0.11.0,>=0.10.1->llama-index-embeddings-huggingface) (4.2.0)\n",
      "Requirement already satisfied: certifi in e:\\myenv\\anaconda\\envs\\llm\\lib\\site-packages (from httpx->llama-index-core<0.11.0,>=0.10.1->llama-index-embeddings-huggingface) (2024.6.2)\n",
      "Requirement already satisfied: httpcore==1.* in e:\\myenv\\anaconda\\envs\\llm\\lib\\site-packages (from httpx->llama-index-core<0.11.0,>=0.10.1->llama-index-embeddings-huggingface) (1.0.2)\n",
      "Requirement already satisfied: idna in e:\\myenv\\anaconda\\envs\\llm\\lib\\site-packages (from httpx->llama-index-core<0.11.0,>=0.10.1->llama-index-embeddings-huggingface) (3.7)\n",
      "Requirement already satisfied: sniffio in e:\\myenv\\anaconda\\envs\\llm\\lib\\site-packages (from httpx->llama-index-core<0.11.0,>=0.10.1->llama-index-embeddings-huggingface) (1.3.0)\n",
      "Requirement already satisfied: h11<0.15,>=0.13 in e:\\myenv\\anaconda\\envs\\llm\\lib\\site-packages (from httpcore==1.*->httpx->llama-index-core<0.11.0,>=0.10.1->llama-index-embeddings-huggingface) (0.14.0)\n",
      "Requirement already satisfied: click in e:\\myenv\\anaconda\\envs\\llm\\lib\\site-packages (from nltk<4.0.0,>=3.8.1->llama-index-core<0.11.0,>=0.10.1->llama-index-embeddings-huggingface) (8.1.7)\n",
      "Requirement already satisfied: joblib in e:\\myenv\\anaconda\\envs\\llm\\lib\\site-packages (from nltk<4.0.0,>=3.8.1->llama-index-core<0.11.0,>=0.10.1->llama-index-embeddings-huggingface) (1.4.2)\n",
      "Requirement already satisfied: regex>=2021.8.3 in e:\\myenv\\anaconda\\envs\\llm\\lib\\site-packages (from nltk<4.0.0,>=3.8.1->llama-index-core<0.11.0,>=0.10.1->llama-index-embeddings-huggingface) (2024.5.15)\n",
      "Requirement already satisfied: distro<2,>=1.7.0 in e:\\myenv\\anaconda\\envs\\llm\\lib\\site-packages (from openai>=1.1.0->llama-index-core<0.11.0,>=0.10.1->llama-index-embeddings-huggingface) (1.9.0)\n",
      "Requirement already satisfied: charset-normalizer<4,>=2 in e:\\myenv\\anaconda\\envs\\llm\\lib\\site-packages (from requests->huggingface-hub>=0.19.0->huggingface-hub[inference]>=0.19.0->llama-index-embeddings-huggingface) (2.0.4)\n",
      "Requirement already satisfied: urllib3<3,>=1.21.1 in e:\\myenv\\anaconda\\envs\\llm\\lib\\site-packages (from requests->huggingface-hub>=0.19.0->huggingface-hub[inference]>=0.19.0->llama-index-embeddings-huggingface) (2.2.1)\n",
      "Requirement already satisfied: greenlet!=0.4.17 in e:\\myenv\\anaconda\\envs\\llm\\lib\\site-packages (from SQLAlchemy>=1.4.49->SQLAlchemy[asyncio]>=1.4.49->llama-index-core<0.11.0,>=0.10.1->llama-index-embeddings-huggingface) (3.0.3)\n",
      "Requirement already satisfied: sympy in e:\\myenv\\anaconda\\envs\\llm\\lib\\site-packages (from torch>=1.11.0->sentence-transformers<3.0.0,>=2.6.1->llama-index-embeddings-huggingface) (1.12.1)\n",
      "Requirement already satisfied: jinja2 in e:\\myenv\\anaconda\\envs\\llm\\lib\\site-packages (from torch>=1.11.0->sentence-transformers<3.0.0,>=2.6.1->llama-index-embeddings-huggingface) (3.1.4)\n",
      "Requirement already satisfied: mkl<=2021.4.0,>=2021.1.1 in e:\\myenv\\anaconda\\envs\\llm\\lib\\site-packages (from torch>=1.11.0->sentence-transformers<3.0.0,>=2.6.1->llama-index-embeddings-huggingface) (2021.4.0)\n",
      "Requirement already satisfied: colorama in e:\\myenv\\anaconda\\envs\\llm\\lib\\site-packages (from tqdm>=4.42.1->huggingface-hub>=0.19.0->huggingface-hub[inference]>=0.19.0->llama-index-embeddings-huggingface) (0.4.6)\n",
      "Requirement already satisfied: tokenizers<0.20,>=0.19 in e:\\myenv\\anaconda\\envs\\llm\\lib\\site-packages (from transformers<5.0.0,>=4.34.0->sentence-transformers<3.0.0,>=2.6.1->llama-index-embeddings-huggingface) (0.19.1)\n",
      "Requirement already satisfied: safetensors>=0.4.1 in e:\\myenv\\anaconda\\envs\\llm\\lib\\site-packages (from transformers<5.0.0,>=4.34.0->sentence-transformers<3.0.0,>=2.6.1->llama-index-embeddings-huggingface) (0.4.3)\n",
      "Requirement already satisfied: mypy-extensions>=0.3.0 in e:\\myenv\\anaconda\\envs\\llm\\lib\\site-packages (from typing-inspect>=0.8.0->llama-index-core<0.11.0,>=0.10.1->llama-index-embeddings-huggingface) (1.0.0)\n",
      "Requirement already satisfied: marshmallow<4.0.0,>=3.18.0 in e:\\myenv\\anaconda\\envs\\llm\\lib\\site-packages (from dataclasses-json->llama-index-core<0.11.0,>=0.10.1->llama-index-embeddings-huggingface) (3.21.3)\n",
      "Requirement already satisfied: python-dateutil>=2.8.2 in e:\\myenv\\anaconda\\envs\\llm\\lib\\site-packages (from pandas->llama-index-core<0.11.0,>=0.10.1->llama-index-embeddings-huggingface) (2.9.0.post0)\n",
      "Requirement already satisfied: pytz>=2020.1 in e:\\myenv\\anaconda\\envs\\llm\\lib\\site-packages (from pandas->llama-index-core<0.11.0,>=0.10.1->llama-index-embeddings-huggingface) (2024.1)\n",
      "Requirement already satisfied: tzdata>=2022.7 in e:\\myenv\\anaconda\\envs\\llm\\lib\\site-packages (from pandas->llama-index-core<0.11.0,>=0.10.1->llama-index-embeddings-huggingface) (2024.1)\n",
      "Requirement already satisfied: threadpoolctl>=3.1.0 in e:\\myenv\\anaconda\\envs\\llm\\lib\\site-packages (from scikit-learn->sentence-transformers<3.0.0,>=2.6.1->llama-index-embeddings-huggingface) (3.5.0)\n",
      "Requirement already satisfied: intel-openmp==2021.* in e:\\myenv\\anaconda\\envs\\llm\\lib\\site-packages (from mkl<=2021.4.0,>=2021.1.1->torch>=1.11.0->sentence-transformers<3.0.0,>=2.6.1->llama-index-embeddings-huggingface) (2021.4.0)\n",
      "Requirement already satisfied: tbb==2021.* in e:\\myenv\\anaconda\\envs\\llm\\lib\\site-packages (from mkl<=2021.4.0,>=2021.1.1->torch>=1.11.0->sentence-transformers<3.0.0,>=2.6.1->llama-index-embeddings-huggingface) (2021.12.0)\n",
      "Requirement already satisfied: annotated-types>=0.4.0 in e:\\myenv\\anaconda\\envs\\llm\\lib\\site-packages (from pydantic>=1.10->llamaindex-py-client<0.2.0,>=0.1.18->llama-index-core<0.11.0,>=0.10.1->llama-index-embeddings-huggingface) (0.6.0)\n",
      "Requirement already satisfied: pydantic-core==2.14.6 in e:\\myenv\\anaconda\\envs\\llm\\lib\\site-packages (from pydantic>=1.10->llamaindex-py-client<0.2.0,>=0.1.18->llama-index-core<0.11.0,>=0.10.1->llama-index-embeddings-huggingface) (2.14.6)\n",
      "Requirement already satisfied: six>=1.5 in e:\\myenv\\anaconda\\envs\\llm\\lib\\site-packages (from python-dateutil>=2.8.2->pandas->llama-index-core<0.11.0,>=0.10.1->llama-index-embeddings-huggingface) (1.16.0)\n",
      "Requirement already satisfied: MarkupSafe>=2.0 in e:\\myenv\\anaconda\\envs\\llm\\lib\\site-packages (from jinja2->torch>=1.11.0->sentence-transformers<3.0.0,>=2.6.1->llama-index-embeddings-huggingface) (2.1.3)\n",
      "Requirement already satisfied: mpmath<1.4.0,>=1.1.0 in e:\\myenv\\anaconda\\envs\\llm\\lib\\site-packages (from sympy->torch>=1.11.0->sentence-transformers<3.0.0,>=2.6.1->llama-index-embeddings-huggingface) (1.3.0)\n",
      "Looking in indexes: https://pypi.tuna.tsinghua.edu.cn/simple\n",
      "Requirement already satisfied: llama-index-embeddings-instructor in e:\\myenv\\anaconda\\envs\\llm\\lib\\site-packages (0.1.3)\n",
      "Requirement already satisfied: instructorembedding<2.0.0,>=1.0.1 in e:\\myenv\\anaconda\\envs\\llm\\lib\\site-packages (from llama-index-embeddings-instructor) (1.0.1)\n",
      "Requirement already satisfied: llama-index-core<0.11.0,>=0.10.1 in e:\\myenv\\anaconda\\envs\\llm\\lib\\site-packages (from llama-index-embeddings-instructor) (0.10.46)\n",
      "Requirement already satisfied: sentence-transformers<3.0.0,>=2.2.2 in e:\\myenv\\anaconda\\envs\\llm\\lib\\site-packages (from llama-index-embeddings-instructor) (2.7.0)\n",
      "Requirement already satisfied: torch<3.0.0,>=2.1.2 in e:\\myenv\\anaconda\\envs\\llm\\lib\\site-packages (from llama-index-embeddings-instructor) (2.3.1)\n",
      "Requirement already satisfied: PyYAML>=6.0.1 in e:\\myenv\\anaconda\\envs\\llm\\lib\\site-packages (from llama-index-core<0.11.0,>=0.10.1->llama-index-embeddings-instructor) (6.0.1)\n",
      "Requirement already satisfied: SQLAlchemy>=1.4.49 in e:\\myenv\\anaconda\\envs\\llm\\lib\\site-packages (from SQLAlchemy[asyncio]>=1.4.49->llama-index-core<0.11.0,>=0.10.1->llama-index-embeddings-instructor) (2.0.30)\n",
      "Requirement already satisfied: aiohttp<4.0.0,>=3.8.6 in e:\\myenv\\anaconda\\envs\\llm\\lib\\site-packages (from llama-index-core<0.11.0,>=0.10.1->llama-index-embeddings-instructor) (3.9.5)\n",
      "Requirement already satisfied: dataclasses-json in e:\\myenv\\anaconda\\envs\\llm\\lib\\site-packages (from llama-index-core<0.11.0,>=0.10.1->llama-index-embeddings-instructor) (0.6.7)\n",
      "Requirement already satisfied: deprecated>=1.2.9.3 in e:\\myenv\\anaconda\\envs\\llm\\lib\\site-packages (from llama-index-core<0.11.0,>=0.10.1->llama-index-embeddings-instructor) (1.2.14)\n",
      "Requirement already satisfied: dirtyjson<2.0.0,>=1.0.8 in e:\\myenv\\anaconda\\envs\\llm\\lib\\site-packages (from llama-index-core<0.11.0,>=0.10.1->llama-index-embeddings-instructor) (1.0.8)\n",
      "Requirement already satisfied: fsspec>=2023.5.0 in e:\\myenv\\anaconda\\envs\\llm\\lib\\site-packages (from llama-index-core<0.11.0,>=0.10.1->llama-index-embeddings-instructor) (2024.6.0)\n",
      "Requirement already satisfied: httpx in e:\\myenv\\anaconda\\envs\\llm\\lib\\site-packages (from llama-index-core<0.11.0,>=0.10.1->llama-index-embeddings-instructor) (0.26.0)\n",
      "Requirement already satisfied: llamaindex-py-client<0.2.0,>=0.1.18 in e:\\myenv\\anaconda\\envs\\llm\\lib\\site-packages (from llama-index-core<0.11.0,>=0.10.1->llama-index-embeddings-instructor) (0.1.19)\n",
      "Requirement already satisfied: nest-asyncio<2.0.0,>=1.5.8 in e:\\myenv\\anaconda\\envs\\llm\\lib\\site-packages (from llama-index-core<0.11.0,>=0.10.1->llama-index-embeddings-instructor) (1.6.0)\n",
      "Requirement already satisfied: networkx>=3.0 in e:\\myenv\\anaconda\\envs\\llm\\lib\\site-packages (from llama-index-core<0.11.0,>=0.10.1->llama-index-embeddings-instructor) (3.3)\n",
      "Requirement already satisfied: nltk<4.0.0,>=3.8.1 in e:\\myenv\\anaconda\\envs\\llm\\lib\\site-packages (from llama-index-core<0.11.0,>=0.10.1->llama-index-embeddings-instructor) (3.8.1)\n",
      "Requirement already satisfied: numpy<2.0.0 in e:\\myenv\\anaconda\\envs\\llm\\lib\\site-packages (from llama-index-core<0.11.0,>=0.10.1->llama-index-embeddings-instructor) (1.26.4)\n",
      "Requirement already satisfied: openai>=1.1.0 in e:\\myenv\\anaconda\\envs\\llm\\lib\\site-packages (from llama-index-core<0.11.0,>=0.10.1->llama-index-embeddings-instructor) (1.25.0)\n",
      "Requirement already satisfied: pandas in e:\\myenv\\anaconda\\envs\\llm\\lib\\site-packages (from llama-index-core<0.11.0,>=0.10.1->llama-index-embeddings-instructor) (2.2.2)\n",
      "Requirement already satisfied: pillow>=9.0.0 in e:\\myenv\\anaconda\\envs\\llm\\lib\\site-packages (from llama-index-core<0.11.0,>=0.10.1->llama-index-embeddings-instructor) (10.3.0)\n",
      "Requirement already satisfied: requests>=2.31.0 in e:\\myenv\\anaconda\\envs\\llm\\lib\\site-packages (from llama-index-core<0.11.0,>=0.10.1->llama-index-embeddings-instructor) (2.32.2)\n",
      "Requirement already satisfied: tenacity<8.4.0,>=8.2.0 in e:\\myenv\\anaconda\\envs\\llm\\lib\\site-packages (from llama-index-core<0.11.0,>=0.10.1->llama-index-embeddings-instructor) (8.3.0)\n",
      "Requirement already satisfied: tiktoken>=0.3.3 in e:\\myenv\\anaconda\\envs\\llm\\lib\\site-packages (from llama-index-core<0.11.0,>=0.10.1->llama-index-embeddings-instructor) (0.7.0)\n",
      "Requirement already satisfied: tqdm<5.0.0,>=4.66.1 in e:\\myenv\\anaconda\\envs\\llm\\lib\\site-packages (from llama-index-core<0.11.0,>=0.10.1->llama-index-embeddings-instructor) (4.66.4)\n",
      "Requirement already satisfied: typing-extensions>=4.5.0 in e:\\myenv\\anaconda\\envs\\llm\\lib\\site-packages (from llama-index-core<0.11.0,>=0.10.1->llama-index-embeddings-instructor) (4.11.0)\n",
      "Requirement already satisfied: typing-inspect>=0.8.0 in e:\\myenv\\anaconda\\envs\\llm\\lib\\site-packages (from llama-index-core<0.11.0,>=0.10.1->llama-index-embeddings-instructor) (0.9.0)\n",
      "Requirement already satisfied: wrapt in e:\\myenv\\anaconda\\envs\\llm\\lib\\site-packages (from llama-index-core<0.11.0,>=0.10.1->llama-index-embeddings-instructor) (1.16.0)\n",
      "Requirement already satisfied: transformers<5.0.0,>=4.34.0 in e:\\myenv\\anaconda\\envs\\llm\\lib\\site-packages (from sentence-transformers<3.0.0,>=2.2.2->llama-index-embeddings-instructor) (4.41.2)\n",
      "Requirement already satisfied: scikit-learn in e:\\myenv\\anaconda\\envs\\llm\\lib\\site-packages (from sentence-transformers<3.0.0,>=2.2.2->llama-index-embeddings-instructor) (1.5.0)\n",
      "Requirement already satisfied: scipy in e:\\myenv\\anaconda\\envs\\llm\\lib\\site-packages (from sentence-transformers<3.0.0,>=2.2.2->llama-index-embeddings-instructor) (1.13.1)\n",
      "Requirement already satisfied: huggingface-hub>=0.15.1 in e:\\myenv\\anaconda\\envs\\llm\\lib\\site-packages (from sentence-transformers<3.0.0,>=2.2.2->llama-index-embeddings-instructor) (0.23.4)\n",
      "Requirement already satisfied: filelock in e:\\myenv\\anaconda\\envs\\llm\\lib\\site-packages (from torch<3.0.0,>=2.1.2->llama-index-embeddings-instructor) (3.15.1)\n",
      "Requirement already satisfied: sympy in e:\\myenv\\anaconda\\envs\\llm\\lib\\site-packages (from torch<3.0.0,>=2.1.2->llama-index-embeddings-instructor) (1.12.1)\n",
      "Requirement already satisfied: jinja2 in e:\\myenv\\anaconda\\envs\\llm\\lib\\site-packages (from torch<3.0.0,>=2.1.2->llama-index-embeddings-instructor) (3.1.4)\n",
      "Requirement already satisfied: mkl<=2021.4.0,>=2021.1.1 in e:\\myenv\\anaconda\\envs\\llm\\lib\\site-packages (from torch<3.0.0,>=2.1.2->llama-index-embeddings-instructor) (2021.4.0)\n",
      "Requirement already satisfied: aiosignal>=1.1.2 in e:\\myenv\\anaconda\\envs\\llm\\lib\\site-packages (from aiohttp<4.0.0,>=3.8.6->llama-index-core<0.11.0,>=0.10.1->llama-index-embeddings-instructor) (1.3.1)\n",
      "Requirement already satisfied: attrs>=17.3.0 in e:\\myenv\\anaconda\\envs\\llm\\lib\\site-packages (from aiohttp<4.0.0,>=3.8.6->llama-index-core<0.11.0,>=0.10.1->llama-index-embeddings-instructor) (23.1.0)\n",
      "Requirement already satisfied: frozenlist>=1.1.1 in e:\\myenv\\anaconda\\envs\\llm\\lib\\site-packages (from aiohttp<4.0.0,>=3.8.6->llama-index-core<0.11.0,>=0.10.1->llama-index-embeddings-instructor) (1.4.1)\n",
      "Requirement already satisfied: multidict<7.0,>=4.5 in e:\\myenv\\anaconda\\envs\\llm\\lib\\site-packages (from aiohttp<4.0.0,>=3.8.6->llama-index-core<0.11.0,>=0.10.1->llama-index-embeddings-instructor) (6.0.5)\n",
      "Requirement already satisfied: yarl<2.0,>=1.0 in e:\\myenv\\anaconda\\envs\\llm\\lib\\site-packages (from aiohttp<4.0.0,>=3.8.6->llama-index-core<0.11.0,>=0.10.1->llama-index-embeddings-instructor) (1.9.4)\n",
      "Requirement already satisfied: packaging>=20.9 in e:\\myenv\\anaconda\\envs\\llm\\lib\\site-packages (from huggingface-hub>=0.15.1->sentence-transformers<3.0.0,>=2.2.2->llama-index-embeddings-instructor) (23.2)\n",
      "Requirement already satisfied: pydantic>=1.10 in e:\\myenv\\anaconda\\envs\\llm\\lib\\site-packages (from llamaindex-py-client<0.2.0,>=0.1.18->llama-index-core<0.11.0,>=0.10.1->llama-index-embeddings-instructor) (2.5.3)\n",
      "Requirement already satisfied: anyio in e:\\myenv\\anaconda\\envs\\llm\\lib\\site-packages (from httpx->llama-index-core<0.11.0,>=0.10.1->llama-index-embeddings-instructor) (4.2.0)\n",
      "Requirement already satisfied: certifi in e:\\myenv\\anaconda\\envs\\llm\\lib\\site-packages (from httpx->llama-index-core<0.11.0,>=0.10.1->llama-index-embeddings-instructor) (2024.6.2)\n",
      "Requirement already satisfied: httpcore==1.* in e:\\myenv\\anaconda\\envs\\llm\\lib\\site-packages (from httpx->llama-index-core<0.11.0,>=0.10.1->llama-index-embeddings-instructor) (1.0.2)\n",
      "Requirement already satisfied: idna in e:\\myenv\\anaconda\\envs\\llm\\lib\\site-packages (from httpx->llama-index-core<0.11.0,>=0.10.1->llama-index-embeddings-instructor) (3.7)\n",
      "Requirement already satisfied: sniffio in e:\\myenv\\anaconda\\envs\\llm\\lib\\site-packages (from httpx->llama-index-core<0.11.0,>=0.10.1->llama-index-embeddings-instructor) (1.3.0)\n",
      "Requirement already satisfied: h11<0.15,>=0.13 in e:\\myenv\\anaconda\\envs\\llm\\lib\\site-packages (from httpcore==1.*->httpx->llama-index-core<0.11.0,>=0.10.1->llama-index-embeddings-instructor) (0.14.0)\n",
      "Requirement already satisfied: intel-openmp==2021.* in e:\\myenv\\anaconda\\envs\\llm\\lib\\site-packages (from mkl<=2021.4.0,>=2021.1.1->torch<3.0.0,>=2.1.2->llama-index-embeddings-instructor) (2021.4.0)\n",
      "Requirement already satisfied: tbb==2021.* in e:\\myenv\\anaconda\\envs\\llm\\lib\\site-packages (from mkl<=2021.4.0,>=2021.1.1->torch<3.0.0,>=2.1.2->llama-index-embeddings-instructor) (2021.12.0)\n",
      "Requirement already satisfied: click in e:\\myenv\\anaconda\\envs\\llm\\lib\\site-packages (from nltk<4.0.0,>=3.8.1->llama-index-core<0.11.0,>=0.10.1->llama-index-embeddings-instructor) (8.1.7)\n",
      "Requirement already satisfied: joblib in e:\\myenv\\anaconda\\envs\\llm\\lib\\site-packages (from nltk<4.0.0,>=3.8.1->llama-index-core<0.11.0,>=0.10.1->llama-index-embeddings-instructor) (1.4.2)\n",
      "Requirement already satisfied: regex>=2021.8.3 in e:\\myenv\\anaconda\\envs\\llm\\lib\\site-packages (from nltk<4.0.0,>=3.8.1->llama-index-core<0.11.0,>=0.10.1->llama-index-embeddings-instructor) (2024.5.15)\n",
      "Requirement already satisfied: distro<2,>=1.7.0 in e:\\myenv\\anaconda\\envs\\llm\\lib\\site-packages (from openai>=1.1.0->llama-index-core<0.11.0,>=0.10.1->llama-index-embeddings-instructor) (1.9.0)\n",
      "Requirement already satisfied: charset-normalizer<4,>=2 in e:\\myenv\\anaconda\\envs\\llm\\lib\\site-packages (from requests>=2.31.0->llama-index-core<0.11.0,>=0.10.1->llama-index-embeddings-instructor) (2.0.4)\n",
      "Requirement already satisfied: urllib3<3,>=1.21.1 in e:\\myenv\\anaconda\\envs\\llm\\lib\\site-packages (from requests>=2.31.0->llama-index-core<0.11.0,>=0.10.1->llama-index-embeddings-instructor) (2.2.1)\n",
      "Requirement already satisfied: greenlet!=0.4.17 in e:\\myenv\\anaconda\\envs\\llm\\lib\\site-packages (from SQLAlchemy>=1.4.49->SQLAlchemy[asyncio]>=1.4.49->llama-index-core<0.11.0,>=0.10.1->llama-index-embeddings-instructor) (3.0.3)\n",
      "Requirement already satisfied: colorama in e:\\myenv\\anaconda\\envs\\llm\\lib\\site-packages (from tqdm<5.0.0,>=4.66.1->llama-index-core<0.11.0,>=0.10.1->llama-index-embeddings-instructor) (0.4.6)\n",
      "Requirement already satisfied: tokenizers<0.20,>=0.19 in e:\\myenv\\anaconda\\envs\\llm\\lib\\site-packages (from transformers<5.0.0,>=4.34.0->sentence-transformers<3.0.0,>=2.2.2->llama-index-embeddings-instructor) (0.19.1)\n",
      "Requirement already satisfied: safetensors>=0.4.1 in e:\\myenv\\anaconda\\envs\\llm\\lib\\site-packages (from transformers<5.0.0,>=4.34.0->sentence-transformers<3.0.0,>=2.2.2->llama-index-embeddings-instructor) (0.4.3)\n",
      "Requirement already satisfied: mypy-extensions>=0.3.0 in e:\\myenv\\anaconda\\envs\\llm\\lib\\site-packages (from typing-inspect>=0.8.0->llama-index-core<0.11.0,>=0.10.1->llama-index-embeddings-instructor) (1.0.0)\n",
      "Requirement already satisfied: marshmallow<4.0.0,>=3.18.0 in e:\\myenv\\anaconda\\envs\\llm\\lib\\site-packages (from dataclasses-json->llama-index-core<0.11.0,>=0.10.1->llama-index-embeddings-instructor) (3.21.3)\n",
      "Requirement already satisfied: MarkupSafe>=2.0 in e:\\myenv\\anaconda\\envs\\llm\\lib\\site-packages (from jinja2->torch<3.0.0,>=2.1.2->llama-index-embeddings-instructor) (2.1.3)\n",
      "Requirement already satisfied: python-dateutil>=2.8.2 in e:\\myenv\\anaconda\\envs\\llm\\lib\\site-packages (from pandas->llama-index-core<0.11.0,>=0.10.1->llama-index-embeddings-instructor) (2.9.0.post0)\n",
      "Requirement already satisfied: pytz>=2020.1 in e:\\myenv\\anaconda\\envs\\llm\\lib\\site-packages (from pandas->llama-index-core<0.11.0,>=0.10.1->llama-index-embeddings-instructor) (2024.1)\n",
      "Requirement already satisfied: tzdata>=2022.7 in e:\\myenv\\anaconda\\envs\\llm\\lib\\site-packages (from pandas->llama-index-core<0.11.0,>=0.10.1->llama-index-embeddings-instructor) (2024.1)\n",
      "Requirement already satisfied: threadpoolctl>=3.1.0 in e:\\myenv\\anaconda\\envs\\llm\\lib\\site-packages (from scikit-learn->sentence-transformers<3.0.0,>=2.2.2->llama-index-embeddings-instructor) (3.5.0)\n",
      "Requirement already satisfied: mpmath<1.4.0,>=1.1.0 in e:\\myenv\\anaconda\\envs\\llm\\lib\\site-packages (from sympy->torch<3.0.0,>=2.1.2->llama-index-embeddings-instructor) (1.3.0)\n",
      "Requirement already satisfied: annotated-types>=0.4.0 in e:\\myenv\\anaconda\\envs\\llm\\lib\\site-packages (from pydantic>=1.10->llamaindex-py-client<0.2.0,>=0.1.18->llama-index-core<0.11.0,>=0.10.1->llama-index-embeddings-instructor) (0.6.0)\n",
      "Requirement already satisfied: pydantic-core==2.14.6 in e:\\myenv\\anaconda\\envs\\llm\\lib\\site-packages (from pydantic>=1.10->llamaindex-py-client<0.2.0,>=0.1.18->llama-index-core<0.11.0,>=0.10.1->llama-index-embeddings-instructor) (2.14.6)\n",
      "Requirement already satisfied: six>=1.5 in e:\\myenv\\anaconda\\envs\\llm\\lib\\site-packages (from python-dateutil>=2.8.2->pandas->llama-index-core<0.11.0,>=0.10.1->llama-index-embeddings-instructor) (1.16.0)\n"
     ]
    }
   ],
   "source": [
    "# 安装所有依赖\n",
    "!pip install -i https://pypi.tuna.tsinghua.edu.cn/simple python-dotenv ipykernel llama-index nest_asyncio\n",
    "!pip install -i https://pypi.tuna.tsinghua.edu.cn/simple timm\n",
    "!pip install -i https://pypi.tuna.tsinghua.edu.cn/simple llama-index-llms-huggingface\n",
    "!pip install -i https://pypi.tuna.tsinghua.edu.cn/simple llama-index-embeddings-huggingface\n",
    "!pip install -i https://pypi.tuna.tsinghua.edu.cn/simple llama-index-embeddings-instructor"
   ]
  },
  {
   "cell_type": "code",
   "execution_count": 11,
   "metadata": {},
   "outputs": [],
   "source": [
    "from llama_index.core import SimpleDirectoryReader\n",
    "\n",
    "# 加载PDF数据，这里雄哥以卖油翁为例，可以改为自己的任意数据放在datasets文件夹即可，或改为指定的绝对路径\n",
    "documents = SimpleDirectoryReader(input_files=[\"./datasets/maiyouweng.pdf\"]).load_data()"
   ]
  },
  {
   "cell_type": "code",
   "execution_count": 27,
   "metadata": {},
   "outputs": [],
   "source": [
    "from llama_index.core.node_parser import SentenceSplitter\n",
    "\n",
    "# 把文本分块，chunk_size为1024，每一块的大小\n",
    "splitter = SentenceSplitter(chunk_size=1024)\n",
    "# 创建文档的节点\n",
    "nodes = splitter.get_nodes_from_documents(documents)"
   ]
  },
  {
   "cell_type": "code",
   "execution_count": 39,
   "metadata": {},
   "outputs": [
    {
     "name": "stdout",
     "output_type": "stream",
     "text": [
      "12 page_label: 8\n",
      "file_name: maiyouweng.pdf\n",
      "file_path: datasets\\maiyouweng.pdf\n",
      "file_type: application/pdf\n",
      "file_size: 429687\n",
      "creation_date: 2024-06-18\n",
      "last_modified_date: 2024-06-18\n",
      "\n",
      "人物：陈尧咨和卖油翁。\n",
      "背景：陈尧咨善射，“当世无双”，因而“自矜”。\n",
      "9.汝亦知射乎？吾射不亦精乎”连用两个问句表现了陈尧咨怎样的性格特点？\n",
      "先用一个疑问句，再用一个反问句，表现出陈尧咨因“善射”而“自矜”的性格特点。\n",
      "10.卖油翁说“我亦无他，惟手熟尔”表明了什么？\n",
      "表明自己并非如陈尧咨所认为的“轻吾射”，呼应了上文对陈尧咨射技的评价，再次说明“熟\n",
      "能生巧”的道理；也表现了卖油翁不卑不亢、沉着镇静的性格特点。\n",
      "11.“康肃笑而遣之”中的“笑”说明了什么？\n",
      "说明陈尧咨看到卖油翁高超的技艺心服口服，认输了。\n",
      "12.故事中只有两个人物，我们如果把题目《卖油翁》改成《陈尧咨和卖油翁》好吗?\n",
      "不好。事端是卖油翁引起的，他如果不“释担而立”，不露出轻视的表情，陈尧咨就不会发问；\n",
      "事情又是由他解决的——以酌油技术平息了陈尧咨的愤怒情绪。卖油翁的酌油表演，明显技\n",
      "高一筹，是作者详写的部分；陈尧咨的射技，作者以“发矢十中八九”一笔带过，是略写。再\n",
      "者，卖油翁身怀绝技，谦虚沉着；陈尧咨却因“善射”而自我炫耀，趾高气扬。卖油翁在事\n",
      "件发展的全过程中起了主导作用。\n",
      "13、高超的箭法真的能等同于往葫芦里灌油吗？好箭法真的只是“手熟”而已吗？再读课文，\n",
      "把你的观点写下来。\n",
      "从常识来看，从钱眼里注油入葫芦，不漏一滴，不沾钱孔，的确是手熟之技，但与高超的箭\n",
      "发是不能等量齐观的。练成如此箭法不仅仅靠“手熟”两字，还要有过人的意志、超常的悟性、\n",
      "良好的天赋等。正如有人说得好，“陈尧咨只要放下架子，肯定能学会倒油；卖油翁拼老命\n",
      "也学不会拉弓搭箭，十中八九”，两者的技术含量不可同日而语。\n"
     ]
    }
   ],
   "source": [
    "# 这里可以打印每一个块的信息！\n",
    "node_metadata = nodes[11].get_content(metadata_mode=True)\n",
    "print(len(nodes), node_metadata)"
   ]
  },
  {
   "cell_type": "code",
   "execution_count": 4,
   "metadata": {},
   "outputs": [
    {
     "name": "stderr",
     "output_type": "stream",
     "text": [
      "C:\\Users\\ouhui\\.conda\\envs\\xuehai3\\lib\\site-packages\\pydantic\\_internal\\_fields.py:160: UserWarning: Field \"model_id\" has conflict with protected namespace \"model_\".\n",
      "\n",
      "You may be able to resolve this warning by setting `model_config['protected_namespaces'] = ()`.\n",
      "  warnings.warn(\n"
     ]
    }
   ],
   "source": [
    "from llama_index.llms.huggingface import HuggingFaceLLM\n",
    "from llama_index.embeddings.huggingface import HuggingFaceEmbedding"
   ]
  },
  {
   "cell_type": "code",
   "execution_count": 5,
   "metadata": {},
   "outputs": [
    {
     "data": {
      "application/vnd.jupyter.widget-view+json": {
       "model_id": "b025ec2e7c724a9fa9d0f360d6addda4",
       "version_major": 2,
       "version_minor": 0
      },
      "text/plain": [
       "Loading checkpoint shards:   0%|          | 0/4 [00:00<?, ?it/s]"
      ]
     },
     "metadata": {},
     "output_type": "display_data"
    },
    {
     "name": "stderr",
     "output_type": "stream",
     "text": [
      "WARNING:root:Some parameters are on the meta device device because they were offloaded to the cpu.\n",
      "Special tokens have been added in the vocabulary, make sure the associated word embeddings are fine-tuned or trained.\n"
     ]
    }
   ],
   "source": [
    "# 加载本地的qwen2-7b，你本地的模型放在哪就直接改路径\n",
    "llm = HuggingFaceLLM(\n",
    "    tokenizer_name=\"G:\\\\models\\\\Qwen2-7B-Instruct\",\n",
    "    model_name=\"G:\\\\models\\\\Qwen2-7B-Instruct\",\n",
    "    device_map=\"auto\",\n",
    "    tokenizer_kwargs={\"trust_remote_code\": True},\n",
    "    model_kwargs={\"trust_remote_code\": True},\n",
    ")"
   ]
  },
  {
   "cell_type": "code",
   "execution_count": 6,
   "metadata": {},
   "outputs": [
    {
     "name": "stderr",
     "output_type": "stream",
     "text": [
      "C:\\Users\\ouhui\\.conda\\envs\\xuehai3\\lib\\site-packages\\torch\\_utils.py:831: UserWarning: TypedStorage is deprecated. It will be removed in the future and UntypedStorage will be the only storage class. This should only matter to you if you are using storages directly.  To access UntypedStorage directly, use tensor.untyped_storage() instead of tensor.storage()\n",
      "  return self.fget.__get__(instance, owner)()\n"
     ]
    }
   ],
   "source": [
    "# 调用本地bce-embedding-base_v1作为embedding模型\n",
    "\n",
    "embed_args = {\n",
    "    'model_name': 'hkunlp/instructor-base', \n",
    "    'max_length': 512, \n",
    "    'embed_batch_size': 32, \n",
    "    'device': 'cuda'\n",
    "    }\n",
    "embed_model = HuggingFaceEmbedding(**embed_args)"
   ]
  },
  {
   "cell_type": "code",
   "execution_count": 23,
   "metadata": {},
   "outputs": [],
   "source": [
    "from llama_index.llms.openai import OpenAI\n",
    "from llama_index.embeddings.openai import OpenAIEmbedding\n",
    "\n",
    "llm = OpenAI(model=\"gpt-3.5-turbo\")\n",
    "embed_model = OpenAIEmbedding()"
   ]
  },
  {
   "cell_type": "code",
   "execution_count": 24,
   "metadata": {},
   "outputs": [],
   "source": [
    "from llama_index.core import Settings\n",
    "# 把加载的模型添加到环境设置中，定义全局模型\n",
    "\n",
    "Settings.llm = llm\n",
    "Settings.embed_model = embed_model"
   ]
  },
  {
   "cell_type": "code",
   "execution_count": 40,
   "metadata": {
    "scrolled": true
   },
   "outputs": [],
   "source": [
    "from llama_index.core import SummaryIndex, VectorStoreIndex\n",
    "\n",
    "# 创建数据摘要索引\n",
    "summary_index = SummaryIndex(nodes)\n",
    "# 创建矢量存储索引\n",
    "vector_index = VectorStoreIndex(nodes)"
   ]
  },
  {
   "cell_type": "code",
   "execution_count": 42,
   "metadata": {},
   "outputs": [],
   "source": [
    "# 把这些索引，转换为工具，后面雄哥就可以调用这些工具\n",
    "# 摘要查询引擎\n",
    "summary_query_engine = summary_index.as_query_engine(\n",
    "    response_mode=\"tree_summarize\",\n",
    "    use_async=True,\n",
    ")\n",
    "\n",
    "# 向量查询引擎\n",
    "vector_query_engine = vector_index.as_query_engine()"
   ]
  },
  {
   "cell_type": "code",
   "execution_count": 43,
   "metadata": {},
   "outputs": [],
   "source": [
    "from llama_index.core.tools import QueryEngineTool\n",
    "\n",
    "# 定义summary_tool的工具\n",
    "summary_tool = QueryEngineTool.from_defaults(\n",
    "    query_engine=summary_query_engine,\n",
    "    description=(\n",
    "        \"适用于生成与卖油翁课堂相关的摘要问题。\"\n",
    "    ),\n",
    ")\n",
    "\n",
    "# 定义vector_tool的工具\n",
    "vector_tool = QueryEngineTool.from_defaults(\n",
    "    query_engine=vector_query_engine,\n",
    "    description=(\n",
    "        \"适用于检索卖油翁常规上下文的问题。\"\n",
    "    ),\n",
    ")"
   ]
  },
  {
   "cell_type": "code",
   "execution_count": 44,
   "metadata": {},
   "outputs": [],
   "source": [
    "from llama_index.core.query_engine.router_query_engine import RouterQueryEngine\n",
    "from llama_index.core.selectors import LLMSingleSelector\n",
    "\n",
    "# 定义所有的tools\n",
    "query_engine = RouterQueryEngine(\n",
    "    selector=LLMSingleSelector.from_defaults(),\n",
    "    query_engine_tools=[\n",
    "        summary_tool,\n",
    "        vector_tool,\n",
    "    ],\n",
    "    verbose=True\n",
    ")"
   ]
  },
  {
   "cell_type": "code",
   "execution_count": 45,
   "metadata": {},
   "outputs": [],
   "source": [
    "import nest_asyncio\n",
    "nest_asyncio.apply()"
   ]
  },
  {
   "cell_type": "code",
   "execution_count": 62,
   "metadata": {},
   "outputs": [
    {
     "name": "stdout",
     "output_type": "stream",
     "text": [
      "\u001b[1;3;38;5;200mSelecting query engine 0: This choice is most relevant as it specifically mentions generating summary questions related to the content of the 卖油翁课堂..\n",
      "\u001b[0m在家里的射箭场地射箭，有个卖油的老翁放下担子，站在那里斜着眼睛看着他，很久都没有离开。\n"
     ]
    }
   ],
   "source": [
    "response = query_engine.query(\"卖油翁课堂有什么内容?\")\n",
    "print(str(response))"
   ]
  },
  {
   "cell_type": "code",
   "execution_count": 53,
   "metadata": {},
   "outputs": [
    {
     "name": "stdout",
     "output_type": "stream",
     "text": [
      "2\n"
     ]
    }
   ],
   "source": [
    "print(len(response.source_nodes))"
   ]
  },
  {
   "cell_type": "code",
   "execution_count": 61,
   "metadata": {},
   "outputs": [
    {
     "name": "stdout",
     "output_type": "stream",
     "text": [
      "\u001b[1;3;38;5;200mSelecting query engine 1: This choice is more relevant as it pertains to retrieving general context about the article of 卖油翁..\n",
      "\u001b[0mThe article \"卖油翁\" triggers contemplation about the importance of skill acquisition and the concept of \"熟能生巧\" (practice makes perfect). It also prompts reflection on the contrast between arrogance and humility, as depicted through the characters of 陈尧咨 and 卖油翁.\n"
     ]
    }
   ],
   "source": [
    "response = query_engine.query(\"卖油翁的文章引发了什么思考？\")\n",
    "print(str(response))"
   ]
  },
  {
   "cell_type": "code",
   "execution_count": 59,
   "metadata": {},
   "outputs": [
    {
     "name": "stdout",
     "output_type": "stream",
     "text": [
      "2\n",
      "Node ID: 52517623-2225-4901-9a76-4844ca60872f\n",
      "Text: 5、读了课文，你认为一个人应该如何让看待自己和别人的长处？你想起哪些名言警句？ 三人行，必有我师焉。\n",
      "择其善者而从之，其不善者而改之。 人外有人，天外有天。取人之长，补己之短。 谦虚使人进步，骄傲使人落后。 自满人十事九空，虚心人万事可成。\n",
      "十一、问答题： 1.课文中的两个人物，哪一个是主要人物？为什么？\n",
      "卖油翁。因为故事的目的是通过卖油翁对酌油的技巧的解释来揭示熟能生巧的道理。（意近 即可）\n",
      "2.描述陈尧咨射箭和卖油翁酌油这两段文字，哪一段写得比较详细，哪一段写得比较简略， 这是为什么？\n",
      "答：写卖油翁沥油一段详细，为突出他以理服暴，以“酌油”技艺制服对方的形象；略写陈尧\n",
      "咨的射技，只用“十中八九”略写，对他恃技骄横则较详，便于突出各自性格，突出文章中心。 3.“有卖油翁释担而立，睨之...\n",
      "Score:  0.853\n",
      "\n",
      "Node ID: baefa59a-4aed-4cb4-8886-363cd3aef5c1\n",
      "Text: 《卖油翁》 的创作背 景宋英宗治平 四年（1067 年）文学创作背景欧阳修因遭飞语中伤，自 请外任，在出知亳州时作《卖油翁》\n",
      "《卖油翁》 中的主要 人物解读不明确人物形象分析卖油翁是主要人物，康肃 公是次要人物，通过陈尧咨的骄傲自满\n",
      "突出了卖油翁的才艺和“业精于勤，熟 能生巧”的道理 《卖油翁》 的误读现 象 20世纪以来文学作品解读误区20世纪以来，《卖\n",
      "油翁》被逐渐误读为讲述熟能生巧的道 理，而欧阳修的真实意图是通过故事揭 示射箭技能获得途径的重要性 《卖油翁》 的人物形\n",
      "象分析不明确人物形象分析教师和学生对陈尧咨和 卖油翁的人物形象进行了不同的解读， 包括自以为是、傲慢自大的陈尧咨与谦\n",
      "虚沉稳、深藏不露的卖油翁等观点 《卖油翁》 的故事寓 意不明确文学作品主题解读《卖油翁》通过陈...\n",
      "Score:  0.850\n",
      "\n"
     ]
    }
   ],
   "source": [
    "print(len(response.source_nodes))\n",
    "for node in response.source_nodes:\n",
    "    print(node)"
   ]
  }
 ],
 "metadata": {
  "kernelspec": {
   "display_name": "llm",
   "language": "python",
   "name": "llm"
  },
  "language_info": {
   "codemirror_mode": {
    "name": "ipython",
    "version": 3
   },
   "file_extension": ".py",
   "mimetype": "text/x-python",
   "name": "python",
   "nbconvert_exporter": "python",
   "pygments_lexer": "ipython3",
   "version": "3.12.3"
  }
 },
 "nbformat": 4,
 "nbformat_minor": 4
}
