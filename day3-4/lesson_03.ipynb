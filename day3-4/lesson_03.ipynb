{
 "cells": [
  {
   "cell_type": "code",
   "execution_count": 1,
   "metadata": {},
   "outputs": [],
   "source": [
    "# 加载本地env的key\n",
    "import dotenv\n",
    "%load_ext dotenv\n",
    "%dotenv\n",
    "\n",
    "# 添加异步处理\n",
    "import nest_asyncio\n",
    "nest_asyncio.apply()"
   ]
  },
  {
   "cell_type": "code",
   "execution_count": 2,
   "metadata": {},
   "outputs": [],
   "source": [
    "from llama_index.core import SimpleDirectoryReader\n",
    "\n",
    "documents = SimpleDirectoryReader(input_files=[\"./datasets/maiyouweng.pdf\"]).load_data()\n",
    "\n",
    "from llama_index.core.node_parser import SentenceSplitter\n",
    "\n",
    "splitter = SentenceSplitter(chunk_size=1024)\n",
    "\n",
    "nodes = splitter.get_nodes_from_documents(documents)"
   ]
  },
  {
   "cell_type": "code",
   "execution_count": 3,
   "metadata": {},
   "outputs": [],
   "source": [
    "from llama_index.core import Settings\n",
    "from llama_index.llms.openai import OpenAI\n",
    "from llama_index.embeddings.openai import OpenAIEmbedding\n",
    "\n",
    "# LLM model\n",
    "Settings.llm = OpenAI(model=\"gpt-3.5-turbo\")\n",
    "# embedding model\n",
    "Settings.embed_model = OpenAIEmbedding(model=\"text-embedding-ada-002\")"
   ]
  },
  {
   "cell_type": "code",
   "execution_count": 4,
   "metadata": {},
   "outputs": [],
   "source": [
    "from llama_index.core import SummaryIndex, VectorStoreIndex\n",
    "\n",
    "# summary index\n",
    "summary_index = SummaryIndex(nodes)\n",
    "# vector store index\n",
    "vector_index = VectorStoreIndex(nodes)\n",
    "\n",
    "# summary query engine\n",
    "summary_query_engine = summary_index.as_query_engine(\n",
    "    response_mode=\"tree_summarize\",\n",
    "    use_async=True,\n",
    ")\n",
    "\n",
    "# vector query engine\n",
    "vector_query_engine = vector_index.as_query_engine()"
   ]
  },
  {
   "cell_type": "code",
   "execution_count": 5,
   "metadata": {},
   "outputs": [],
   "source": [
    "llm = OpenAI(model=\"gpt-3.5-turbo\", temperature=0)"
   ]
  },
  {
   "cell_type": "code",
   "execution_count": 6,
   "metadata": {},
   "outputs": [],
   "source": [
    "from llama_index.core.tools import QueryEngineTool"
   ]
  },
  {
   "cell_type": "code",
   "execution_count": 7,
   "metadata": {},
   "outputs": [],
   "source": [
    "summary_tool = QueryEngineTool.from_defaults(\n",
    "    query_engine=summary_query_engine,\n",
    "    description=(\n",
    "        \"用于生成关于卖油翁课文摘要\"\n",
    "    ),\n",
    ")\n",
    "\n",
    "vector_tool = QueryEngineTool.from_defaults(\n",
    "    query_engine=vector_query_engine,\n",
    "    description=(\n",
    "        \"用户常规检索卖油翁索引\"\n",
    "    ),\n",
    ")"
   ]
  },
  {
   "cell_type": "code",
   "execution_count": 8,
   "metadata": {},
   "outputs": [],
   "source": [
    "from llama_index.core.agent import FunctionCallingAgentWorker\n",
    "from llama_index.core.agent import AgentRunner\n",
    "\n",
    "agent_worker = FunctionCallingAgentWorker.from_tools(\n",
    "    tools=[vector_tool, summary_tool], \n",
    "    llm=llm, \n",
    "    verbose=True\n",
    ")\n",
    "agent = AgentRunner(agent_worker)"
   ]
  },
  {
   "cell_type": "code",
   "execution_count": 9,
   "metadata": {},
   "outputs": [
    {
     "name": "stdout",
     "output_type": "stream",
     "text": [
      "Added user message to memory: 卖油翁的故事是从什么典故发生的?\n",
      "=== Calling Function ===\n",
      "Calling function: query_engine_tool with args: {\"input\": \"\\u5356\\u6cb9\\u7fc1\\u7684\\u6545\\u4e8b\\u662f\\u4ece\\u4ec0\\u4e48\\u5178\\u6545\\u53d1\\u751f\\u7684?\"}\n",
      "=== Function Output ===\n",
      "陈尧咨和卖油翁的故事是从欧阳修的《卖油翁》中发生的。\n",
      "=== LLM Response ===\n",
      "卖油翁的故事是从欧阳修的《卖油翁》中发生的。\n"
     ]
    }
   ],
   "source": [
    "response = agent.query(\n",
    "    \"卖油翁的故事是从什么典故发生的?\"\n",
    ") "
   ]
  },
  {
   "cell_type": "code",
   "execution_count": 11,
   "metadata": {},
   "outputs": [
    {
     "name": "stdout",
     "output_type": "stream",
     "text": [
      "Added user message to memory: 解释一下卖油翁有什么启发，为什么要学习？\n",
      "=== Calling Function ===\n",
      "Calling function: query_engine_tool with args: {\"input\": \"\\u5356\\u6cb9\\u7fc1\\u6709\\u4ec0\\u4e48\\u542f\\u53d1\\uff0c\\u4e3a\\u4ec0\\u4e48\\u8981\\u5b66\\u4e60\\uff1f\"}\n",
      "=== Function Output ===\n",
      "The story of \"卖油翁\" serves as an inspiration by highlighting the importance of diligence and practice in honing one's skills. It emphasizes the concept of \"熟能生巧,\" which means that through continuous practice and effort, one can become proficient in a particular skill. The character of 卖油翁 demonstrates the value of humility, perseverance, and the continuous pursuit of excellence. This story encourages learning by showcasing the rewards of dedicated practice and the wisdom gained from experience.\n",
      "=== LLM Response ===\n",
      "卖油翁的故事启示我们关于勤奋和实践的重要性。它强调了“熟能生巧”的概念，即通过持续的练习和努力，人们可以在特定的技能上变得熟练。卖油翁这个角色展示了谦卑、毅力和不断追求卓越的价值。这个故事鼓励学习，展示了专心练习所带来的回报以及从经验中获得的智慧。\n",
      "卖油翁的故事启示我们关于勤奋和实践的重要性。它强调了“熟能生巧”的概念，即通过持续的练习和努力，人们可以在特定的技能上变得熟练。卖油翁这个角色展示了谦卑、毅力和不断追求卓越的价值。这个故事鼓励学习，展示了专心练习所带来的回报以及从经验中获得的智慧。\n"
     ]
    }
   ],
   "source": [
    "response = agent.chat(\n",
    "    \"解释一下卖油翁有什么启发，为什么要学习？\"\n",
    ")\n",
    "\n",
    "print(str(response))"
   ]
  },
  {
   "cell_type": "code",
   "execution_count": 12,
   "metadata": {},
   "outputs": [
    {
     "name": "stdout",
     "output_type": "stream",
     "text": [
      "Added user message to memory: 我最后一个问题是什么？\n",
      "=== LLM Response ===\n",
      "您的最后一个问题是关于卖油翁的启发和学习的相关问题。\n",
      "您的最后一个问题是关于卖油翁的启发和学习的相关问题。\n"
     ]
    }
   ],
   "source": [
    "response = agent.chat(\n",
    "    \"我最后一个问题是什么？\"\n",
    ")\n",
    "\n",
    "print(str(response))"
   ]
  },
  {
   "cell_type": "code",
   "execution_count": 13,
   "metadata": {},
   "outputs": [],
   "source": [
    "agent_worker = FunctionCallingAgentWorker.from_tools(\n",
    "    [vector_tool, summary_tool], \n",
    "    llm=llm, \n",
    "    verbose=True\n",
    ")\n",
    "agent = AgentRunner(agent_worker)"
   ]
  },
  {
   "cell_type": "code",
   "execution_count": 14,
   "metadata": {},
   "outputs": [],
   "source": [
    "task = agent.create_task(\n",
    "    \"解释一下卖油翁有什么启发？\"\n",
    "    \"为什么现代还要学习？\"\n",
    ")"
   ]
  },
  {
   "cell_type": "code",
   "execution_count": 15,
   "metadata": {},
   "outputs": [
    {
     "name": "stdout",
     "output_type": "stream",
     "text": [
      "Number of completed steps for tasksID d5a52616-d366-4f51-bd7c-c0ec6d948c84 is 0\n"
     ]
    }
   ],
   "source": [
    "completed_steps = agent.get_completed_steps(task.task_id)\n",
    "\n",
    "print(f\"Number of completed steps for tasksID {task.task_id} is {len(completed_steps)}\")\n",
    "\n",
    "if len(completed_steps) > 0:\n",
    "    print(completed_steps[0].output.sources[0].raw_output)"
   ]
  },
  {
   "cell_type": "code",
   "execution_count": 16,
   "metadata": {},
   "outputs": [
    {
     "name": "stdout",
     "output_type": "stream",
     "text": [
      "Number of completed steps for tasksID d5a52616-d366-4f51-bd7c-c0ec6d948c84 is 1\n",
      "解释一下卖油翁有什么启发？为什么现代还要学习？\n"
     ]
    }
   ],
   "source": [
    "upcoming_steps = agent.get_upcoming_steps(task.task_id)\n",
    "print(f\"Number of completed steps for tasksID {task.task_id} is {len(upcoming_steps)}\")\n",
    "\n",
    "if len(upcoming_steps) > 0:\n",
    "    print(upcoming_steps[0].input)"
   ]
  },
  {
   "cell_type": "code",
   "execution_count": 21,
   "metadata": {},
   "outputs": [
    {
     "name": "stdout",
     "output_type": "stream",
     "text": [
      "=== LLM Response ===\n",
      "卖油翁倾油的技巧强调了“技能源自实践”的原则和对特定技能专业知识的重要性。它强调熟练不仅仅是天赋的结果，而更多是持续的实践和经验积累的结果。\n"
     ]
    }
   ],
   "source": [
    "step_output = agent.run_step(task.task_id)"
   ]
  },
  {
   "cell_type": "code",
   "execution_count": 22,
   "metadata": {},
   "outputs": [
    {
     "name": "stdout",
     "output_type": "stream",
     "text": [
      "True\n"
     ]
    }
   ],
   "source": [
    "print(step_output.is_last)"
   ]
  },
  {
   "cell_type": "code",
   "execution_count": 19,
   "metadata": {},
   "outputs": [],
   "source": [
    "task = agent.create_task(\n",
    "    \"解释一下卖油翁有什么启发？\"\n",
    "    \"为什么现代还要学习？\"\n",
    ")"
   ]
  },
  {
   "cell_type": "code",
   "execution_count": 20,
   "metadata": {},
   "outputs": [
    {
     "name": "stdout",
     "output_type": "stream",
     "text": [
      "Added user message to memory: 卖油翁倾油的技巧强调了什么？\n",
      "=== Calling Function ===\n",
      "Calling function: query_engine_tool with args: {\"input\": \"\\u5356\\u6cb9\\u7fc1\\u503e\\u6cb9\\u7684\\u6280\\u5de7\\u5f3a\\u8c03\\u4e86\\u4ec0\\u4e48\\uff1f\"}\n",
      "=== Function Output ===\n",
      "The technique of pouring oil by the oil seller emphasizes the principle of \"skill comes from practice\" and the importance of expertise in a particular skill. It highlights the idea that proficiency is not just a result of innate talent, but rather the outcome of continuous practice and experience.\n"
     ]
    }
   ],
   "source": [
    "step_output = agent.run_step(\n",
    "    task.task_id, input=\"卖油翁倾油的技巧强调了什么？\"\n",
    ")"
   ]
  },
  {
   "cell_type": "code",
   "execution_count": 23,
   "metadata": {},
   "outputs": [
    {
     "name": "stdout",
     "output_type": "stream",
     "text": [
      "卖油翁倾油的技巧强调了“技能源自实践”的原则和对特定技能专业知识的重要性。它强调熟练不仅仅是天赋的结果，而更多是持续的实践和经验积累的结果。\n"
     ]
    }
   ],
   "source": [
    "response = agent.finalize_response(task.task_id)\n",
    "print(str(response))"
   ]
  }
 ],
 "metadata": {
  "kernelspec": {
   "display_name": "Python 3 (ipykernel)",
   "language": "python",
   "name": "python3"
  },
  "language_info": {
   "codemirror_mode": {
    "name": "ipython",
    "version": 3
   },
   "file_extension": ".py",
   "mimetype": "text/x-python",
   "name": "python",
   "nbconvert_exporter": "python",
   "pygments_lexer": "ipython3",
   "version": "3.10.14"
  }
 },
 "nbformat": 4,
 "nbformat_minor": 4
}
