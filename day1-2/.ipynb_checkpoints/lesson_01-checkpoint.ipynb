{
 "cells": [
  {
   "cell_type": "code",
   "execution_count": 8,
   "metadata": {},
   "outputs": [
    {
     "name": "stdout",
     "output_type": "stream",
     "text": [
      "The dotenv extension is already loaded. To reload it, use:\n",
      "  %reload_ext dotenv\n",
      "黄色的。\n"
     ]
    }
   ],
   "source": [
    "# 加载环境变量，如果你用的是OpenAI key就用这个方案！去掉注释即可！后面定义本地model的时候，把它注释\n",
    "import dotenv\n",
    "%load_ext dotenv\n",
    "%dotenv\n",
    "\n",
    "# test chat\n",
    "from llama_index.llms.openai import OpenAI\n",
    "response = OpenAI(model=\"gpt-3.5-turbo\").complete(\"香蕉的颜色是\")\n",
    "print(response)"
   ]
  },
  {
   "cell_type": "code",
   "execution_count": 9,
   "metadata": {},
   "outputs": [],
   "source": [
    "import nest_asyncio\n",
    "nest_asyncio.apply()"
   ]
  },
  {
   "cell_type": "code",
   "execution_count": 4,
   "metadata": {
    "scrolled": true
   },
   "outputs": [
    {
     "name": "stdout",
     "output_type": "stream",
     "text": [
      "Looking in indexes: https://pypi.tuna.tsinghua.edu.cn/simple\n",
      "Requirement already satisfied: python-dotenv in e:\\myenv\\anaconda\\envs\\llm\\lib\\site-packages (1.0.1)\n",
      "Requirement already satisfied: ipykernel in e:\\myenv\\anaconda\\envs\\llm\\lib\\site-packages (6.28.0)\n",
      "Requirement already satisfied: llama-index in e:\\myenv\\anaconda\\envs\\llm\\lib\\site-packages (0.10.46)\n",
      "Requirement already satisfied: nest_asyncio in e:\\myenv\\anaconda\\envs\\llm\\lib\\site-packages (1.6.0)\n",
      "Requirement already satisfied: comm>=0.1.1 in e:\\myenv\\anaconda\\envs\\llm\\lib\\site-packages (from ipykernel) (0.2.1)\n",
      "Requirement already satisfied: debugpy>=1.6.5 in e:\\myenv\\anaconda\\envs\\llm\\lib\\site-packages (from ipykernel) (1.6.7)\n",
      "Requirement already satisfied: ipython>=7.23.1 in e:\\myenv\\anaconda\\envs\\llm\\lib\\site-packages (from ipykernel) (8.12.3)\n",
      "Requirement already satisfied: jupyter-client>=6.1.12 in e:\\myenv\\anaconda\\envs\\llm\\lib\\site-packages (from ipykernel) (8.6.0)\n",
      "Requirement already satisfied: jupyter-core!=5.0.*,>=4.12 in e:\\myenv\\anaconda\\envs\\llm\\lib\\site-packages (from ipykernel) (5.5.0)\n",
      "Requirement already satisfied: matplotlib-inline>=0.1 in e:\\myenv\\anaconda\\envs\\llm\\lib\\site-packages (from ipykernel) (0.1.6)\n",
      "Requirement already satisfied: packaging in e:\\myenv\\anaconda\\envs\\llm\\lib\\site-packages (from ipykernel) (23.2)\n",
      "Requirement already satisfied: psutil in e:\\myenv\\anaconda\\envs\\llm\\lib\\site-packages (from ipykernel) (5.9.0)\n",
      "Requirement already satisfied: pyzmq>=24 in e:\\myenv\\anaconda\\envs\\llm\\lib\\site-packages (from ipykernel) (25.1.2)\n",
      "Requirement already satisfied: tornado>=6.1 in e:\\myenv\\anaconda\\envs\\llm\\lib\\site-packages (from ipykernel) (6.3.3)\n",
      "Requirement already satisfied: traitlets>=5.4.0 in e:\\myenv\\anaconda\\envs\\llm\\lib\\site-packages (from ipykernel) (5.14.3)\n",
      "Requirement already satisfied: llama-index-agent-openai<0.3.0,>=0.1.4 in e:\\myenv\\anaconda\\envs\\llm\\lib\\site-packages (from llama-index) (0.2.7)\n",
      "Requirement already satisfied: llama-index-cli<0.2.0,>=0.1.2 in e:\\myenv\\anaconda\\envs\\llm\\lib\\site-packages (from llama-index) (0.1.12)\n",
      "Requirement already satisfied: llama-index-core==0.10.46 in e:\\myenv\\anaconda\\envs\\llm\\lib\\site-packages (from llama-index) (0.10.46)\n",
      "Requirement already satisfied: llama-index-embeddings-openai<0.2.0,>=0.1.5 in e:\\myenv\\anaconda\\envs\\llm\\lib\\site-packages (from llama-index) (0.1.10)\n",
      "Requirement already satisfied: llama-index-indices-managed-llama-cloud<0.2.0,>=0.1.2 in e:\\myenv\\anaconda\\envs\\llm\\lib\\site-packages (from llama-index) (0.1.6)\n",
      "Requirement already satisfied: llama-index-legacy<0.10.0,>=0.9.48 in e:\\myenv\\anaconda\\envs\\llm\\lib\\site-packages (from llama-index) (0.9.48)\n",
      "Requirement already satisfied: llama-index-llms-openai<0.2.0,>=0.1.13 in e:\\myenv\\anaconda\\envs\\llm\\lib\\site-packages (from llama-index) (0.1.22)\n",
      "Requirement already satisfied: llama-index-multi-modal-llms-openai<0.2.0,>=0.1.3 in e:\\myenv\\anaconda\\envs\\llm\\lib\\site-packages (from llama-index) (0.1.6)\n",
      "Requirement already satisfied: llama-index-program-openai<0.2.0,>=0.1.3 in e:\\myenv\\anaconda\\envs\\llm\\lib\\site-packages (from llama-index) (0.1.6)\n",
      "Requirement already satisfied: llama-index-question-gen-openai<0.2.0,>=0.1.2 in e:\\myenv\\anaconda\\envs\\llm\\lib\\site-packages (from llama-index) (0.1.3)\n",
      "Requirement already satisfied: llama-index-readers-file<0.2.0,>=0.1.4 in e:\\myenv\\anaconda\\envs\\llm\\lib\\site-packages (from llama-index) (0.1.25)\n",
      "Requirement already satisfied: llama-index-readers-llama-parse<0.2.0,>=0.1.2 in e:\\myenv\\anaconda\\envs\\llm\\lib\\site-packages (from llama-index) (0.1.4)\n",
      "Requirement already satisfied: PyYAML>=6.0.1 in e:\\myenv\\anaconda\\envs\\llm\\lib\\site-packages (from llama-index-core==0.10.46->llama-index) (6.0.1)\n",
      "Requirement already satisfied: SQLAlchemy>=1.4.49 in e:\\myenv\\anaconda\\envs\\llm\\lib\\site-packages (from SQLAlchemy[asyncio]>=1.4.49->llama-index-core==0.10.46->llama-index) (2.0.30)\n",
      "Requirement already satisfied: aiohttp<4.0.0,>=3.8.6 in e:\\myenv\\anaconda\\envs\\llm\\lib\\site-packages (from llama-index-core==0.10.46->llama-index) (3.9.5)\n",
      "Requirement already satisfied: dataclasses-json in e:\\myenv\\anaconda\\envs\\llm\\lib\\site-packages (from llama-index-core==0.10.46->llama-index) (0.6.7)\n",
      "Requirement already satisfied: deprecated>=1.2.9.3 in e:\\myenv\\anaconda\\envs\\llm\\lib\\site-packages (from llama-index-core==0.10.46->llama-index) (1.2.14)\n",
      "Requirement already satisfied: dirtyjson<2.0.0,>=1.0.8 in e:\\myenv\\anaconda\\envs\\llm\\lib\\site-packages (from llama-index-core==0.10.46->llama-index) (1.0.8)\n",
      "Requirement already satisfied: fsspec>=2023.5.0 in e:\\myenv\\anaconda\\envs\\llm\\lib\\site-packages (from llama-index-core==0.10.46->llama-index) (2024.6.0)\n",
      "Requirement already satisfied: httpx in e:\\myenv\\anaconda\\envs\\llm\\lib\\site-packages (from llama-index-core==0.10.46->llama-index) (0.26.0)\n",
      "Requirement already satisfied: llamaindex-py-client<0.2.0,>=0.1.18 in e:\\myenv\\anaconda\\envs\\llm\\lib\\site-packages (from llama-index-core==0.10.46->llama-index) (0.1.19)\n",
      "Requirement already satisfied: networkx>=3.0 in e:\\myenv\\anaconda\\envs\\llm\\lib\\site-packages (from llama-index-core==0.10.46->llama-index) (3.3)\n",
      "Requirement already satisfied: nltk<4.0.0,>=3.8.1 in e:\\myenv\\anaconda\\envs\\llm\\lib\\site-packages (from llama-index-core==0.10.46->llama-index) (3.8.1)\n",
      "Requirement already satisfied: numpy<2.0.0 in e:\\myenv\\anaconda\\envs\\llm\\lib\\site-packages (from llama-index-core==0.10.46->llama-index) (1.26.4)\n",
      "Requirement already satisfied: openai>=1.1.0 in e:\\myenv\\anaconda\\envs\\llm\\lib\\site-packages (from llama-index-core==0.10.46->llama-index) (1.25.0)\n",
      "Requirement already satisfied: pandas in e:\\myenv\\anaconda\\envs\\llm\\lib\\site-packages (from llama-index-core==0.10.46->llama-index) (2.2.2)\n",
      "Requirement already satisfied: pillow>=9.0.0 in e:\\myenv\\anaconda\\envs\\llm\\lib\\site-packages (from llama-index-core==0.10.46->llama-index) (10.3.0)\n",
      "Requirement already satisfied: requests>=2.31.0 in e:\\myenv\\anaconda\\envs\\llm\\lib\\site-packages (from llama-index-core==0.10.46->llama-index) (2.32.2)\n",
      "Requirement already satisfied: tenacity<8.4.0,>=8.2.0 in e:\\myenv\\anaconda\\envs\\llm\\lib\\site-packages (from llama-index-core==0.10.46->llama-index) (8.3.0)\n",
      "Requirement already satisfied: tiktoken>=0.3.3 in e:\\myenv\\anaconda\\envs\\llm\\lib\\site-packages (from llama-index-core==0.10.46->llama-index) (0.7.0)\n",
      "Requirement already satisfied: tqdm<5.0.0,>=4.66.1 in e:\\myenv\\anaconda\\envs\\llm\\lib\\site-packages (from llama-index-core==0.10.46->llama-index) (4.66.4)\n",
      "Requirement already satisfied: typing-extensions>=4.5.0 in e:\\myenv\\anaconda\\envs\\llm\\lib\\site-packages (from llama-index-core==0.10.46->llama-index) (4.11.0)\n",
      "Requirement already satisfied: typing-inspect>=0.8.0 in e:\\myenv\\anaconda\\envs\\llm\\lib\\site-packages (from llama-index-core==0.10.46->llama-index) (0.9.0)\n",
      "Requirement already satisfied: wrapt in e:\\myenv\\anaconda\\envs\\llm\\lib\\site-packages (from llama-index-core==0.10.46->llama-index) (1.16.0)\n",
      "Requirement already satisfied: backcall in e:\\myenv\\anaconda\\envs\\llm\\lib\\site-packages (from ipython>=7.23.1->ipykernel) (0.2.0)\n",
      "Requirement already satisfied: decorator in e:\\myenv\\anaconda\\envs\\llm\\lib\\site-packages (from ipython>=7.23.1->ipykernel) (5.1.1)\n",
      "Requirement already satisfied: jedi>=0.16 in e:\\myenv\\anaconda\\envs\\llm\\lib\\site-packages (from ipython>=7.23.1->ipykernel) (0.18.1)\n",
      "Requirement already satisfied: pickleshare in e:\\myenv\\anaconda\\envs\\llm\\lib\\site-packages (from ipython>=7.23.1->ipykernel) (0.7.5)\n",
      "Requirement already satisfied: prompt-toolkit!=3.0.37,<3.1.0,>=3.0.30 in e:\\myenv\\anaconda\\envs\\llm\\lib\\site-packages (from ipython>=7.23.1->ipykernel) (3.0.43)\n",
      "Requirement already satisfied: pygments>=2.4.0 in e:\\myenv\\anaconda\\envs\\llm\\lib\\site-packages (from ipython>=7.23.1->ipykernel) (2.15.1)\n",
      "Requirement already satisfied: stack-data in e:\\myenv\\anaconda\\envs\\llm\\lib\\site-packages (from ipython>=7.23.1->ipykernel) (0.2.0)\n",
      "Requirement already satisfied: colorama in e:\\myenv\\anaconda\\envs\\llm\\lib\\site-packages (from ipython>=7.23.1->ipykernel) (0.4.6)\n",
      "Requirement already satisfied: python-dateutil>=2.8.2 in e:\\myenv\\anaconda\\envs\\llm\\lib\\site-packages (from jupyter-client>=6.1.12->ipykernel) (2.9.0.post0)\n",
      "Requirement already satisfied: platformdirs>=2.5 in e:\\myenv\\anaconda\\envs\\llm\\lib\\site-packages (from jupyter-core!=5.0.*,>=4.12->ipykernel) (3.10.0)\n",
      "Requirement already satisfied: pywin32>=300 in e:\\myenv\\anaconda\\envs\\llm\\lib\\site-packages (from jupyter-core!=5.0.*,>=4.12->ipykernel) (305.1)\n",
      "Requirement already satisfied: beautifulsoup4<5.0.0,>=4.12.3 in e:\\myenv\\anaconda\\envs\\llm\\lib\\site-packages (from llama-index-readers-file<0.2.0,>=0.1.4->llama-index) (4.12.3)\n",
      "Requirement already satisfied: pypdf<5.0.0,>=4.0.1 in e:\\myenv\\anaconda\\envs\\llm\\lib\\site-packages (from llama-index-readers-file<0.2.0,>=0.1.4->llama-index) (4.2.0)\n",
      "Requirement already satisfied: striprtf<0.0.27,>=0.0.26 in e:\\myenv\\anaconda\\envs\\llm\\lib\\site-packages (from llama-index-readers-file<0.2.0,>=0.1.4->llama-index) (0.0.26)\n",
      "Requirement already satisfied: llama-parse<0.5.0,>=0.4.0 in e:\\myenv\\anaconda\\envs\\llm\\lib\\site-packages (from llama-index-readers-llama-parse<0.2.0,>=0.1.2->llama-index) (0.4.4)\n",
      "Requirement already satisfied: aiosignal>=1.1.2 in e:\\myenv\\anaconda\\envs\\llm\\lib\\site-packages (from aiohttp<4.0.0,>=3.8.6->llama-index-core==0.10.46->llama-index) (1.3.1)\n",
      "Requirement already satisfied: attrs>=17.3.0 in e:\\myenv\\anaconda\\envs\\llm\\lib\\site-packages (from aiohttp<4.0.0,>=3.8.6->llama-index-core==0.10.46->llama-index) (23.1.0)\n",
      "Requirement already satisfied: frozenlist>=1.1.1 in e:\\myenv\\anaconda\\envs\\llm\\lib\\site-packages (from aiohttp<4.0.0,>=3.8.6->llama-index-core==0.10.46->llama-index) (1.4.1)\n",
      "Requirement already satisfied: multidict<7.0,>=4.5 in e:\\myenv\\anaconda\\envs\\llm\\lib\\site-packages (from aiohttp<4.0.0,>=3.8.6->llama-index-core==0.10.46->llama-index) (6.0.5)\n",
      "Requirement already satisfied: yarl<2.0,>=1.0 in e:\\myenv\\anaconda\\envs\\llm\\lib\\site-packages (from aiohttp<4.0.0,>=3.8.6->llama-index-core==0.10.46->llama-index) (1.9.4)\n",
      "Requirement already satisfied: soupsieve>1.2 in e:\\myenv\\anaconda\\envs\\llm\\lib\\site-packages (from beautifulsoup4<5.0.0,>=4.12.3->llama-index-readers-file<0.2.0,>=0.1.4->llama-index) (2.5)\n",
      "Requirement already satisfied: parso<0.9.0,>=0.8.0 in e:\\myenv\\anaconda\\envs\\llm\\lib\\site-packages (from jedi>=0.16->ipython>=7.23.1->ipykernel) (0.8.3)\n",
      "Requirement already satisfied: pydantic>=1.10 in e:\\myenv\\anaconda\\envs\\llm\\lib\\site-packages (from llamaindex-py-client<0.2.0,>=0.1.18->llama-index-core==0.10.46->llama-index) (2.5.3)\n",
      "Requirement already satisfied: anyio in e:\\myenv\\anaconda\\envs\\llm\\lib\\site-packages (from httpx->llama-index-core==0.10.46->llama-index) (4.2.0)\n",
      "Requirement already satisfied: certifi in e:\\myenv\\anaconda\\envs\\llm\\lib\\site-packages (from httpx->llama-index-core==0.10.46->llama-index) (2024.6.2)\n",
      "Requirement already satisfied: httpcore==1.* in e:\\myenv\\anaconda\\envs\\llm\\lib\\site-packages (from httpx->llama-index-core==0.10.46->llama-index) (1.0.2)\n",
      "Requirement already satisfied: idna in e:\\myenv\\anaconda\\envs\\llm\\lib\\site-packages (from httpx->llama-index-core==0.10.46->llama-index) (3.7)\n",
      "Requirement already satisfied: sniffio in e:\\myenv\\anaconda\\envs\\llm\\lib\\site-packages (from httpx->llama-index-core==0.10.46->llama-index) (1.3.0)\n",
      "Requirement already satisfied: h11<0.15,>=0.13 in e:\\myenv\\anaconda\\envs\\llm\\lib\\site-packages (from httpcore==1.*->httpx->llama-index-core==0.10.46->llama-index) (0.14.0)\n",
      "Requirement already satisfied: click in e:\\myenv\\anaconda\\envs\\llm\\lib\\site-packages (from nltk<4.0.0,>=3.8.1->llama-index-core==0.10.46->llama-index) (8.1.7)\n",
      "Requirement already satisfied: joblib in e:\\myenv\\anaconda\\envs\\llm\\lib\\site-packages (from nltk<4.0.0,>=3.8.1->llama-index-core==0.10.46->llama-index) (1.4.2)\n",
      "Requirement already satisfied: regex>=2021.8.3 in e:\\myenv\\anaconda\\envs\\llm\\lib\\site-packages (from nltk<4.0.0,>=3.8.1->llama-index-core==0.10.46->llama-index) (2024.5.15)\n",
      "Requirement already satisfied: distro<2,>=1.7.0 in e:\\myenv\\anaconda\\envs\\llm\\lib\\site-packages (from openai>=1.1.0->llama-index-core==0.10.46->llama-index) (1.9.0)\n",
      "Requirement already satisfied: wcwidth in e:\\myenv\\anaconda\\envs\\llm\\lib\\site-packages (from prompt-toolkit!=3.0.37,<3.1.0,>=3.0.30->ipython>=7.23.1->ipykernel) (0.2.5)\n",
      "Requirement already satisfied: six>=1.5 in e:\\myenv\\anaconda\\envs\\llm\\lib\\site-packages (from python-dateutil>=2.8.2->jupyter-client>=6.1.12->ipykernel) (1.16.0)\n",
      "Requirement already satisfied: charset-normalizer<4,>=2 in e:\\myenv\\anaconda\\envs\\llm\\lib\\site-packages (from requests>=2.31.0->llama-index-core==0.10.46->llama-index) (2.0.4)\n",
      "Requirement already satisfied: urllib3<3,>=1.21.1 in e:\\myenv\\anaconda\\envs\\llm\\lib\\site-packages (from requests>=2.31.0->llama-index-core==0.10.46->llama-index) (2.2.1)\n",
      "Requirement already satisfied: greenlet!=0.4.17 in e:\\myenv\\anaconda\\envs\\llm\\lib\\site-packages (from SQLAlchemy>=1.4.49->SQLAlchemy[asyncio]>=1.4.49->llama-index-core==0.10.46->llama-index) (3.0.3)\n",
      "Requirement already satisfied: mypy-extensions>=0.3.0 in e:\\myenv\\anaconda\\envs\\llm\\lib\\site-packages (from typing-inspect>=0.8.0->llama-index-core==0.10.46->llama-index) (1.0.0)\n",
      "Requirement already satisfied: marshmallow<4.0.0,>=3.18.0 in e:\\myenv\\anaconda\\envs\\llm\\lib\\site-packages (from dataclasses-json->llama-index-core==0.10.46->llama-index) (3.21.3)\n",
      "Requirement already satisfied: pytz>=2020.1 in e:\\myenv\\anaconda\\envs\\llm\\lib\\site-packages (from pandas->llama-index-core==0.10.46->llama-index) (2024.1)\n",
      "Requirement already satisfied: tzdata>=2022.7 in e:\\myenv\\anaconda\\envs\\llm\\lib\\site-packages (from pandas->llama-index-core==0.10.46->llama-index) (2024.1)\n",
      "Requirement already satisfied: executing in e:\\myenv\\anaconda\\envs\\llm\\lib\\site-packages (from stack-data->ipython>=7.23.1->ipykernel) (0.8.3)\n",
      "Requirement already satisfied: asttokens in e:\\myenv\\anaconda\\envs\\llm\\lib\\site-packages (from stack-data->ipython>=7.23.1->ipykernel) (2.0.5)\n",
      "Requirement already satisfied: pure-eval in e:\\myenv\\anaconda\\envs\\llm\\lib\\site-packages (from stack-data->ipython>=7.23.1->ipykernel) (0.2.2)\n",
      "Requirement already satisfied: annotated-types>=0.4.0 in e:\\myenv\\anaconda\\envs\\llm\\lib\\site-packages (from pydantic>=1.10->llamaindex-py-client<0.2.0,>=0.1.18->llama-index-core==0.10.46->llama-index) (0.6.0)\n",
      "Requirement already satisfied: pydantic-core==2.14.6 in e:\\myenv\\anaconda\\envs\\llm\\lib\\site-packages (from pydantic>=1.10->llamaindex-py-client<0.2.0,>=0.1.18->llama-index-core==0.10.46->llama-index) (2.14.6)\n",
      "Looking in indexes: https://pypi.tuna.tsinghua.edu.cn/simple\n",
      "Requirement already satisfied: timm in e:\\myenv\\anaconda\\envs\\llm\\lib\\site-packages (1.0.3)\n",
      "Requirement already satisfied: torch in e:\\myenv\\anaconda\\envs\\llm\\lib\\site-packages (from timm) (2.3.1)\n",
      "Requirement already satisfied: torchvision in e:\\myenv\\anaconda\\envs\\llm\\lib\\site-packages (from timm) (0.18.1)\n",
      "Requirement already satisfied: pyyaml in e:\\myenv\\anaconda\\envs\\llm\\lib\\site-packages (from timm) (6.0.1)\n",
      "Requirement already satisfied: huggingface_hub in e:\\myenv\\anaconda\\envs\\llm\\lib\\site-packages (from timm) (0.23.4)\n",
      "Requirement already satisfied: safetensors in e:\\myenv\\anaconda\\envs\\llm\\lib\\site-packages (from timm) (0.4.3)\n",
      "Requirement already satisfied: filelock in e:\\myenv\\anaconda\\envs\\llm\\lib\\site-packages (from huggingface_hub->timm) (3.15.1)\n",
      "Requirement already satisfied: fsspec>=2023.5.0 in e:\\myenv\\anaconda\\envs\\llm\\lib\\site-packages (from huggingface_hub->timm) (2024.6.0)\n",
      "Requirement already satisfied: packaging>=20.9 in e:\\myenv\\anaconda\\envs\\llm\\lib\\site-packages (from huggingface_hub->timm) (23.2)\n",
      "Requirement already satisfied: requests in e:\\myenv\\anaconda\\envs\\llm\\lib\\site-packages (from huggingface_hub->timm) (2.32.2)\n",
      "Requirement already satisfied: tqdm>=4.42.1 in e:\\myenv\\anaconda\\envs\\llm\\lib\\site-packages (from huggingface_hub->timm) (4.66.4)\n",
      "Requirement already satisfied: typing-extensions>=3.7.4.3 in e:\\myenv\\anaconda\\envs\\llm\\lib\\site-packages (from huggingface_hub->timm) (4.11.0)\n",
      "Requirement already satisfied: sympy in e:\\myenv\\anaconda\\envs\\llm\\lib\\site-packages (from torch->timm) (1.12.1)\n",
      "Requirement already satisfied: networkx in e:\\myenv\\anaconda\\envs\\llm\\lib\\site-packages (from torch->timm) (3.3)\n",
      "Requirement already satisfied: jinja2 in e:\\myenv\\anaconda\\envs\\llm\\lib\\site-packages (from torch->timm) (3.1.4)\n",
      "Requirement already satisfied: mkl<=2021.4.0,>=2021.1.1 in e:\\myenv\\anaconda\\envs\\llm\\lib\\site-packages (from torch->timm) (2021.4.0)\n",
      "Requirement already satisfied: numpy in e:\\myenv\\anaconda\\envs\\llm\\lib\\site-packages (from torchvision->timm) (1.26.4)\n",
      "Requirement already satisfied: pillow!=8.3.*,>=5.3.0 in e:\\myenv\\anaconda\\envs\\llm\\lib\\site-packages (from torchvision->timm) (10.3.0)\n",
      "Requirement already satisfied: intel-openmp==2021.* in e:\\myenv\\anaconda\\envs\\llm\\lib\\site-packages (from mkl<=2021.4.0,>=2021.1.1->torch->timm) (2021.4.0)\n",
      "Requirement already satisfied: tbb==2021.* in e:\\myenv\\anaconda\\envs\\llm\\lib\\site-packages (from mkl<=2021.4.0,>=2021.1.1->torch->timm) (2021.12.0)\n",
      "Requirement already satisfied: colorama in e:\\myenv\\anaconda\\envs\\llm\\lib\\site-packages (from tqdm>=4.42.1->huggingface_hub->timm) (0.4.6)\n",
      "Requirement already satisfied: MarkupSafe>=2.0 in e:\\myenv\\anaconda\\envs\\llm\\lib\\site-packages (from jinja2->torch->timm) (2.1.3)\n",
      "Requirement already satisfied: charset-normalizer<4,>=2 in e:\\myenv\\anaconda\\envs\\llm\\lib\\site-packages (from requests->huggingface_hub->timm) (2.0.4)\n",
      "Requirement already satisfied: idna<4,>=2.5 in e:\\myenv\\anaconda\\envs\\llm\\lib\\site-packages (from requests->huggingface_hub->timm) (3.7)\n",
      "Requirement already satisfied: urllib3<3,>=1.21.1 in e:\\myenv\\anaconda\\envs\\llm\\lib\\site-packages (from requests->huggingface_hub->timm) (2.2.1)\n",
      "Requirement already satisfied: certifi>=2017.4.17 in e:\\myenv\\anaconda\\envs\\llm\\lib\\site-packages (from requests->huggingface_hub->timm) (2024.6.2)\n",
      "Requirement already satisfied: mpmath<1.4.0,>=1.1.0 in e:\\myenv\\anaconda\\envs\\llm\\lib\\site-packages (from sympy->torch->timm) (1.3.0)\n",
      "Looking in indexes: https://pypi.tuna.tsinghua.edu.cn/simple\n",
      "Requirement already satisfied: llama-index-llms-huggingface in e:\\myenv\\anaconda\\envs\\llm\\lib\\site-packages (0.2.3)\n",
      "Requirement already satisfied: huggingface-hub<0.24.0,>=0.23.0 in e:\\myenv\\anaconda\\envs\\llm\\lib\\site-packages (from llama-index-llms-huggingface) (0.23.4)\n",
      "Requirement already satisfied: llama-index-core<0.11.0,>=0.10.41 in e:\\myenv\\anaconda\\envs\\llm\\lib\\site-packages (from llama-index-llms-huggingface) (0.10.46)\n",
      "Requirement already satisfied: text-generation<0.8.0,>=0.7.0 in e:\\myenv\\anaconda\\envs\\llm\\lib\\site-packages (from llama-index-llms-huggingface) (0.7.0)\n",
      "Requirement already satisfied: torch<3.0.0,>=2.1.2 in e:\\myenv\\anaconda\\envs\\llm\\lib\\site-packages (from llama-index-llms-huggingface) (2.3.1)\n",
      "Requirement already satisfied: transformers<5.0.0,>=4.37.0 in e:\\myenv\\anaconda\\envs\\llm\\lib\\site-packages (from transformers[torch]<5.0.0,>=4.37.0->llama-index-llms-huggingface) (4.41.2)\n",
      "Requirement already satisfied: filelock in e:\\myenv\\anaconda\\envs\\llm\\lib\\site-packages (from huggingface-hub<0.24.0,>=0.23.0->llama-index-llms-huggingface) (3.15.1)\n",
      "Requirement already satisfied: fsspec>=2023.5.0 in e:\\myenv\\anaconda\\envs\\llm\\lib\\site-packages (from huggingface-hub<0.24.0,>=0.23.0->llama-index-llms-huggingface) (2024.6.0)\n",
      "Requirement already satisfied: packaging>=20.9 in e:\\myenv\\anaconda\\envs\\llm\\lib\\site-packages (from huggingface-hub<0.24.0,>=0.23.0->llama-index-llms-huggingface) (23.2)\n",
      "Requirement already satisfied: pyyaml>=5.1 in e:\\myenv\\anaconda\\envs\\llm\\lib\\site-packages (from huggingface-hub<0.24.0,>=0.23.0->llama-index-llms-huggingface) (6.0.1)\n",
      "Requirement already satisfied: requests in e:\\myenv\\anaconda\\envs\\llm\\lib\\site-packages (from huggingface-hub<0.24.0,>=0.23.0->llama-index-llms-huggingface) (2.32.2)\n",
      "Requirement already satisfied: tqdm>=4.42.1 in e:\\myenv\\anaconda\\envs\\llm\\lib\\site-packages (from huggingface-hub<0.24.0,>=0.23.0->llama-index-llms-huggingface) (4.66.4)\n",
      "Requirement already satisfied: typing-extensions>=3.7.4.3 in e:\\myenv\\anaconda\\envs\\llm\\lib\\site-packages (from huggingface-hub<0.24.0,>=0.23.0->llama-index-llms-huggingface) (4.11.0)\n",
      "Requirement already satisfied: SQLAlchemy>=1.4.49 in e:\\myenv\\anaconda\\envs\\llm\\lib\\site-packages (from SQLAlchemy[asyncio]>=1.4.49->llama-index-core<0.11.0,>=0.10.41->llama-index-llms-huggingface) (2.0.30)\n",
      "Requirement already satisfied: aiohttp<4.0.0,>=3.8.6 in e:\\myenv\\anaconda\\envs\\llm\\lib\\site-packages (from llama-index-core<0.11.0,>=0.10.41->llama-index-llms-huggingface) (3.9.5)\n",
      "Requirement already satisfied: dataclasses-json in e:\\myenv\\anaconda\\envs\\llm\\lib\\site-packages (from llama-index-core<0.11.0,>=0.10.41->llama-index-llms-huggingface) (0.6.7)\n",
      "Requirement already satisfied: deprecated>=1.2.9.3 in e:\\myenv\\anaconda\\envs\\llm\\lib\\site-packages (from llama-index-core<0.11.0,>=0.10.41->llama-index-llms-huggingface) (1.2.14)\n",
      "Requirement already satisfied: dirtyjson<2.0.0,>=1.0.8 in e:\\myenv\\anaconda\\envs\\llm\\lib\\site-packages (from llama-index-core<0.11.0,>=0.10.41->llama-index-llms-huggingface) (1.0.8)\n",
      "Requirement already satisfied: httpx in e:\\myenv\\anaconda\\envs\\llm\\lib\\site-packages (from llama-index-core<0.11.0,>=0.10.41->llama-index-llms-huggingface) (0.26.0)\n",
      "Requirement already satisfied: llamaindex-py-client<0.2.0,>=0.1.18 in e:\\myenv\\anaconda\\envs\\llm\\lib\\site-packages (from llama-index-core<0.11.0,>=0.10.41->llama-index-llms-huggingface) (0.1.19)\n",
      "Requirement already satisfied: nest-asyncio<2.0.0,>=1.5.8 in e:\\myenv\\anaconda\\envs\\llm\\lib\\site-packages (from llama-index-core<0.11.0,>=0.10.41->llama-index-llms-huggingface) (1.6.0)\n",
      "Requirement already satisfied: networkx>=3.0 in e:\\myenv\\anaconda\\envs\\llm\\lib\\site-packages (from llama-index-core<0.11.0,>=0.10.41->llama-index-llms-huggingface) (3.3)\n",
      "Requirement already satisfied: nltk<4.0.0,>=3.8.1 in e:\\myenv\\anaconda\\envs\\llm\\lib\\site-packages (from llama-index-core<0.11.0,>=0.10.41->llama-index-llms-huggingface) (3.8.1)\n",
      "Requirement already satisfied: numpy<2.0.0 in e:\\myenv\\anaconda\\envs\\llm\\lib\\site-packages (from llama-index-core<0.11.0,>=0.10.41->llama-index-llms-huggingface) (1.26.4)\n",
      "Requirement already satisfied: openai>=1.1.0 in e:\\myenv\\anaconda\\envs\\llm\\lib\\site-packages (from llama-index-core<0.11.0,>=0.10.41->llama-index-llms-huggingface) (1.25.0)\n",
      "Requirement already satisfied: pandas in e:\\myenv\\anaconda\\envs\\llm\\lib\\site-packages (from llama-index-core<0.11.0,>=0.10.41->llama-index-llms-huggingface) (2.2.2)\n",
      "Requirement already satisfied: pillow>=9.0.0 in e:\\myenv\\anaconda\\envs\\llm\\lib\\site-packages (from llama-index-core<0.11.0,>=0.10.41->llama-index-llms-huggingface) (10.3.0)\n",
      "Requirement already satisfied: tenacity<8.4.0,>=8.2.0 in e:\\myenv\\anaconda\\envs\\llm\\lib\\site-packages (from llama-index-core<0.11.0,>=0.10.41->llama-index-llms-huggingface) (8.3.0)\n",
      "Requirement already satisfied: tiktoken>=0.3.3 in e:\\myenv\\anaconda\\envs\\llm\\lib\\site-packages (from llama-index-core<0.11.0,>=0.10.41->llama-index-llms-huggingface) (0.7.0)\n",
      "Requirement already satisfied: typing-inspect>=0.8.0 in e:\\myenv\\anaconda\\envs\\llm\\lib\\site-packages (from llama-index-core<0.11.0,>=0.10.41->llama-index-llms-huggingface) (0.9.0)\n",
      "Requirement already satisfied: wrapt in e:\\myenv\\anaconda\\envs\\llm\\lib\\site-packages (from llama-index-core<0.11.0,>=0.10.41->llama-index-llms-huggingface) (1.16.0)\n",
      "Requirement already satisfied: pydantic<3,>2 in e:\\myenv\\anaconda\\envs\\llm\\lib\\site-packages (from text-generation<0.8.0,>=0.7.0->llama-index-llms-huggingface) (2.5.3)\n",
      "Requirement already satisfied: sympy in e:\\myenv\\anaconda\\envs\\llm\\lib\\site-packages (from torch<3.0.0,>=2.1.2->llama-index-llms-huggingface) (1.12.1)\n",
      "Requirement already satisfied: jinja2 in e:\\myenv\\anaconda\\envs\\llm\\lib\\site-packages (from torch<3.0.0,>=2.1.2->llama-index-llms-huggingface) (3.1.4)\n",
      "Requirement already satisfied: mkl<=2021.4.0,>=2021.1.1 in e:\\myenv\\anaconda\\envs\\llm\\lib\\site-packages (from torch<3.0.0,>=2.1.2->llama-index-llms-huggingface) (2021.4.0)\n",
      "Requirement already satisfied: regex!=2019.12.17 in e:\\myenv\\anaconda\\envs\\llm\\lib\\site-packages (from transformers<5.0.0,>=4.37.0->transformers[torch]<5.0.0,>=4.37.0->llama-index-llms-huggingface) (2024.5.15)\n",
      "Requirement already satisfied: tokenizers<0.20,>=0.19 in e:\\myenv\\anaconda\\envs\\llm\\lib\\site-packages (from transformers<5.0.0,>=4.37.0->transformers[torch]<5.0.0,>=4.37.0->llama-index-llms-huggingface) (0.19.1)\n",
      "Requirement already satisfied: safetensors>=0.4.1 in e:\\myenv\\anaconda\\envs\\llm\\lib\\site-packages (from transformers<5.0.0,>=4.37.0->transformers[torch]<5.0.0,>=4.37.0->llama-index-llms-huggingface) (0.4.3)\n",
      "Requirement already satisfied: accelerate>=0.21.0 in e:\\myenv\\anaconda\\envs\\llm\\lib\\site-packages (from transformers[torch]<5.0.0,>=4.37.0->llama-index-llms-huggingface) (0.31.0)\n",
      "Requirement already satisfied: psutil in e:\\myenv\\anaconda\\envs\\llm\\lib\\site-packages (from accelerate>=0.21.0->transformers[torch]<5.0.0,>=4.37.0->llama-index-llms-huggingface) (5.9.0)\n",
      "Requirement already satisfied: aiosignal>=1.1.2 in e:\\myenv\\anaconda\\envs\\llm\\lib\\site-packages (from aiohttp<4.0.0,>=3.8.6->llama-index-core<0.11.0,>=0.10.41->llama-index-llms-huggingface) (1.3.1)\n",
      "Requirement already satisfied: attrs>=17.3.0 in e:\\myenv\\anaconda\\envs\\llm\\lib\\site-packages (from aiohttp<4.0.0,>=3.8.6->llama-index-core<0.11.0,>=0.10.41->llama-index-llms-huggingface) (23.1.0)\n",
      "Requirement already satisfied: frozenlist>=1.1.1 in e:\\myenv\\anaconda\\envs\\llm\\lib\\site-packages (from aiohttp<4.0.0,>=3.8.6->llama-index-core<0.11.0,>=0.10.41->llama-index-llms-huggingface) (1.4.1)\n",
      "Requirement already satisfied: multidict<7.0,>=4.5 in e:\\myenv\\anaconda\\envs\\llm\\lib\\site-packages (from aiohttp<4.0.0,>=3.8.6->llama-index-core<0.11.0,>=0.10.41->llama-index-llms-huggingface) (6.0.5)\n",
      "Requirement already satisfied: yarl<2.0,>=1.0 in e:\\myenv\\anaconda\\envs\\llm\\lib\\site-packages (from aiohttp<4.0.0,>=3.8.6->llama-index-core<0.11.0,>=0.10.41->llama-index-llms-huggingface) (1.9.4)\n",
      "Requirement already satisfied: anyio in e:\\myenv\\anaconda\\envs\\llm\\lib\\site-packages (from httpx->llama-index-core<0.11.0,>=0.10.41->llama-index-llms-huggingface) (4.2.0)\n",
      "Requirement already satisfied: certifi in e:\\myenv\\anaconda\\envs\\llm\\lib\\site-packages (from httpx->llama-index-core<0.11.0,>=0.10.41->llama-index-llms-huggingface) (2024.6.2)\n",
      "Requirement already satisfied: httpcore==1.* in e:\\myenv\\anaconda\\envs\\llm\\lib\\site-packages (from httpx->llama-index-core<0.11.0,>=0.10.41->llama-index-llms-huggingface) (1.0.2)\n",
      "Requirement already satisfied: idna in e:\\myenv\\anaconda\\envs\\llm\\lib\\site-packages (from httpx->llama-index-core<0.11.0,>=0.10.41->llama-index-llms-huggingface) (3.7)\n",
      "Requirement already satisfied: sniffio in e:\\myenv\\anaconda\\envs\\llm\\lib\\site-packages (from httpx->llama-index-core<0.11.0,>=0.10.41->llama-index-llms-huggingface) (1.3.0)\n",
      "Requirement already satisfied: h11<0.15,>=0.13 in e:\\myenv\\anaconda\\envs\\llm\\lib\\site-packages (from httpcore==1.*->httpx->llama-index-core<0.11.0,>=0.10.41->llama-index-llms-huggingface) (0.14.0)\n",
      "Requirement already satisfied: intel-openmp==2021.* in e:\\myenv\\anaconda\\envs\\llm\\lib\\site-packages (from mkl<=2021.4.0,>=2021.1.1->torch<3.0.0,>=2.1.2->llama-index-llms-huggingface) (2021.4.0)\n",
      "Requirement already satisfied: tbb==2021.* in e:\\myenv\\anaconda\\envs\\llm\\lib\\site-packages (from mkl<=2021.4.0,>=2021.1.1->torch<3.0.0,>=2.1.2->llama-index-llms-huggingface) (2021.12.0)\n",
      "Requirement already satisfied: click in e:\\myenv\\anaconda\\envs\\llm\\lib\\site-packages (from nltk<4.0.0,>=3.8.1->llama-index-core<0.11.0,>=0.10.41->llama-index-llms-huggingface) (8.1.7)\n",
      "Requirement already satisfied: joblib in e:\\myenv\\anaconda\\envs\\llm\\lib\\site-packages (from nltk<4.0.0,>=3.8.1->llama-index-core<0.11.0,>=0.10.41->llama-index-llms-huggingface) (1.4.2)\n",
      "Requirement already satisfied: distro<2,>=1.7.0 in e:\\myenv\\anaconda\\envs\\llm\\lib\\site-packages (from openai>=1.1.0->llama-index-core<0.11.0,>=0.10.41->llama-index-llms-huggingface) (1.9.0)\n",
      "Requirement already satisfied: annotated-types>=0.4.0 in e:\\myenv\\anaconda\\envs\\llm\\lib\\site-packages (from pydantic<3,>2->text-generation<0.8.0,>=0.7.0->llama-index-llms-huggingface) (0.6.0)\n",
      "Requirement already satisfied: pydantic-core==2.14.6 in e:\\myenv\\anaconda\\envs\\llm\\lib\\site-packages (from pydantic<3,>2->text-generation<0.8.0,>=0.7.0->llama-index-llms-huggingface) (2.14.6)\n",
      "Requirement already satisfied: charset-normalizer<4,>=2 in e:\\myenv\\anaconda\\envs\\llm\\lib\\site-packages (from requests->huggingface-hub<0.24.0,>=0.23.0->llama-index-llms-huggingface) (2.0.4)\n",
      "Requirement already satisfied: urllib3<3,>=1.21.1 in e:\\myenv\\anaconda\\envs\\llm\\lib\\site-packages (from requests->huggingface-hub<0.24.0,>=0.23.0->llama-index-llms-huggingface) (2.2.1)\n",
      "Requirement already satisfied: greenlet!=0.4.17 in e:\\myenv\\anaconda\\envs\\llm\\lib\\site-packages (from SQLAlchemy>=1.4.49->SQLAlchemy[asyncio]>=1.4.49->llama-index-core<0.11.0,>=0.10.41->llama-index-llms-huggingface) (3.0.3)\n",
      "Requirement already satisfied: colorama in e:\\myenv\\anaconda\\envs\\llm\\lib\\site-packages (from tqdm>=4.42.1->huggingface-hub<0.24.0,>=0.23.0->llama-index-llms-huggingface) (0.4.6)\n",
      "Requirement already satisfied: mypy-extensions>=0.3.0 in e:\\myenv\\anaconda\\envs\\llm\\lib\\site-packages (from typing-inspect>=0.8.0->llama-index-core<0.11.0,>=0.10.41->llama-index-llms-huggingface) (1.0.0)\n",
      "Requirement already satisfied: marshmallow<4.0.0,>=3.18.0 in e:\\myenv\\anaconda\\envs\\llm\\lib\\site-packages (from dataclasses-json->llama-index-core<0.11.0,>=0.10.41->llama-index-llms-huggingface) (3.21.3)\n",
      "Requirement already satisfied: MarkupSafe>=2.0 in e:\\myenv\\anaconda\\envs\\llm\\lib\\site-packages (from jinja2->torch<3.0.0,>=2.1.2->llama-index-llms-huggingface) (2.1.3)\n",
      "Requirement already satisfied: python-dateutil>=2.8.2 in e:\\myenv\\anaconda\\envs\\llm\\lib\\site-packages (from pandas->llama-index-core<0.11.0,>=0.10.41->llama-index-llms-huggingface) (2.9.0.post0)\n",
      "Requirement already satisfied: pytz>=2020.1 in e:\\myenv\\anaconda\\envs\\llm\\lib\\site-packages (from pandas->llama-index-core<0.11.0,>=0.10.41->llama-index-llms-huggingface) (2024.1)\n",
      "Requirement already satisfied: tzdata>=2022.7 in e:\\myenv\\anaconda\\envs\\llm\\lib\\site-packages (from pandas->llama-index-core<0.11.0,>=0.10.41->llama-index-llms-huggingface) (2024.1)\n",
      "Requirement already satisfied: mpmath<1.4.0,>=1.1.0 in e:\\myenv\\anaconda\\envs\\llm\\lib\\site-packages (from sympy->torch<3.0.0,>=2.1.2->llama-index-llms-huggingface) (1.3.0)\n",
      "Requirement already satisfied: six>=1.5 in e:\\myenv\\anaconda\\envs\\llm\\lib\\site-packages (from python-dateutil>=2.8.2->pandas->llama-index-core<0.11.0,>=0.10.41->llama-index-llms-huggingface) (1.16.0)\n",
      "Looking in indexes: https://pypi.tuna.tsinghua.edu.cn/simple\n",
      "Requirement already satisfied: llama-index-embeddings-huggingface in e:\\myenv\\anaconda\\envs\\llm\\lib\\site-packages (0.2.1)\n",
      "Requirement already satisfied: huggingface-hub>=0.19.0 in e:\\myenv\\anaconda\\envs\\llm\\lib\\site-packages (from huggingface-hub[inference]>=0.19.0->llama-index-embeddings-huggingface) (0.23.4)\n",
      "Requirement already satisfied: llama-index-core<0.11.0,>=0.10.1 in e:\\myenv\\anaconda\\envs\\llm\\lib\\site-packages (from llama-index-embeddings-huggingface) (0.10.46)\n",
      "Requirement already satisfied: sentence-transformers<3.0.0,>=2.6.1 in e:\\myenv\\anaconda\\envs\\llm\\lib\\site-packages (from llama-index-embeddings-huggingface) (2.7.0)\n",
      "Requirement already satisfied: filelock in e:\\myenv\\anaconda\\envs\\llm\\lib\\site-packages (from huggingface-hub>=0.19.0->huggingface-hub[inference]>=0.19.0->llama-index-embeddings-huggingface) (3.15.1)\n",
      "Requirement already satisfied: fsspec>=2023.5.0 in e:\\myenv\\anaconda\\envs\\llm\\lib\\site-packages (from huggingface-hub>=0.19.0->huggingface-hub[inference]>=0.19.0->llama-index-embeddings-huggingface) (2024.6.0)\n",
      "Requirement already satisfied: packaging>=20.9 in e:\\myenv\\anaconda\\envs\\llm\\lib\\site-packages (from huggingface-hub>=0.19.0->huggingface-hub[inference]>=0.19.0->llama-index-embeddings-huggingface) (23.2)\n",
      "Requirement already satisfied: pyyaml>=5.1 in e:\\myenv\\anaconda\\envs\\llm\\lib\\site-packages (from huggingface-hub>=0.19.0->huggingface-hub[inference]>=0.19.0->llama-index-embeddings-huggingface) (6.0.1)\n",
      "Requirement already satisfied: requests in e:\\myenv\\anaconda\\envs\\llm\\lib\\site-packages (from huggingface-hub>=0.19.0->huggingface-hub[inference]>=0.19.0->llama-index-embeddings-huggingface) (2.32.2)\n",
      "Requirement already satisfied: tqdm>=4.42.1 in e:\\myenv\\anaconda\\envs\\llm\\lib\\site-packages (from huggingface-hub>=0.19.0->huggingface-hub[inference]>=0.19.0->llama-index-embeddings-huggingface) (4.66.4)\n",
      "Requirement already satisfied: typing-extensions>=3.7.4.3 in e:\\myenv\\anaconda\\envs\\llm\\lib\\site-packages (from huggingface-hub>=0.19.0->huggingface-hub[inference]>=0.19.0->llama-index-embeddings-huggingface) (4.11.0)\n",
      "Requirement already satisfied: aiohttp in e:\\myenv\\anaconda\\envs\\llm\\lib\\site-packages (from huggingface-hub[inference]>=0.19.0->llama-index-embeddings-huggingface) (3.9.5)\n",
      "Requirement already satisfied: minijinja>=1.0 in e:\\myenv\\anaconda\\envs\\llm\\lib\\site-packages (from huggingface-hub[inference]>=0.19.0->llama-index-embeddings-huggingface) (2.0.1)\n",
      "Requirement already satisfied: SQLAlchemy>=1.4.49 in e:\\myenv\\anaconda\\envs\\llm\\lib\\site-packages (from SQLAlchemy[asyncio]>=1.4.49->llama-index-core<0.11.0,>=0.10.1->llama-index-embeddings-huggingface) (2.0.30)\n",
      "Requirement already satisfied: dataclasses-json in e:\\myenv\\anaconda\\envs\\llm\\lib\\site-packages (from llama-index-core<0.11.0,>=0.10.1->llama-index-embeddings-huggingface) (0.6.7)\n",
      "Requirement already satisfied: deprecated>=1.2.9.3 in e:\\myenv\\anaconda\\envs\\llm\\lib\\site-packages (from llama-index-core<0.11.0,>=0.10.1->llama-index-embeddings-huggingface) (1.2.14)\n",
      "Requirement already satisfied: dirtyjson<2.0.0,>=1.0.8 in e:\\myenv\\anaconda\\envs\\llm\\lib\\site-packages (from llama-index-core<0.11.0,>=0.10.1->llama-index-embeddings-huggingface) (1.0.8)\n",
      "Requirement already satisfied: httpx in e:\\myenv\\anaconda\\envs\\llm\\lib\\site-packages (from llama-index-core<0.11.0,>=0.10.1->llama-index-embeddings-huggingface) (0.26.0)\n",
      "Requirement already satisfied: llamaindex-py-client<0.2.0,>=0.1.18 in e:\\myenv\\anaconda\\envs\\llm\\lib\\site-packages (from llama-index-core<0.11.0,>=0.10.1->llama-index-embeddings-huggingface) (0.1.19)\n",
      "Requirement already satisfied: nest-asyncio<2.0.0,>=1.5.8 in e:\\myenv\\anaconda\\envs\\llm\\lib\\site-packages (from llama-index-core<0.11.0,>=0.10.1->llama-index-embeddings-huggingface) (1.6.0)\n",
      "Requirement already satisfied: networkx>=3.0 in e:\\myenv\\anaconda\\envs\\llm\\lib\\site-packages (from llama-index-core<0.11.0,>=0.10.1->llama-index-embeddings-huggingface) (3.3)\n",
      "Requirement already satisfied: nltk<4.0.0,>=3.8.1 in e:\\myenv\\anaconda\\envs\\llm\\lib\\site-packages (from llama-index-core<0.11.0,>=0.10.1->llama-index-embeddings-huggingface) (3.8.1)\n",
      "Requirement already satisfied: numpy<2.0.0 in e:\\myenv\\anaconda\\envs\\llm\\lib\\site-packages (from llama-index-core<0.11.0,>=0.10.1->llama-index-embeddings-huggingface) (1.26.4)\n",
      "Requirement already satisfied: openai>=1.1.0 in e:\\myenv\\anaconda\\envs\\llm\\lib\\site-packages (from llama-index-core<0.11.0,>=0.10.1->llama-index-embeddings-huggingface) (1.25.0)\n",
      "Requirement already satisfied: pandas in e:\\myenv\\anaconda\\envs\\llm\\lib\\site-packages (from llama-index-core<0.11.0,>=0.10.1->llama-index-embeddings-huggingface) (2.2.2)\n",
      "Requirement already satisfied: pillow>=9.0.0 in e:\\myenv\\anaconda\\envs\\llm\\lib\\site-packages (from llama-index-core<0.11.0,>=0.10.1->llama-index-embeddings-huggingface) (10.3.0)\n",
      "Requirement already satisfied: tenacity<8.4.0,>=8.2.0 in e:\\myenv\\anaconda\\envs\\llm\\lib\\site-packages (from llama-index-core<0.11.0,>=0.10.1->llama-index-embeddings-huggingface) (8.3.0)\n",
      "Requirement already satisfied: tiktoken>=0.3.3 in e:\\myenv\\anaconda\\envs\\llm\\lib\\site-packages (from llama-index-core<0.11.0,>=0.10.1->llama-index-embeddings-huggingface) (0.7.0)\n",
      "Requirement already satisfied: typing-inspect>=0.8.0 in e:\\myenv\\anaconda\\envs\\llm\\lib\\site-packages (from llama-index-core<0.11.0,>=0.10.1->llama-index-embeddings-huggingface) (0.9.0)\n",
      "Requirement already satisfied: wrapt in e:\\myenv\\anaconda\\envs\\llm\\lib\\site-packages (from llama-index-core<0.11.0,>=0.10.1->llama-index-embeddings-huggingface) (1.16.0)\n",
      "Requirement already satisfied: transformers<5.0.0,>=4.34.0 in e:\\myenv\\anaconda\\envs\\llm\\lib\\site-packages (from sentence-transformers<3.0.0,>=2.6.1->llama-index-embeddings-huggingface) (4.41.2)\n",
      "Requirement already satisfied: torch>=1.11.0 in e:\\myenv\\anaconda\\envs\\llm\\lib\\site-packages (from sentence-transformers<3.0.0,>=2.6.1->llama-index-embeddings-huggingface) (2.3.1)\n",
      "Requirement already satisfied: scikit-learn in e:\\myenv\\anaconda\\envs\\llm\\lib\\site-packages (from sentence-transformers<3.0.0,>=2.6.1->llama-index-embeddings-huggingface) (1.5.0)\n",
      "Requirement already satisfied: scipy in e:\\myenv\\anaconda\\envs\\llm\\lib\\site-packages (from sentence-transformers<3.0.0,>=2.6.1->llama-index-embeddings-huggingface) (1.13.1)\n",
      "Requirement already satisfied: aiosignal>=1.1.2 in e:\\myenv\\anaconda\\envs\\llm\\lib\\site-packages (from aiohttp->huggingface-hub[inference]>=0.19.0->llama-index-embeddings-huggingface) (1.3.1)\n",
      "Requirement already satisfied: attrs>=17.3.0 in e:\\myenv\\anaconda\\envs\\llm\\lib\\site-packages (from aiohttp->huggingface-hub[inference]>=0.19.0->llama-index-embeddings-huggingface) (23.1.0)\n",
      "Requirement already satisfied: frozenlist>=1.1.1 in e:\\myenv\\anaconda\\envs\\llm\\lib\\site-packages (from aiohttp->huggingface-hub[inference]>=0.19.0->llama-index-embeddings-huggingface) (1.4.1)\n",
      "Requirement already satisfied: multidict<7.0,>=4.5 in e:\\myenv\\anaconda\\envs\\llm\\lib\\site-packages (from aiohttp->huggingface-hub[inference]>=0.19.0->llama-index-embeddings-huggingface) (6.0.5)\n",
      "Requirement already satisfied: yarl<2.0,>=1.0 in e:\\myenv\\anaconda\\envs\\llm\\lib\\site-packages (from aiohttp->huggingface-hub[inference]>=0.19.0->llama-index-embeddings-huggingface) (1.9.4)\n",
      "Requirement already satisfied: pydantic>=1.10 in e:\\myenv\\anaconda\\envs\\llm\\lib\\site-packages (from llamaindex-py-client<0.2.0,>=0.1.18->llama-index-core<0.11.0,>=0.10.1->llama-index-embeddings-huggingface) (2.5.3)\n",
      "Requirement already satisfied: anyio in e:\\myenv\\anaconda\\envs\\llm\\lib\\site-packages (from httpx->llama-index-core<0.11.0,>=0.10.1->llama-index-embeddings-huggingface) (4.2.0)\n",
      "Requirement already satisfied: certifi in e:\\myenv\\anaconda\\envs\\llm\\lib\\site-packages (from httpx->llama-index-core<0.11.0,>=0.10.1->llama-index-embeddings-huggingface) (2024.6.2)\n",
      "Requirement already satisfied: httpcore==1.* in e:\\myenv\\anaconda\\envs\\llm\\lib\\site-packages (from httpx->llama-index-core<0.11.0,>=0.10.1->llama-index-embeddings-huggingface) (1.0.2)\n",
      "Requirement already satisfied: idna in e:\\myenv\\anaconda\\envs\\llm\\lib\\site-packages (from httpx->llama-index-core<0.11.0,>=0.10.1->llama-index-embeddings-huggingface) (3.7)\n",
      "Requirement already satisfied: sniffio in e:\\myenv\\anaconda\\envs\\llm\\lib\\site-packages (from httpx->llama-index-core<0.11.0,>=0.10.1->llama-index-embeddings-huggingface) (1.3.0)\n",
      "Requirement already satisfied: h11<0.15,>=0.13 in e:\\myenv\\anaconda\\envs\\llm\\lib\\site-packages (from httpcore==1.*->httpx->llama-index-core<0.11.0,>=0.10.1->llama-index-embeddings-huggingface) (0.14.0)\n",
      "Requirement already satisfied: click in e:\\myenv\\anaconda\\envs\\llm\\lib\\site-packages (from nltk<4.0.0,>=3.8.1->llama-index-core<0.11.0,>=0.10.1->llama-index-embeddings-huggingface) (8.1.7)\n",
      "Requirement already satisfied: joblib in e:\\myenv\\anaconda\\envs\\llm\\lib\\site-packages (from nltk<4.0.0,>=3.8.1->llama-index-core<0.11.0,>=0.10.1->llama-index-embeddings-huggingface) (1.4.2)\n",
      "Requirement already satisfied: regex>=2021.8.3 in e:\\myenv\\anaconda\\envs\\llm\\lib\\site-packages (from nltk<4.0.0,>=3.8.1->llama-index-core<0.11.0,>=0.10.1->llama-index-embeddings-huggingface) (2024.5.15)\n",
      "Requirement already satisfied: distro<2,>=1.7.0 in e:\\myenv\\anaconda\\envs\\llm\\lib\\site-packages (from openai>=1.1.0->llama-index-core<0.11.0,>=0.10.1->llama-index-embeddings-huggingface) (1.9.0)\n",
      "Requirement already satisfied: charset-normalizer<4,>=2 in e:\\myenv\\anaconda\\envs\\llm\\lib\\site-packages (from requests->huggingface-hub>=0.19.0->huggingface-hub[inference]>=0.19.0->llama-index-embeddings-huggingface) (2.0.4)\n",
      "Requirement already satisfied: urllib3<3,>=1.21.1 in e:\\myenv\\anaconda\\envs\\llm\\lib\\site-packages (from requests->huggingface-hub>=0.19.0->huggingface-hub[inference]>=0.19.0->llama-index-embeddings-huggingface) (2.2.1)\n",
      "Requirement already satisfied: greenlet!=0.4.17 in e:\\myenv\\anaconda\\envs\\llm\\lib\\site-packages (from SQLAlchemy>=1.4.49->SQLAlchemy[asyncio]>=1.4.49->llama-index-core<0.11.0,>=0.10.1->llama-index-embeddings-huggingface) (3.0.3)\n",
      "Requirement already satisfied: sympy in e:\\myenv\\anaconda\\envs\\llm\\lib\\site-packages (from torch>=1.11.0->sentence-transformers<3.0.0,>=2.6.1->llama-index-embeddings-huggingface) (1.12.1)\n",
      "Requirement already satisfied: jinja2 in e:\\myenv\\anaconda\\envs\\llm\\lib\\site-packages (from torch>=1.11.0->sentence-transformers<3.0.0,>=2.6.1->llama-index-embeddings-huggingface) (3.1.4)\n",
      "Requirement already satisfied: mkl<=2021.4.0,>=2021.1.1 in e:\\myenv\\anaconda\\envs\\llm\\lib\\site-packages (from torch>=1.11.0->sentence-transformers<3.0.0,>=2.6.1->llama-index-embeddings-huggingface) (2021.4.0)\n",
      "Requirement already satisfied: colorama in e:\\myenv\\anaconda\\envs\\llm\\lib\\site-packages (from tqdm>=4.42.1->huggingface-hub>=0.19.0->huggingface-hub[inference]>=0.19.0->llama-index-embeddings-huggingface) (0.4.6)\n",
      "Requirement already satisfied: tokenizers<0.20,>=0.19 in e:\\myenv\\anaconda\\envs\\llm\\lib\\site-packages (from transformers<5.0.0,>=4.34.0->sentence-transformers<3.0.0,>=2.6.1->llama-index-embeddings-huggingface) (0.19.1)\n",
      "Requirement already satisfied: safetensors>=0.4.1 in e:\\myenv\\anaconda\\envs\\llm\\lib\\site-packages (from transformers<5.0.0,>=4.34.0->sentence-transformers<3.0.0,>=2.6.1->llama-index-embeddings-huggingface) (0.4.3)\n",
      "Requirement already satisfied: mypy-extensions>=0.3.0 in e:\\myenv\\anaconda\\envs\\llm\\lib\\site-packages (from typing-inspect>=0.8.0->llama-index-core<0.11.0,>=0.10.1->llama-index-embeddings-huggingface) (1.0.0)\n",
      "Requirement already satisfied: marshmallow<4.0.0,>=3.18.0 in e:\\myenv\\anaconda\\envs\\llm\\lib\\site-packages (from dataclasses-json->llama-index-core<0.11.0,>=0.10.1->llama-index-embeddings-huggingface) (3.21.3)\n",
      "Requirement already satisfied: python-dateutil>=2.8.2 in e:\\myenv\\anaconda\\envs\\llm\\lib\\site-packages (from pandas->llama-index-core<0.11.0,>=0.10.1->llama-index-embeddings-huggingface) (2.9.0.post0)\n",
      "Requirement already satisfied: pytz>=2020.1 in e:\\myenv\\anaconda\\envs\\llm\\lib\\site-packages (from pandas->llama-index-core<0.11.0,>=0.10.1->llama-index-embeddings-huggingface) (2024.1)\n",
      "Requirement already satisfied: tzdata>=2022.7 in e:\\myenv\\anaconda\\envs\\llm\\lib\\site-packages (from pandas->llama-index-core<0.11.0,>=0.10.1->llama-index-embeddings-huggingface) (2024.1)\n",
      "Requirement already satisfied: threadpoolctl>=3.1.0 in e:\\myenv\\anaconda\\envs\\llm\\lib\\site-packages (from scikit-learn->sentence-transformers<3.0.0,>=2.6.1->llama-index-embeddings-huggingface) (3.5.0)\n",
      "Requirement already satisfied: intel-openmp==2021.* in e:\\myenv\\anaconda\\envs\\llm\\lib\\site-packages (from mkl<=2021.4.0,>=2021.1.1->torch>=1.11.0->sentence-transformers<3.0.0,>=2.6.1->llama-index-embeddings-huggingface) (2021.4.0)\n",
      "Requirement already satisfied: tbb==2021.* in e:\\myenv\\anaconda\\envs\\llm\\lib\\site-packages (from mkl<=2021.4.0,>=2021.1.1->torch>=1.11.0->sentence-transformers<3.0.0,>=2.6.1->llama-index-embeddings-huggingface) (2021.12.0)\n",
      "Requirement already satisfied: annotated-types>=0.4.0 in e:\\myenv\\anaconda\\envs\\llm\\lib\\site-packages (from pydantic>=1.10->llamaindex-py-client<0.2.0,>=0.1.18->llama-index-core<0.11.0,>=0.10.1->llama-index-embeddings-huggingface) (0.6.0)\n",
      "Requirement already satisfied: pydantic-core==2.14.6 in e:\\myenv\\anaconda\\envs\\llm\\lib\\site-packages (from pydantic>=1.10->llamaindex-py-client<0.2.0,>=0.1.18->llama-index-core<0.11.0,>=0.10.1->llama-index-embeddings-huggingface) (2.14.6)\n",
      "Requirement already satisfied: six>=1.5 in e:\\myenv\\anaconda\\envs\\llm\\lib\\site-packages (from python-dateutil>=2.8.2->pandas->llama-index-core<0.11.0,>=0.10.1->llama-index-embeddings-huggingface) (1.16.0)\n",
      "Requirement already satisfied: MarkupSafe>=2.0 in e:\\myenv\\anaconda\\envs\\llm\\lib\\site-packages (from jinja2->torch>=1.11.0->sentence-transformers<3.0.0,>=2.6.1->llama-index-embeddings-huggingface) (2.1.3)\n",
      "Requirement already satisfied: mpmath<1.4.0,>=1.1.0 in e:\\myenv\\anaconda\\envs\\llm\\lib\\site-packages (from sympy->torch>=1.11.0->sentence-transformers<3.0.0,>=2.6.1->llama-index-embeddings-huggingface) (1.3.0)\n",
      "Looking in indexes: https://pypi.tuna.tsinghua.edu.cn/simple\n",
      "Requirement already satisfied: llama-index-embeddings-instructor in e:\\myenv\\anaconda\\envs\\llm\\lib\\site-packages (0.1.3)\n",
      "Requirement already satisfied: instructorembedding<2.0.0,>=1.0.1 in e:\\myenv\\anaconda\\envs\\llm\\lib\\site-packages (from llama-index-embeddings-instructor) (1.0.1)\n",
      "Requirement already satisfied: llama-index-core<0.11.0,>=0.10.1 in e:\\myenv\\anaconda\\envs\\llm\\lib\\site-packages (from llama-index-embeddings-instructor) (0.10.46)\n",
      "Requirement already satisfied: sentence-transformers<3.0.0,>=2.2.2 in e:\\myenv\\anaconda\\envs\\llm\\lib\\site-packages (from llama-index-embeddings-instructor) (2.7.0)\n",
      "Requirement already satisfied: torch<3.0.0,>=2.1.2 in e:\\myenv\\anaconda\\envs\\llm\\lib\\site-packages (from llama-index-embeddings-instructor) (2.3.1)\n",
      "Requirement already satisfied: PyYAML>=6.0.1 in e:\\myenv\\anaconda\\envs\\llm\\lib\\site-packages (from llama-index-core<0.11.0,>=0.10.1->llama-index-embeddings-instructor) (6.0.1)\n",
      "Requirement already satisfied: SQLAlchemy>=1.4.49 in e:\\myenv\\anaconda\\envs\\llm\\lib\\site-packages (from SQLAlchemy[asyncio]>=1.4.49->llama-index-core<0.11.0,>=0.10.1->llama-index-embeddings-instructor) (2.0.30)\n",
      "Requirement already satisfied: aiohttp<4.0.0,>=3.8.6 in e:\\myenv\\anaconda\\envs\\llm\\lib\\site-packages (from llama-index-core<0.11.0,>=0.10.1->llama-index-embeddings-instructor) (3.9.5)\n",
      "Requirement already satisfied: dataclasses-json in e:\\myenv\\anaconda\\envs\\llm\\lib\\site-packages (from llama-index-core<0.11.0,>=0.10.1->llama-index-embeddings-instructor) (0.6.7)\n",
      "Requirement already satisfied: deprecated>=1.2.9.3 in e:\\myenv\\anaconda\\envs\\llm\\lib\\site-packages (from llama-index-core<0.11.0,>=0.10.1->llama-index-embeddings-instructor) (1.2.14)\n",
      "Requirement already satisfied: dirtyjson<2.0.0,>=1.0.8 in e:\\myenv\\anaconda\\envs\\llm\\lib\\site-packages (from llama-index-core<0.11.0,>=0.10.1->llama-index-embeddings-instructor) (1.0.8)\n",
      "Requirement already satisfied: fsspec>=2023.5.0 in e:\\myenv\\anaconda\\envs\\llm\\lib\\site-packages (from llama-index-core<0.11.0,>=0.10.1->llama-index-embeddings-instructor) (2024.6.0)\n",
      "Requirement already satisfied: httpx in e:\\myenv\\anaconda\\envs\\llm\\lib\\site-packages (from llama-index-core<0.11.0,>=0.10.1->llama-index-embeddings-instructor) (0.26.0)\n",
      "Requirement already satisfied: llamaindex-py-client<0.2.0,>=0.1.18 in e:\\myenv\\anaconda\\envs\\llm\\lib\\site-packages (from llama-index-core<0.11.0,>=0.10.1->llama-index-embeddings-instructor) (0.1.19)\n",
      "Requirement already satisfied: nest-asyncio<2.0.0,>=1.5.8 in e:\\myenv\\anaconda\\envs\\llm\\lib\\site-packages (from llama-index-core<0.11.0,>=0.10.1->llama-index-embeddings-instructor) (1.6.0)\n",
      "Requirement already satisfied: networkx>=3.0 in e:\\myenv\\anaconda\\envs\\llm\\lib\\site-packages (from llama-index-core<0.11.0,>=0.10.1->llama-index-embeddings-instructor) (3.3)\n",
      "Requirement already satisfied: nltk<4.0.0,>=3.8.1 in e:\\myenv\\anaconda\\envs\\llm\\lib\\site-packages (from llama-index-core<0.11.0,>=0.10.1->llama-index-embeddings-instructor) (3.8.1)\n",
      "Requirement already satisfied: numpy<2.0.0 in e:\\myenv\\anaconda\\envs\\llm\\lib\\site-packages (from llama-index-core<0.11.0,>=0.10.1->llama-index-embeddings-instructor) (1.26.4)\n",
      "Requirement already satisfied: openai>=1.1.0 in e:\\myenv\\anaconda\\envs\\llm\\lib\\site-packages (from llama-index-core<0.11.0,>=0.10.1->llama-index-embeddings-instructor) (1.25.0)\n",
      "Requirement already satisfied: pandas in e:\\myenv\\anaconda\\envs\\llm\\lib\\site-packages (from llama-index-core<0.11.0,>=0.10.1->llama-index-embeddings-instructor) (2.2.2)\n",
      "Requirement already satisfied: pillow>=9.0.0 in e:\\myenv\\anaconda\\envs\\llm\\lib\\site-packages (from llama-index-core<0.11.0,>=0.10.1->llama-index-embeddings-instructor) (10.3.0)\n",
      "Requirement already satisfied: requests>=2.31.0 in e:\\myenv\\anaconda\\envs\\llm\\lib\\site-packages (from llama-index-core<0.11.0,>=0.10.1->llama-index-embeddings-instructor) (2.32.2)\n",
      "Requirement already satisfied: tenacity<8.4.0,>=8.2.0 in e:\\myenv\\anaconda\\envs\\llm\\lib\\site-packages (from llama-index-core<0.11.0,>=0.10.1->llama-index-embeddings-instructor) (8.3.0)\n",
      "Requirement already satisfied: tiktoken>=0.3.3 in e:\\myenv\\anaconda\\envs\\llm\\lib\\site-packages (from llama-index-core<0.11.0,>=0.10.1->llama-index-embeddings-instructor) (0.7.0)\n",
      "Requirement already satisfied: tqdm<5.0.0,>=4.66.1 in e:\\myenv\\anaconda\\envs\\llm\\lib\\site-packages (from llama-index-core<0.11.0,>=0.10.1->llama-index-embeddings-instructor) (4.66.4)\n",
      "Requirement already satisfied: typing-extensions>=4.5.0 in e:\\myenv\\anaconda\\envs\\llm\\lib\\site-packages (from llama-index-core<0.11.0,>=0.10.1->llama-index-embeddings-instructor) (4.11.0)\n",
      "Requirement already satisfied: typing-inspect>=0.8.0 in e:\\myenv\\anaconda\\envs\\llm\\lib\\site-packages (from llama-index-core<0.11.0,>=0.10.1->llama-index-embeddings-instructor) (0.9.0)\n",
      "Requirement already satisfied: wrapt in e:\\myenv\\anaconda\\envs\\llm\\lib\\site-packages (from llama-index-core<0.11.0,>=0.10.1->llama-index-embeddings-instructor) (1.16.0)\n",
      "Requirement already satisfied: transformers<5.0.0,>=4.34.0 in e:\\myenv\\anaconda\\envs\\llm\\lib\\site-packages (from sentence-transformers<3.0.0,>=2.2.2->llama-index-embeddings-instructor) (4.41.2)\n",
      "Requirement already satisfied: scikit-learn in e:\\myenv\\anaconda\\envs\\llm\\lib\\site-packages (from sentence-transformers<3.0.0,>=2.2.2->llama-index-embeddings-instructor) (1.5.0)\n",
      "Requirement already satisfied: scipy in e:\\myenv\\anaconda\\envs\\llm\\lib\\site-packages (from sentence-transformers<3.0.0,>=2.2.2->llama-index-embeddings-instructor) (1.13.1)\n",
      "Requirement already satisfied: huggingface-hub>=0.15.1 in e:\\myenv\\anaconda\\envs\\llm\\lib\\site-packages (from sentence-transformers<3.0.0,>=2.2.2->llama-index-embeddings-instructor) (0.23.4)\n",
      "Requirement already satisfied: filelock in e:\\myenv\\anaconda\\envs\\llm\\lib\\site-packages (from torch<3.0.0,>=2.1.2->llama-index-embeddings-instructor) (3.15.1)\n",
      "Requirement already satisfied: sympy in e:\\myenv\\anaconda\\envs\\llm\\lib\\site-packages (from torch<3.0.0,>=2.1.2->llama-index-embeddings-instructor) (1.12.1)\n",
      "Requirement already satisfied: jinja2 in e:\\myenv\\anaconda\\envs\\llm\\lib\\site-packages (from torch<3.0.0,>=2.1.2->llama-index-embeddings-instructor) (3.1.4)\n",
      "Requirement already satisfied: mkl<=2021.4.0,>=2021.1.1 in e:\\myenv\\anaconda\\envs\\llm\\lib\\site-packages (from torch<3.0.0,>=2.1.2->llama-index-embeddings-instructor) (2021.4.0)\n",
      "Requirement already satisfied: aiosignal>=1.1.2 in e:\\myenv\\anaconda\\envs\\llm\\lib\\site-packages (from aiohttp<4.0.0,>=3.8.6->llama-index-core<0.11.0,>=0.10.1->llama-index-embeddings-instructor) (1.3.1)\n",
      "Requirement already satisfied: attrs>=17.3.0 in e:\\myenv\\anaconda\\envs\\llm\\lib\\site-packages (from aiohttp<4.0.0,>=3.8.6->llama-index-core<0.11.0,>=0.10.1->llama-index-embeddings-instructor) (23.1.0)\n",
      "Requirement already satisfied: frozenlist>=1.1.1 in e:\\myenv\\anaconda\\envs\\llm\\lib\\site-packages (from aiohttp<4.0.0,>=3.8.6->llama-index-core<0.11.0,>=0.10.1->llama-index-embeddings-instructor) (1.4.1)\n",
      "Requirement already satisfied: multidict<7.0,>=4.5 in e:\\myenv\\anaconda\\envs\\llm\\lib\\site-packages (from aiohttp<4.0.0,>=3.8.6->llama-index-core<0.11.0,>=0.10.1->llama-index-embeddings-instructor) (6.0.5)\n",
      "Requirement already satisfied: yarl<2.0,>=1.0 in e:\\myenv\\anaconda\\envs\\llm\\lib\\site-packages (from aiohttp<4.0.0,>=3.8.6->llama-index-core<0.11.0,>=0.10.1->llama-index-embeddings-instructor) (1.9.4)\n",
      "Requirement already satisfied: packaging>=20.9 in e:\\myenv\\anaconda\\envs\\llm\\lib\\site-packages (from huggingface-hub>=0.15.1->sentence-transformers<3.0.0,>=2.2.2->llama-index-embeddings-instructor) (23.2)\n",
      "Requirement already satisfied: pydantic>=1.10 in e:\\myenv\\anaconda\\envs\\llm\\lib\\site-packages (from llamaindex-py-client<0.2.0,>=0.1.18->llama-index-core<0.11.0,>=0.10.1->llama-index-embeddings-instructor) (2.5.3)\n",
      "Requirement already satisfied: anyio in e:\\myenv\\anaconda\\envs\\llm\\lib\\site-packages (from httpx->llama-index-core<0.11.0,>=0.10.1->llama-index-embeddings-instructor) (4.2.0)\n",
      "Requirement already satisfied: certifi in e:\\myenv\\anaconda\\envs\\llm\\lib\\site-packages (from httpx->llama-index-core<0.11.0,>=0.10.1->llama-index-embeddings-instructor) (2024.6.2)\n",
      "Requirement already satisfied: httpcore==1.* in e:\\myenv\\anaconda\\envs\\llm\\lib\\site-packages (from httpx->llama-index-core<0.11.0,>=0.10.1->llama-index-embeddings-instructor) (1.0.2)\n",
      "Requirement already satisfied: idna in e:\\myenv\\anaconda\\envs\\llm\\lib\\site-packages (from httpx->llama-index-core<0.11.0,>=0.10.1->llama-index-embeddings-instructor) (3.7)\n",
      "Requirement already satisfied: sniffio in e:\\myenv\\anaconda\\envs\\llm\\lib\\site-packages (from httpx->llama-index-core<0.11.0,>=0.10.1->llama-index-embeddings-instructor) (1.3.0)\n",
      "Requirement already satisfied: h11<0.15,>=0.13 in e:\\myenv\\anaconda\\envs\\llm\\lib\\site-packages (from httpcore==1.*->httpx->llama-index-core<0.11.0,>=0.10.1->llama-index-embeddings-instructor) (0.14.0)\n",
      "Requirement already satisfied: intel-openmp==2021.* in e:\\myenv\\anaconda\\envs\\llm\\lib\\site-packages (from mkl<=2021.4.0,>=2021.1.1->torch<3.0.0,>=2.1.2->llama-index-embeddings-instructor) (2021.4.0)\n",
      "Requirement already satisfied: tbb==2021.* in e:\\myenv\\anaconda\\envs\\llm\\lib\\site-packages (from mkl<=2021.4.0,>=2021.1.1->torch<3.0.0,>=2.1.2->llama-index-embeddings-instructor) (2021.12.0)\n",
      "Requirement already satisfied: click in e:\\myenv\\anaconda\\envs\\llm\\lib\\site-packages (from nltk<4.0.0,>=3.8.1->llama-index-core<0.11.0,>=0.10.1->llama-index-embeddings-instructor) (8.1.7)\n",
      "Requirement already satisfied: joblib in e:\\myenv\\anaconda\\envs\\llm\\lib\\site-packages (from nltk<4.0.0,>=3.8.1->llama-index-core<0.11.0,>=0.10.1->llama-index-embeddings-instructor) (1.4.2)\n",
      "Requirement already satisfied: regex>=2021.8.3 in e:\\myenv\\anaconda\\envs\\llm\\lib\\site-packages (from nltk<4.0.0,>=3.8.1->llama-index-core<0.11.0,>=0.10.1->llama-index-embeddings-instructor) (2024.5.15)\n",
      "Requirement already satisfied: distro<2,>=1.7.0 in e:\\myenv\\anaconda\\envs\\llm\\lib\\site-packages (from openai>=1.1.0->llama-index-core<0.11.0,>=0.10.1->llama-index-embeddings-instructor) (1.9.0)\n",
      "Requirement already satisfied: charset-normalizer<4,>=2 in e:\\myenv\\anaconda\\envs\\llm\\lib\\site-packages (from requests>=2.31.0->llama-index-core<0.11.0,>=0.10.1->llama-index-embeddings-instructor) (2.0.4)\n",
      "Requirement already satisfied: urllib3<3,>=1.21.1 in e:\\myenv\\anaconda\\envs\\llm\\lib\\site-packages (from requests>=2.31.0->llama-index-core<0.11.0,>=0.10.1->llama-index-embeddings-instructor) (2.2.1)\n",
      "Requirement already satisfied: greenlet!=0.4.17 in e:\\myenv\\anaconda\\envs\\llm\\lib\\site-packages (from SQLAlchemy>=1.4.49->SQLAlchemy[asyncio]>=1.4.49->llama-index-core<0.11.0,>=0.10.1->llama-index-embeddings-instructor) (3.0.3)\n",
      "Requirement already satisfied: colorama in e:\\myenv\\anaconda\\envs\\llm\\lib\\site-packages (from tqdm<5.0.0,>=4.66.1->llama-index-core<0.11.0,>=0.10.1->llama-index-embeddings-instructor) (0.4.6)\n",
      "Requirement already satisfied: tokenizers<0.20,>=0.19 in e:\\myenv\\anaconda\\envs\\llm\\lib\\site-packages (from transformers<5.0.0,>=4.34.0->sentence-transformers<3.0.0,>=2.2.2->llama-index-embeddings-instructor) (0.19.1)\n",
      "Requirement already satisfied: safetensors>=0.4.1 in e:\\myenv\\anaconda\\envs\\llm\\lib\\site-packages (from transformers<5.0.0,>=4.34.0->sentence-transformers<3.0.0,>=2.2.2->llama-index-embeddings-instructor) (0.4.3)\n",
      "Requirement already satisfied: mypy-extensions>=0.3.0 in e:\\myenv\\anaconda\\envs\\llm\\lib\\site-packages (from typing-inspect>=0.8.0->llama-index-core<0.11.0,>=0.10.1->llama-index-embeddings-instructor) (1.0.0)\n",
      "Requirement already satisfied: marshmallow<4.0.0,>=3.18.0 in e:\\myenv\\anaconda\\envs\\llm\\lib\\site-packages (from dataclasses-json->llama-index-core<0.11.0,>=0.10.1->llama-index-embeddings-instructor) (3.21.3)\n",
      "Requirement already satisfied: MarkupSafe>=2.0 in e:\\myenv\\anaconda\\envs\\llm\\lib\\site-packages (from jinja2->torch<3.0.0,>=2.1.2->llama-index-embeddings-instructor) (2.1.3)\n",
      "Requirement already satisfied: python-dateutil>=2.8.2 in e:\\myenv\\anaconda\\envs\\llm\\lib\\site-packages (from pandas->llama-index-core<0.11.0,>=0.10.1->llama-index-embeddings-instructor) (2.9.0.post0)\n",
      "Requirement already satisfied: pytz>=2020.1 in e:\\myenv\\anaconda\\envs\\llm\\lib\\site-packages (from pandas->llama-index-core<0.11.0,>=0.10.1->llama-index-embeddings-instructor) (2024.1)\n",
      "Requirement already satisfied: tzdata>=2022.7 in e:\\myenv\\anaconda\\envs\\llm\\lib\\site-packages (from pandas->llama-index-core<0.11.0,>=0.10.1->llama-index-embeddings-instructor) (2024.1)\n",
      "Requirement already satisfied: threadpoolctl>=3.1.0 in e:\\myenv\\anaconda\\envs\\llm\\lib\\site-packages (from scikit-learn->sentence-transformers<3.0.0,>=2.2.2->llama-index-embeddings-instructor) (3.5.0)\n",
      "Requirement already satisfied: mpmath<1.4.0,>=1.1.0 in e:\\myenv\\anaconda\\envs\\llm\\lib\\site-packages (from sympy->torch<3.0.0,>=2.1.2->llama-index-embeddings-instructor) (1.3.0)\n",
      "Requirement already satisfied: annotated-types>=0.4.0 in e:\\myenv\\anaconda\\envs\\llm\\lib\\site-packages (from pydantic>=1.10->llamaindex-py-client<0.2.0,>=0.1.18->llama-index-core<0.11.0,>=0.10.1->llama-index-embeddings-instructor) (0.6.0)\n",
      "Requirement already satisfied: pydantic-core==2.14.6 in e:\\myenv\\anaconda\\envs\\llm\\lib\\site-packages (from pydantic>=1.10->llamaindex-py-client<0.2.0,>=0.1.18->llama-index-core<0.11.0,>=0.10.1->llama-index-embeddings-instructor) (2.14.6)\n",
      "Requirement already satisfied: six>=1.5 in e:\\myenv\\anaconda\\envs\\llm\\lib\\site-packages (from python-dateutil>=2.8.2->pandas->llama-index-core<0.11.0,>=0.10.1->llama-index-embeddings-instructor) (1.16.0)\n"
     ]
    }
   ],
   "source": [
    "# 安装所有依赖\n",
    "!pip install -i https://pypi.tuna.tsinghua.edu.cn/simple python-dotenv ipykernel llama-index nest_asyncio\n",
    "!pip install -i https://pypi.tuna.tsinghua.edu.cn/simple timm\n",
    "!pip install -i https://pypi.tuna.tsinghua.edu.cn/simple llama-index-llms-huggingface\n",
    "!pip install -i https://pypi.tuna.tsinghua.edu.cn/simple llama-index-embeddings-huggingface\n",
    "!pip install -i https://pypi.tuna.tsinghua.edu.cn/simple llama-index-embeddings-instructor"
   ]
  },
  {
   "cell_type": "code",
   "execution_count": 11,
   "metadata": {},
   "outputs": [],
   "source": [
    "from llama_index.core import SimpleDirectoryReader\n",
    "\n",
    "# 加载PDF数据，这里雄哥以卖油翁为例，可以改为自己的任意数据放在datasets文件夹即可，或改为指定的绝对路径\n",
    "documents = SimpleDirectoryReader(input_files=[\"./datasets/maiyouweng.pdf\"]).load_data()"
   ]
  },
  {
   "cell_type": "code",
   "execution_count": 12,
   "metadata": {},
   "outputs": [],
   "source": [
    "from llama_index.core.node_parser import SentenceSplitter\n",
    "\n",
    "# 把文本分块，chunk_size为1024，每一块的大小\n",
    "splitter = SentenceSplitter(chunk_size=1024)\n",
    "# 创建文档的节点\n",
    "nodes = splitter.get_nodes_from_documents(documents)"
   ]
  },
  {
   "cell_type": "code",
   "execution_count": 14,
   "metadata": {},
   "outputs": [
    {
     "name": "stdout",
     "output_type": "stream",
     "text": [
      "page_label: 1\n",
      "file_name: maiyouweng.pdf\n",
      "file_path: datasets\\maiyouweng.pdf\n",
      "file_type: application/pdf\n",
      "file_size: 429687\n",
      "creation_date: 2024-06-18\n",
      "last_modified_date: 2024-06-18\n",
      "\n",
      "《卖油翁》\n",
      "一、教材解析：\n",
      "《卖油翁》是人教版社初中语文七年级下册第三单元的第12课。《卖油翁》一文故事性强，\n",
      "形象鲜明，哲理深刻，集趣味性、文学性、思想性于一体。课文主要通过卖油翁与陈尧咨的\n",
      "对话及卖油翁酌油的事例，说明了熟能生巧的道理。\n",
      "二、作品原文\n",
      "陈康肃公/善射，当世/无双，公/亦以此自矜。尝/射于家圃，有卖油翁/释担而立，睨之\n",
      "久而不去。见其发矢/十中八九，但/微颔之。\n",
      "康肃问曰：“汝亦知射乎？吾射不亦精乎？”翁曰：“无他，但手熟尔。”康肃/忿然曰：“尔\n",
      "/安敢/轻吾射！”翁曰：“以我/酌油/知之。”乃取一葫芦/置于地，以钱/覆其口，徐/以杓/酌\n",
      "油/沥之，自/钱孔入，而/钱不湿。因曰：“我/亦无他,惟/手熟尔。”康肃/笑而遣之。\n",
      "三、词句注释\n",
      "1.陈康肃公：即陈尧咨，谥号康肃，北宋人。公，旧时对男子的尊称。善射：擅长射\n",
      "箭。本句一作“陈康肃公善射”。\n",
      "2.以：凭借、按照\n",
      "3.自矜（jīn）：自夸。\n",
      "4.家圃（pǔ）：家里（射箭的）场地。圃，园子，这里指场地。\n",
      "5.释担：放下担子。释，放。而：表承接。\n",
      "6.睨（nì）：斜着眼看，形容不在意的样子。\n",
      "7.去：离开。\n",
      "8.发：射，射箭。\n",
      "9.但微颔（hàn）之：只是微微对此点头，意思是略微表示赞许。但，只、不过。颔\n",
      "之，就是“对之颔”。颔，点头。之，指陈尧咨射箭十中八九这一情况。\n",
      "10.无他：没有别的（奥妙）。\n",
      "11.但手熟尔：不过手熟罢了。但，只，不过。熟，熟练。尔，同“耳”，相当于“罢了”。\n",
      "12.忿（fèn）然：气愤的样子。然，作形容词或者副词的词尾，相当于“的”或“地”。\n",
      "13.安：怎么。轻吾射：看轻我射箭（的本领）。轻，作动词用。\n",
      "14.以我酌（zhuó）油知之：凭我倒油（的经验）知道这个（道理）。以，凭、靠。\n",
      "酌，斟酒，这里指倒油。之，指射箭也是凭手熟的道理。\n",
      "15.覆：盖。\n",
      "16.\n"
     ]
    }
   ],
   "source": [
    "# 这里可以打印每一个块的信息！\n",
    "node_metadata = nodes[0].get_content(metadata_mode=True)\n",
    "print(node_metadata)"
   ]
  },
  {
   "cell_type": "code",
   "execution_count": 4,
   "metadata": {},
   "outputs": [
    {
     "name": "stderr",
     "output_type": "stream",
     "text": [
      "C:\\Users\\ouhui\\.conda\\envs\\xuehai3\\lib\\site-packages\\pydantic\\_internal\\_fields.py:160: UserWarning: Field \"model_id\" has conflict with protected namespace \"model_\".\n",
      "\n",
      "You may be able to resolve this warning by setting `model_config['protected_namespaces'] = ()`.\n",
      "  warnings.warn(\n"
     ]
    }
   ],
   "source": [
    "from llama_index.llms.huggingface import HuggingFaceLLM\n",
    "from llama_index.embeddings.huggingface import HuggingFaceEmbedding"
   ]
  },
  {
   "cell_type": "code",
   "execution_count": 5,
   "metadata": {},
   "outputs": [
    {
     "data": {
      "application/vnd.jupyter.widget-view+json": {
       "model_id": "b025ec2e7c724a9fa9d0f360d6addda4",
       "version_major": 2,
       "version_minor": 0
      },
      "text/plain": [
       "Loading checkpoint shards:   0%|          | 0/4 [00:00<?, ?it/s]"
      ]
     },
     "metadata": {},
     "output_type": "display_data"
    },
    {
     "name": "stderr",
     "output_type": "stream",
     "text": [
      "WARNING:root:Some parameters are on the meta device device because they were offloaded to the cpu.\n",
      "Special tokens have been added in the vocabulary, make sure the associated word embeddings are fine-tuned or trained.\n"
     ]
    }
   ],
   "source": [
    "# 加载本地的qwen2-7b，你本地的模型放在哪就直接改路径\n",
    "llm = HuggingFaceLLM(\n",
    "    tokenizer_name=\"G:\\\\models\\\\Qwen2-7B-Instruct\",\n",
    "    model_name=\"G:\\\\models\\\\Qwen2-7B-Instruct\",\n",
    "    device_map=\"auto\",\n",
    "    tokenizer_kwargs={\"trust_remote_code\": True},\n",
    "    model_kwargs={\"trust_remote_code\": True},\n",
    ")"
   ]
  },
  {
   "cell_type": "code",
   "execution_count": 6,
   "metadata": {},
   "outputs": [
    {
     "name": "stderr",
     "output_type": "stream",
     "text": [
      "C:\\Users\\ouhui\\.conda\\envs\\xuehai3\\lib\\site-packages\\torch\\_utils.py:831: UserWarning: TypedStorage is deprecated. It will be removed in the future and UntypedStorage will be the only storage class. This should only matter to you if you are using storages directly.  To access UntypedStorage directly, use tensor.untyped_storage() instead of tensor.storage()\n",
      "  return self.fget.__get__(instance, owner)()\n"
     ]
    }
   ],
   "source": [
    "# 调用本地bce-embedding-base_v1作为embedding模型\n",
    "\n",
    "embed_args = {\n",
    "    'model_name': 'hkunlp/instructor-base', \n",
    "    'max_length': 512, \n",
    "    'embed_batch_size': 32, \n",
    "    'device': 'cuda'\n",
    "    }\n",
    "embed_model = HuggingFaceEmbedding(**embed_args)"
   ]
  },
  {
   "cell_type": "code",
   "execution_count": 7,
   "metadata": {},
   "outputs": [],
   "source": [
    "from llama_index.core import Settings\n",
    "# 把加载的模型添加到环境设置中，定义全局模型\n",
    "\n",
    "Settings.llm = llm\n",
    "Settings.embed_model = embed_model"
   ]
  },
  {
   "cell_type": "code",
   "execution_count": null,
   "metadata": {},
   "outputs": [],
   "source": [
    "from llama_index.llms.openai import OpenAI\n",
    "\n",
    "llm = OpenAI(model=\"gpt-3.5-turbo\")"
   ]
  },
  {
   "cell_type": "code",
   "execution_count": 8,
   "metadata": {
    "scrolled": true
   },
   "outputs": [],
   "source": [
    "from llama_index.core import SummaryIndex, VectorStoreIndex\n",
    "\n",
    "# 创建数据摘要索引\n",
    "summary_index = SummaryIndex(nodes)\n",
    "# 创建矢量存储索引\n",
    "vector_index = VectorStoreIndex(nodes)"
   ]
  },
  {
   "cell_type": "code",
   "execution_count": 9,
   "metadata": {},
   "outputs": [],
   "source": [
    "# 把这些索引，转换为工具，后面雄哥就可以调用这些工具\n",
    "# 摘要查询引擎\n",
    "summary_query_engine = summary_index.as_query_engine(\n",
    "    response_mode=\"tree_summarize\",\n",
    "    use_async=True,\n",
    ")\n",
    "\n",
    "# 向量查询引擎\n",
    "vector_query_engine = vector_index.as_query_engine()"
   ]
  },
  {
   "cell_type": "code",
   "execution_count": 10,
   "metadata": {},
   "outputs": [],
   "source": [
    "from llama_index.core.tools import QueryEngineTool\n",
    "\n",
    "# 定义summary_tool的工具\n",
    "summary_tool = QueryEngineTool.from_defaults(\n",
    "    query_engine=summary_query_engine,\n",
    "    description=(\n",
    "        \"适用于生成与卖油翁课堂相关的摘要问题。\"\n",
    "    ),\n",
    ")\n",
    "\n",
    "# 定义vector_tool的工具\n",
    "vector_tool = QueryEngineTool.from_defaults(\n",
    "    query_engine=vector_query_engine,\n",
    "    description=(\n",
    "        \"适用于检索卖油翁常规上下文的问题。\"\n",
    "    ),\n",
    ")"
   ]
  },
  {
   "cell_type": "code",
   "execution_count": 16,
   "metadata": {},
   "outputs": [],
   "source": [
    "from llama_index.core.query_engine.router_query_engine import RouterQueryEngine\n",
    "from llama_index.core.selectors import LLMSingleSelector\n",
    "\n",
    "# 定义所有的tools\n",
    "query_engine = RouterQueryEngine(\n",
    "    selector=LLMSingleSelector.from_defaults(),\n",
    "    query_engine_tools=[\n",
    "        summary_tool,\n",
    "        vector_tool,\n",
    "    ],\n",
    "    verbose=True\n",
    ")"
   ]
  },
  {
   "cell_type": "code",
   "execution_count": 17,
   "metadata": {},
   "outputs": [],
   "source": [
    "import nest_asyncio\n",
    "nest_asyncio.apply()"
   ]
  },
  {
   "cell_type": "code",
   "execution_count": 18,
   "metadata": {},
   "outputs": [
    {
     "name": "stdout",
     "output_type": "stream",
     "text": [
      "\u001b[1;3;38;5;200mSelecting query engine 0: 这个工具提供了关于《卖油翁》的快速总结和关键信息，直接回答了'卖油翁课堂有什么内容?'的问题。.\n",
      "\u001b[0m\u001b[1;3;38;5;200mSelecting query engine 1: 虽然这个工具能够深入分析人物关系和重要概念，但它并未直接回答问题中的具体内容。.\n",
      "\u001b[0m《卖油翁》课堂内容涉及以下几个方面：\n",
      "\n",
      "1. **教材解析**：讲解教材版本、章节位置，并强调文章的趣味性、文学价值和教育意义。\n",
      "\n",
      "2. **作品原文**：提供文章的原文，概述了陈尧咨擅长射箭以及卖油翁通过倒油技艺展示的“熟能生巧”道理。\n",
      "\n",
      "3. **词句注释**：对文章中的关键术语进行解释，例如“公”、“自矜”、“家圃”等。\n",
      "\n",
      "4. **白话译文**：将原文翻译为现代汉语，以便更好地理解文章内容。\n",
      "\n",
      "5. **重点句子解析**：选择并深入分析文章中的关键句子，以揭示文章的主题。\n",
      "\n",
      "6. **字词释义**：详细解析一词多义、代词、介词和连词的用法，以及“尔”等通假字的含义。\n",
      "\n",
      "课堂还涵盖了：\n",
      "\n",
      "- **文言词汇**：解释关键词的含义和用法，如“以”、“其”、“之”。\n",
      "\n",
      "- **语法结构**：分析句式特点，包括省略句、倒装句，以及特定句式的使用，如“吾射不亦精乎？”的表达方式\n"
     ]
    }
   ],
   "source": [
    "response = query_engine.query(\"卖油翁课堂有什么内容?\")\n",
    "print(str(response))"
   ]
  },
  {
   "cell_type": "code",
   "execution_count": 19,
   "metadata": {},
   "outputs": [
    {
     "name": "stdout",
     "output_type": "stream",
     "text": [
      "14\n"
     ]
    }
   ],
   "source": [
    "print(len(response.source_nodes))"
   ]
  },
  {
   "cell_type": "code",
   "execution_count": 25,
   "metadata": {},
   "outputs": [
    {
     "name": "stdout",
     "output_type": "stream",
     "text": [
      "\u001b[1;3;38;5;200mSelecting query engine 0: 这个工具可以帮助孩子更好地理解和记忆课文内容，因此是关于如何延展《卖油翁》这堂课的有效方法。.\n",
      "\u001b[0m\u001b[1;3;38;5;200mSelecting query engine 1: 虽然这个工具能提供更深入的理解，但主要侧重于分析人物关系和重要概念，可能不是最直接的方法来延展这堂课。.\n",
      "\u001b[0m《卖油翁》的课后延展可以从多个角度进行，旨在深化学生对文章的理解、提高其语文素养、促进思维发展，并培养实际生活中的技能与品质。以下是几个具体的延展方向：\n",
      "\n",
      "1. **深入理解主题与人物**：引导学生分析陈尧咨和卖油翁的人物性格，以及文章所传达的“熟能生巧”、“谦虚使人进步”等主题。鼓励学生思考这些概念在现实生活中的应用，如在学习新技能、解决日常问题时如何体现“熟能生巧”。\n",
      "\n",
      "2. **拓展阅读与比较**：推荐其他类似主题的文学作品，如《愚公移山》、《铁杵成针》等，让学生通过比较不同故事中的主题与情节，加深对“熟能生巧”这一理念的理解，同时培养批判性思维和跨文化理解能力。\n",
      "\n",
      "3. **实践操作与亲身体验**：鼓励学生尝试一些需要技巧和练习的活动，如烹饪、乐器演奏、书法等。通过亲身实践，体验技能提升的过程，记录并反思自己的感受与心得，从而更好地理解“熟能生巧”的意义。\n",
      "\n",
      "4. **讨论与分享**：组织课堂讨论，让学生分享\n"
     ]
    }
   ],
   "source": [
    "response = query_engine.query(\"卖油翁的课后如何延展？\")\n",
    "print(str(response))"
   ]
  },
  {
   "cell_type": "code",
   "execution_count": 26,
   "metadata": {},
   "outputs": [
    {
     "name": "stdout",
     "output_type": "stream",
     "text": [
      "14\n"
     ]
    }
   ],
   "source": [
    "print(len(response.source_nodes))"
   ]
  }
 ],
 "metadata": {
  "kernelspec": {
   "display_name": "llm",
   "language": "python",
   "name": "llm"
  },
  "language_info": {
   "codemirror_mode": {
    "name": "ipython",
    "version": 3
   },
   "file_extension": ".py",
   "mimetype": "text/x-python",
   "name": "python",
   "nbconvert_exporter": "python",
   "pygments_lexer": "ipython3",
   "version": "3.12.3"
  }
 },
 "nbformat": 4,
 "nbformat_minor": 4
}
