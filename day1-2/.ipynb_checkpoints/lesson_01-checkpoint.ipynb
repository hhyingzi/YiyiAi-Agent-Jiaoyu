{
 "cells": [
  {
   "cell_type": "code",
   "execution_count": null,
   "metadata": {
    "scrolled": true
   },
   "outputs": [],
   "source": [
    "# 安装所有依赖\n",
    "!pip install -i https://pypi.tuna.tsinghua.edu.cn/simple python-dotenv ipykernel llama-index nest_asyncio\n",
    "!pip install -i https://pypi.tuna.tsinghua.edu.cn/simple timm\n",
    "!pip install -i https://pypi.tuna.tsinghua.edu.cn/simple llama-index-llms-huggingface\n",
    "!pip install -i https://pypi.tuna.tsinghua.edu.cn/simple llama-index-embeddings-huggingface\n",
    "!pip install -i https://pypi.tuna.tsinghua.edu.cn/simple llama-index-embeddings-instructor"
   ]
  },
  {
   "cell_type": "code",
   "execution_count": 26,
   "metadata": {},
   "outputs": [
    {
     "name": "stdout",
     "output_type": "stream",
     "text": [
      "The dotenv extension is already loaded. To reload it, use:\n",
      "  %reload_ext dotenv\n",
      "通常是黄色的，但也有绿色或棕色的香蕉。\n"
     ]
    }
   ],
   "source": [
    "##### OpenAI Key 方案 #####\n",
    "from dotenv import load_dotenv\n",
    "load_dotenv(\".env\")\n",
    "    \n",
    "from llama_index.llms.openai import OpenAI\n",
    "from llama_index.embeddings.openai import OpenAIEmbedding\n",
    "llm = OpenAI(model=\"gpt-3.5-turbo\")\n",
    "embed_model = OpenAIEmbedding()\n",
    "\n",
    "# test chat\n",
    "response = llm.complete(\"香蕉的颜色是\")\n",
    "print(response)"
   ]
  },
  {
   "cell_type": "code",
   "execution_count": null,
   "metadata": {},
   "outputs": [],
   "source": [
    "##### 本地模型加载方案 #####\n",
    "from llama_index.llms.huggingface import HuggingFaceLLM\n",
    "from llama_index.embeddings.huggingface import HuggingFaceEmbedding\n",
    "\n",
    "# 加载本地的qwen2-7b，你本地的模型放在哪就直接改路径\n",
    "llm = HuggingFaceLLM(\n",
    "    tokenizer_name=\"G:\\\\models\\\\Qwen2-7B-Instruct\",\n",
    "    model_name=\"G:\\\\models\\\\Qwen2-7B-Instruct\",\n",
    "    device_map=\"auto\",\n",
    "    tokenizer_kwargs={\"trust_remote_code\": True},\n",
    "    model_kwargs={\"trust_remote_code\": True},\n",
    ")\n",
    "# 调用本地bce-embedding-base_v1作为embedding模型\n",
    "embed_args = {\n",
    "    'model_name': 'hkunlp/instructor-base', \n",
    "    'max_length': 512, \n",
    "    'embed_batch_size': 32, \n",
    "    'device': 'cuda'\n",
    "    }\n",
    "embed_model = HuggingFaceEmbedding(**embed_args)"
   ]
  },
  {
   "cell_type": "code",
   "execution_count": 25,
   "metadata": {},
   "outputs": [],
   "source": [
    "from llama_index.core import Settings\n",
    "Settings.llm = llm\n",
    "Settings.embed_model = embed_model"
   ]
  },
  {
   "cell_type": "code",
   "execution_count": 21,
   "metadata": {},
   "outputs": [],
   "source": [
    "import nest_asyncio\n",
    "nest_asyncio.apply()"
   ]
  },
  {
   "cell_type": "code",
   "execution_count": 22,
   "metadata": {},
   "outputs": [],
   "source": [
    "from llama_index.core import SimpleDirectoryReader\n",
    "\n",
    "# 加载PDF数据，这里雄哥以卖油翁为例，可以改为自己的任意数据放在datasets文件夹即可，或改为指定的绝对路径\n",
    "documents = SimpleDirectoryReader(input_files=[\"./datasets/maiyouweng.pdf\"]).load_data()"
   ]
  },
  {
   "cell_type": "code",
   "execution_count": 23,
   "metadata": {},
   "outputs": [],
   "source": [
    "from llama_index.core.node_parser import SentenceSplitter\n",
    "\n",
    "# 把文本分块，chunk_size为1024，每一块的大小\n",
    "splitter = SentenceSplitter(chunk_size=1024)\n",
    "# 创建文档的节点\n",
    "nodes = splitter.get_nodes_from_documents(documents)"
   ]
  },
  {
   "cell_type": "code",
   "execution_count": 24,
   "metadata": {},
   "outputs": [
    {
     "name": "stdout",
     "output_type": "stream",
     "text": [
      "12 page_label: 8\n",
      "file_name: maiyouweng.pdf\n",
      "file_path: datasets\\maiyouweng.pdf\n",
      "file_type: application/pdf\n",
      "file_size: 429687\n",
      "creation_date: 2024-06-18\n",
      "last_modified_date: 2024-06-18\n",
      "\n",
      "人物：陈尧咨和卖油翁。\n",
      "背景：陈尧咨善射，“当世无双”，因而“自矜”。\n",
      "9.汝亦知射乎？吾射不亦精乎”连用两个问句表现了陈尧咨怎样的性格特点？\n",
      "先用一个疑问句，再用一个反问句，表现出陈尧咨因“善射”而“自矜”的性格特点。\n",
      "10.卖油翁说“我亦无他，惟手熟尔”表明了什么？\n",
      "表明自己并非如陈尧咨所认为的“轻吾射”，呼应了上文对陈尧咨射技的评价，再次说明“熟\n",
      "能生巧”的道理；也表现了卖油翁不卑不亢、沉着镇静的性格特点。\n",
      "11.“康肃笑而遣之”中的“笑”说明了什么？\n",
      "说明陈尧咨看到卖油翁高超的技艺心服口服，认输了。\n",
      "12.故事中只有两个人物，我们如果把题目《卖油翁》改成《陈尧咨和卖油翁》好吗?\n",
      "不好。事端是卖油翁引起的，他如果不“释担而立”，不露出轻视的表情，陈尧咨就不会发问；\n",
      "事情又是由他解决的——以酌油技术平息了陈尧咨的愤怒情绪。卖油翁的酌油表演，明显技\n",
      "高一筹，是作者详写的部分；陈尧咨的射技，作者以“发矢十中八九”一笔带过，是略写。再\n",
      "者，卖油翁身怀绝技，谦虚沉着；陈尧咨却因“善射”而自我炫耀，趾高气扬。卖油翁在事\n",
      "件发展的全过程中起了主导作用。\n",
      "13、高超的箭法真的能等同于往葫芦里灌油吗？好箭法真的只是“手熟”而已吗？再读课文，\n",
      "把你的观点写下来。\n",
      "从常识来看，从钱眼里注油入葫芦，不漏一滴，不沾钱孔，的确是手熟之技，但与高超的箭\n",
      "发是不能等量齐观的。练成如此箭法不仅仅靠“手熟”两字，还要有过人的意志、超常的悟性、\n",
      "良好的天赋等。正如有人说得好，“陈尧咨只要放下架子，肯定能学会倒油；卖油翁拼老命\n",
      "也学不会拉弓搭箭，十中八九”，两者的技术含量不可同日而语。\n"
     ]
    }
   ],
   "source": [
    "# 这里可以打印每一个块的信息！\n",
    "node_metadata = nodes[11].get_content(metadata_mode=True)\n",
    "print(len(nodes), node_metadata)"
   ]
  },
  {
   "cell_type": "code",
   "execution_count": 27,
   "metadata": {
    "scrolled": true
   },
   "outputs": [],
   "source": [
    "from llama_index.core import SummaryIndex, VectorStoreIndex\n",
    "\n",
    "# 创建数据摘要索引\n",
    "summary_index = SummaryIndex(nodes)\n",
    "# 创建矢量存储索引\n",
    "vector_index = VectorStoreIndex(nodes)"
   ]
  },
  {
   "cell_type": "code",
   "execution_count": 28,
   "metadata": {},
   "outputs": [],
   "source": [
    "# 把这些索引，转换为工具，后面雄哥就可以调用这些工具\n",
    "# 摘要查询引擎\n",
    "summary_query_engine = summary_index.as_query_engine(\n",
    "    response_mode=\"tree_summarize\",\n",
    "    use_async=True,\n",
    ")\n",
    "\n",
    "# 向量查询引擎\n",
    "vector_query_engine = vector_index.as_query_engine()"
   ]
  },
  {
   "cell_type": "code",
   "execution_count": 29,
   "metadata": {},
   "outputs": [],
   "source": [
    "from llama_index.core.tools import QueryEngineTool\n",
    "\n",
    "# 定义summary_tool的工具\n",
    "summary_tool = QueryEngineTool.from_defaults(\n",
    "    query_engine=summary_query_engine,\n",
    "    description=(\n",
    "        \"适用于生成与卖油翁课堂相关的摘要问题。\"\n",
    "    ),\n",
    ")\n",
    "\n",
    "# 定义vector_tool的工具\n",
    "vector_tool = QueryEngineTool.from_defaults(\n",
    "    query_engine=vector_query_engine,\n",
    "    description=(\n",
    "        \"适用于检索卖油翁常规上下文的问题。\"\n",
    "    ),\n",
    ")"
   ]
  },
  {
   "cell_type": "code",
   "execution_count": 30,
   "metadata": {},
   "outputs": [],
   "source": [
    "from llama_index.core.query_engine.router_query_engine import RouterQueryEngine\n",
    "from llama_index.core.selectors import LLMSingleSelector\n",
    "\n",
    "# 定义所有的tools\n",
    "query_engine = RouterQueryEngine(\n",
    "    selector=LLMSingleSelector.from_defaults(),\n",
    "    query_engine_tools=[\n",
    "        summary_tool,\n",
    "        vector_tool,\n",
    "    ],\n",
    "    verbose=True\n",
    ")"
   ]
  },
  {
   "cell_type": "code",
   "execution_count": 31,
   "metadata": {},
   "outputs": [
    {
     "name": "stdout",
     "output_type": "stream",
     "text": [
      "\u001b[1;3;38;5;200mSelecting query engine 0: This choice specifically mentions generating summaries related to the classroom of the oil seller, which is directly relevant to the question about the content of the oil seller's classroom..\n",
      "\u001b[0m在家里的射箭场地射箭，有个卖油的老翁放下担子，站在那里斜着眼睛看着他，很久都没有离开。\n"
     ]
    }
   ],
   "source": [
    "response = query_engine.query(\"卖油翁课堂有什么内容?\")\n",
    "print(str(response))"
   ]
  },
  {
   "cell_type": "code",
   "execution_count": 33,
   "metadata": {},
   "outputs": [
    {
     "name": "stdout",
     "output_type": "stream",
     "text": [
      "12\n"
     ]
    }
   ],
   "source": [
    "print(len(response.source_nodes))"
   ]
  },
  {
   "cell_type": "code",
   "execution_count": 34,
   "metadata": {},
   "outputs": [
    {
     "name": "stdout",
     "output_type": "stream",
     "text": [
      "\u001b[1;3;38;5;200mSelecting query engine 1: The question is asking about the general context of the article, which is more relevant to choice 2..\n",
      "\u001b[0mThe article \"卖油翁\" triggers contemplation about the importance of skill acquisition and the concept of \"熟能生巧\" (practice makes perfect). It also prompts reflection on the contrast between arrogance and humility, as depicted through the characters of Chen Yaozi and the oil seller.\n"
     ]
    }
   ],
   "source": [
    "response = query_engine.query(\"卖油翁的文章引发了什么思考？\")\n",
    "print(str(response))"
   ]
  },
  {
   "cell_type": "code",
   "execution_count": 35,
   "metadata": {},
   "outputs": [
    {
     "name": "stdout",
     "output_type": "stream",
     "text": [
      "2\n",
      "Node ID: 298b0713-0d39-4cf3-bff2-69b59e12d0a2\n",
      "Text: 5、读了课文，你认为一个人应该如何让看待自己和别人的长处？你想起哪些名言警句？ 三人行，必有我师焉。\n",
      "择其善者而从之，其不善者而改之。 人外有人，天外有天。取人之长，补己之短。 谦虚使人进步，骄傲使人落后。 自满人十事九空，虚心人万事可成。\n",
      "十一、问答题： 1.课文中的两个人物，哪一个是主要人物？为什么？\n",
      "卖油翁。因为故事的目的是通过卖油翁对酌油的技巧的解释来揭示熟能生巧的道理。（意近 即可）\n",
      "2.描述陈尧咨射箭和卖油翁酌油这两段文字，哪一段写得比较详细，哪一段写得比较简略， 这是为什么？\n",
      "答：写卖油翁沥油一段详细，为突出他以理服暴，以“酌油”技艺制服对方的形象；略写陈尧\n",
      "咨的射技，只用“十中八九”略写，对他恃技骄横则较详，便于突出各自性格，突出文章中心。 3.“有卖油翁释担而立，睨之...\n",
      "Score:  0.853\n",
      "\n",
      "Node ID: 172d300a-a3af-415b-84eb-e8c38f553506\n",
      "Text: 《卖油翁》 的创作背 景宋英宗治平 四年（1067 年）文学创作背景欧阳修因遭飞语中伤，自 请外任，在出知亳州时作《卖油翁》\n",
      "《卖油翁》 中的主要 人物解读不明确人物形象分析卖油翁是主要人物，康肃 公是次要人物，通过陈尧咨的骄傲自满\n",
      "突出了卖油翁的才艺和“业精于勤，熟 能生巧”的道理 《卖油翁》 的误读现 象 20世纪以来文学作品解读误区20世纪以来，《卖\n",
      "油翁》被逐渐误读为讲述熟能生巧的道 理，而欧阳修的真实意图是通过故事揭 示射箭技能获得途径的重要性 《卖油翁》 的人物形\n",
      "象分析不明确人物形象分析教师和学生对陈尧咨和 卖油翁的人物形象进行了不同的解读， 包括自以为是、傲慢自大的陈尧咨与谦\n",
      "虚沉稳、深藏不露的卖油翁等观点 《卖油翁》 的故事寓 意不明确文学作品主题解读《卖油翁》通过陈...\n",
      "Score:  0.850\n",
      "\n"
     ]
    }
   ],
   "source": [
    "print(len(response.source_nodes))\n",
    "for node in response.source_nodes:\n",
    "    print(node)"
   ]
  }
 ],
 "metadata": {
  "kernelspec": {
   "display_name": "llm",
   "language": "python",
   "name": "llm"
  },
  "language_info": {
   "codemirror_mode": {
    "name": "ipython",
    "version": 3
   },
   "file_extension": ".py",
   "mimetype": "text/x-python",
   "name": "python",
   "nbconvert_exporter": "python",
   "pygments_lexer": "ipython3",
   "version": "3.12.3"
  }
 },
 "nbformat": 4,
 "nbformat_minor": 4
}
